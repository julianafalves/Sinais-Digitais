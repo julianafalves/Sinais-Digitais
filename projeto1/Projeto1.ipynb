{
 "cells": [
  {
   "cell_type": "markdown",
   "metadata": {
    "id": "834kOYUf8Di0"
   },
   "source": [
    "# 1o Trabalho de PSD (notebook para preencher com os resultados)"
   ]
  },
  {
   "cell_type": "markdown",
   "metadata": {
    "id": "tN-Ek7Fu8Di5"
   },
   "source": [
    "### Número do Grupo : G04\n",
    "* Italo Carvalho Vianelli Ribeiro (RA: 769687)\n",
    "* João Gabriel Viana Hirasawa (RA: 759055)\n",
    "* Juliana Ferreira Alves (RA: 744794)"
   ]
  },
  {
   "cell_type": "code",
   "execution_count": 1,
   "metadata": {
    "id": "VL8D-64O8Di7",
    "jupyter": {
     "outputs_hidden": false
    }
   },
   "outputs": [],
   "source": [
    "import sk_dsp_comm.sigsys as ss\n",
    "import numpy as np\n",
    "from matplotlib import pylab\n",
    "from pylab import *\n",
    "import scipy.signal as signal\n",
    "from IPython.display import Audio, display\n",
    "from IPython.display import Image, SVG"
   ]
  },
  {
   "cell_type": "code",
   "execution_count": 2,
   "metadata": {
    "id": "clbJleYj8DjB",
    "jupyter": {
     "outputs_hidden": false
    }
   },
   "outputs": [],
   "source": [
    "pylab.rcParams['savefig.dpi'] = 100 # default 72\n",
    "pylab.rcParams['figure.figsize'] = (6.0, 4.0) # default (6,4)\n",
    "%config InlineBackend.figure_formats=['png'] # default for inline viewing\n",
    "#config InlineBackend.figure_formats=['svg'] # SVG inline viewing\n",
    "#%config InlineBackend.figure_formats=['pdf'] # render pdf figs for LaTeX"
   ]
  },
  {
   "cell_type": "markdown",
   "metadata": {
    "id": "BL8ID_Kq8DjB"
   },
   "source": [
    "# Problema 1\n",
    " Usando a função stem() em Python calcule e plote as seguintes funções\n",
    "$$\n",
    "\\begin{align}\n",
    "    x_1[n] &= \\sin\\big(\\frac{\\pi}{5}n\\big),\\ 0\\leq n \\leq 15 \\\\\n",
    "    x_2[n] &= \\cos\\big(\\frac{3\\pi}{5}n\\big),\\ 0\\leq n \\leq 15 \\\\\n",
    "    x_3[n] &= \\sin\\big(\\frac{\\pi}{4}n\\big)\\cos\\big(\\frac{\\pi}{4}n\\big),\\ 0\\leq n \\leq 32\n",
    "\\end{align}\n",
    "$$\n",
    "Qual é o período da fundamental de cada sinal?"
   ]
  },
  {
   "cell_type": "markdown",
   "metadata": {
    "id": "6QiozhDXLax4"
   },
   "source": [
    "**Explicação:** Sabendo que para sinais senoidais complexas ser periódica deve satisfazer a equação: $N = \\frac{2\\pi}{\\Omega_o}\\cdot k\\ $ , em que $k$ e $N$ devem ser valores inteiros.\n",
    "\n",
    "Assim, foi criada uma função chamada `fundamental()` que recebe o valor da frequência angular ($\\Omega_o$) e calcula o período fundamental de acordo com a equação buscando o menor valor $k$ inteiro para obter o período fundamental inteiro. Além disso, foram construídos os sinais em gráfico para se observar quando $x[n] = x[n + N]$ e confirmar a periodicidade encontrada."
   ]
  },
  {
   "cell_type": "code",
   "execution_count": 3,
   "metadata": {
    "id": "pmrm6XU9_gUr"
   },
   "outputs": [],
   "source": [
    "def fundamental(omega):\n",
    "  '''Recebe o valor ômega de um sinal e retorna o período fundamental do sinal, se for periódico.'''\n",
    "\n",
    "  # Numerador da fórmula de N\n",
    "  numerador = 2 * np.pi\n",
    "\n",
    "  # Se ômega for múltiplo de pi\n",
    "  if omega % np.pi % omega == 0:\n",
    "    # Encontrar o valor de k\n",
    "    k = 1\n",
    "    while True:\n",
    "      N = (numerador * k / omega)\n",
    "      k += 1\n",
    "      # Se N for um número inteiro, encontrou\n",
    "      if N.is_integer():\n",
    "        return int(N)\n",
    "  \n",
    "  return None"
   ]
  },
  {
   "cell_type": "markdown",
   "metadata": {
    "id": "fSD7Negr8DjC"
   },
   "source": [
    "## Parte a - sinal $x_1[n]$\n",
    "O período da fundamental, $N$, é **10**."
   ]
  },
  {
   "cell_type": "code",
   "execution_count": 4,
   "metadata": {
    "id": "WrKW2y6D8DjC"
   },
   "outputs": [],
   "source": [
    "def x1(n):\n",
    "   return np.sin((np.pi/5)*n)\n",
    "   \n",
    "n = np.arange(0, 15+1, dtype='int64')"
   ]
  },
  {
   "cell_type": "code",
   "execution_count": 5,
   "metadata": {
    "colab": {
     "base_uri": "https://localhost:8080/",
     "height": 281
    },
    "id": "V03zIhUp-mlF",
    "outputId": "a1990476-cfcc-4abf-802c-b8e91697d3c7"
   },
   "outputs": [
    {
     "data": {
      "image/png": "[encoded data removed]",
      "text/plain": [
       "<Figure size 432x288 with 1 Axes>"
      ]
     },
     "metadata": {
      "needs_background": "light"
     },
     "output_type": "display_data"
    }
   ],
   "source": [
    "stem(n, x1(n), use_line_collection=True)\n",
    "title('x1[n]')\n",
    "show()"
   ]
  },
  {
   "cell_type": "code",
   "execution_count": 6,
   "metadata": {
    "colab": {
     "base_uri": "https://localhost:8080/"
    },
    "id": "wU9vMR28D_Qe",
    "outputId": "4f5ca294-6411-42b4-9a89-3bc21a4af1f2"
   },
   "outputs": [
    {
     "name": "stdout",
     "output_type": "stream",
     "text": [
      "Período fundamental = 10\n"
     ]
    }
   ],
   "source": [
    "periodo = fundamental(np.pi/5)\n",
    "print('Período fundamental =', periodo)"
   ]
  },
  {
   "cell_type": "markdown",
   "metadata": {
    "id": "hZ0jeNeP8DjC"
   },
   "source": [
    "## Parte b - sinal $x_2[n]$\n",
    "O período da fundamental, $N$, é **10**.\n",
    "\n",
    "O perído fundamental foi determinado da mesma maneira realizada na parte a, utilizando a função `fundamental()` criada e analisando a periodicidade de seus sinais construindo seu gráfico."
   ]
  },
  {
   "cell_type": "code",
   "execution_count": 7,
   "metadata": {
    "id": "gaRoTRM78DjD"
   },
   "outputs": [],
   "source": [
    "def x2(n):\n",
    "   return np.cos((3*np.pi/5)*n)\n",
    "   \n",
    "n = np.arange(0, 15+1, dtype='int64')"
   ]
  },
  {
   "cell_type": "code",
   "execution_count": 8,
   "metadata": {
    "colab": {
     "base_uri": "https://localhost:8080/",
     "height": 281
    },
    "id": "vHYynzB7OL1U",
    "outputId": "ec4bae90-e41b-4c01-9120-61f37cc2bbab"
   },
   "outputs": [
    {
     "data": {
      "image/png": "[encoded data removed]",
      "text/plain": [
       "<Figure size 432x288 with 1 Axes>"
      ]
     },
     "metadata": {
      "needs_background": "light"
     },
     "output_type": "display_data"
    }
   ],
   "source": [
    "stem(n, x2(n), use_line_collection=True)\n",
    "title('x2[n]')\n",
    "show()"
   ]
  },
  {
   "cell_type": "code",
   "execution_count": 9,
   "metadata": {
    "colab": {
     "base_uri": "https://localhost:8080/"
    },
    "id": "eJ7QGrzzfSh_",
    "outputId": "fd585f49-650f-458f-9969-4df553256faf"
   },
   "outputs": [
    {
     "name": "stdout",
     "output_type": "stream",
     "text": [
      "Período fundamental = 10\n"
     ]
    }
   ],
   "source": [
    "periodo = fundamental(3*np.pi/5)\n",
    "print('Período fundamental =', periodo)"
   ]
  },
  {
   "cell_type": "markdown",
   "metadata": {
    "id": "aqE-RQ_K8DjD"
   },
   "source": [
    "## Parte c - sinal $x_3[n]$\n",
    "Para encontrar o período, primeiro expanda o produto usando uma relação trigonomêtrica apropriada:\n",
    "$$\n",
    "    x_3[n] = \\frac{1}{2}\\left[\\sin(0\\cdot n) + \\sin\\big(\\frac{\\pi}{2}n\\big)\\right], 0\\leq n\\leq 32\n",
    "$$\n",
    "Você deve escolher $N$ tal que \n",
    "\n",
    "**Explicação:** Após abrir o produto usando uma relação trigonometrica e sabendo que $sin(0\\cdot n)$ é $0$ para quaisquer valor de $n$, temos que $x_3[n] = \\frac{1}{2}\\left[\\sin\\big(\\frac{\\pi}{2}n\\big)\\right]$. Assim, conseguimos o valor da frequência angular da função, e utilizar na função `fundamental()` desenvolvida e descobrir o valor do período fundamental, que neste caso tem o valor de $N = 4$. Como nas funções anteriores, também foi plotada a função no intervalo de 0 a 32 e verificada a periodicidade. \n"
   ]
  },
  {
   "cell_type": "code",
   "execution_count": 10,
   "metadata": {
    "id": "Jz2h8Vjb8DjE"
   },
   "outputs": [],
   "source": [
    "def x3(n):\n",
    "  return (1/2)*np.sin((n*np.pi)/2)\n",
    "\n",
    "n = np.arange(0, 32+1, dtype='int64')"
   ]
  },
  {
   "cell_type": "code",
   "execution_count": 11,
   "metadata": {
    "colab": {
     "base_uri": "https://localhost:8080/",
     "height": 281
    },
    "id": "Oh0VnVnUHtOg",
    "outputId": "c974bcc3-f3d6-4b6f-977a-c552d35ceefb"
   },
   "outputs": [
    {
     "data": {
      "image/png": "[encoded data removed]",
      "text/plain": [
       "<Figure size 432x288 with 1 Axes>"
      ]
     },
     "metadata": {
      "needs_background": "light"
     },
     "output_type": "display_data"
    }
   ],
   "source": [
    "stem(n,x3(n), use_line_collection=True)\n",
    "title('x3[n]')\n",
    "show()"
   ]
  },
  {
   "cell_type": "code",
   "execution_count": 12,
   "metadata": {
    "colab": {
     "base_uri": "https://localhost:8080/"
    },
    "id": "lU2ZAFqbH7O2",
    "outputId": "8cd3996e-5bfa-4d64-ac4f-65a090e270bc"
   },
   "outputs": [
    {
     "name": "stdout",
     "output_type": "stream",
     "text": [
      "Período fundamental = 4\n"
     ]
    }
   ],
   "source": [
    "periodo = fundamental(np.pi/2)\n",
    "print('Período fundamental =', periodo)"
   ]
  },
  {
   "cell_type": "markdown",
   "metadata": {
    "id": "u-El1iCS8DjF"
   },
   "source": [
    "# Problema 2\n",
    "Usando a função `stem()` calcule e plote a o sinal\n",
    "$$\n",
    "x[n] = \\begin{cases}\n",
    "        2n+1, & -3\\leq n\\leq 3 \\\\\n",
    "        0, & \\text{otherwise}\n",
    "        \\end{cases}\n",
    "$$\n",
    "no intervalo $-8\\leq n\\leq 8$. \n",
    "\n",
    "OBS: Criar a função $x[n]$ sem o uso de loop!! Observe ainda que o módulo python “sk_dsp_comm.sigsys” possui a função drect() que serve para criar uma função janela - estude o exemplo python ex2.py fornecido na aba “Material para realização dos projetos”. "
   ]
  },
  {
   "cell_type": "code",
   "execution_count": 13,
   "metadata": {
    "id": "5SpVwuww8DjG"
   },
   "outputs": [],
   "source": [
    "n = np.arange(-8,9)\n",
    "x = (2*n + 1) * ss.drect(n+3, N=7)"
   ]
  },
  {
   "cell_type": "code",
   "execution_count": 14,
   "metadata": {
    "colab": {
     "base_uri": "https://localhost:8080/",
     "height": 281
    },
    "id": "ewepMeFyKhNN",
    "outputId": "48326b06-c731-4950-bb6d-107070484ce4"
   },
   "outputs": [
    {
     "data": {
      "image/png": "[encoded data removed]",
      "text/plain": [
       "<Figure size 432x288 with 1 Axes>"
      ]
     },
     "metadata": {
      "needs_background": "light"
     },
     "output_type": "display_data"
    }
   ],
   "source": [
    "stem(n, x, use_line_collection=True)\n",
    "title('x[n]')\n",
    "show()"
   ]
  },
  {
   "cell_type": "markdown",
   "metadata": {
    "id": "AmHKLPFy8DjG"
   },
   "source": [
    "# Problema 3\n",
    "Usando a função `stem()` calcule e plote o sinal\n",
    "$$\n",
    "    x[n] = u[n]u[8-n] + u[n-2]-u[n-5]\n",
    "$$\n",
    "no intervalo $-2\\leq n\\leq 16$.  Observe que o módulo  `sigsys`  (aliased  como  `ss`)  possui a função `dstep()` definida, a qual pode tornar esse problema bastante simples.\n",
    "\n",
    "OBS: Estude os exemplos ex1.py e ex2.py fornecidos na aba “Material para realização dos projetos”."
   ]
  },
  {
   "cell_type": "markdown",
   "metadata": {
    "id": "SvSmQBb5FszR"
   },
   "source": [
    "**Explicação:** Para resolução do problema proprosto é utilizado a função degrau, no intervalo de -2 a 17. A função degrau é dada por: \n",
    "\n",
    "$$\n",
    "y[n] = \\begin{cases}\n",
    "        1, &  n\\geq 0 \\\\\n",
    "        0, & \\text{otherwise}\n",
    "        \\end{cases}\n",
    "$$\n",
    "\n",
    "Inicialmente as funções degrau foram aplicadas por partes, a cada ocorrência, para observação de seu comportamento. E por fim implementou-se a equação total $x[n]$."
   ]
  },
  {
   "cell_type": "code",
   "execution_count": 15,
   "metadata": {
    "id": "Al_zajKv8DjG"
   },
   "outputs": [],
   "source": [
    "n = np.arange(-2, 16+1)\n",
    "\n",
    "x = ss.dstep(n) * ss.dstep(8-n) + ss.dstep(n-2) - ss.dstep(n-5)"
   ]
  },
  {
   "cell_type": "code",
   "execution_count": 16,
   "metadata": {
    "colab": {
     "base_uri": "https://localhost:8080/",
     "height": 499
    },
    "id": "FGCX9LXuM2VF",
    "outputId": "cd8a6aa5-a555-450d-f8a9-6f4516c9e30b"
   },
   "outputs": [
    {
     "data": {
      "image/png": "[encoded data removed]",
      "text/plain": [
       "<Figure size 432x576 with 2 Axes>"
      ]
     },
     "metadata": {
      "needs_background": "light"
     },
     "output_type": "display_data"
    }
   ],
   "source": [
    "fig, axs = plt.subplots(2, 1, sharey=True, figsize=(6.0, 8.0))\n",
    "\n",
    "axs[0].stem(n, ss.dstep(n), use_line_collection=True)\n",
    "axs[0].set_title('u[n]')\n",
    "\n",
    "axs[1].stem(n, ss.dstep(8-n), use_line_collection=True)\n",
    "axs[1].set_title('u[8-n]')\n",
    "\n",
    "show()"
   ]
  },
  {
   "cell_type": "code",
   "execution_count": 17,
   "metadata": {
    "colab": {
     "base_uri": "https://localhost:8080/",
     "height": 499
    },
    "id": "F6briFc4QWIZ",
    "outputId": "cdb27559-0203-4573-ddc8-a14aeab0e6e6"
   },
   "outputs": [
    {
     "data": {
      "image/png": "[encoded data removed]",
      "text/plain": [
       "<Figure size 432x576 with 2 Axes>"
      ]
     },
     "metadata": {
      "needs_background": "light"
     },
     "output_type": "display_data"
    }
   ],
   "source": [
    "fig, axs = plt.subplots(2, 1, sharey=True, figsize=(6.0, 8.0))\n",
    "axs[0].stem(n, ss.dstep(n)*ss.dstep(8-n), use_line_collection=True)\n",
    "axs[0].set_title('u[n] * u[8-n]')\n",
    "\n",
    "axs[1].stem(n, ss.dstep(n)*ss.dstep(8-n)+ss.dstep(n-2), use_line_collection=True)\n",
    "axs[1].set_title('u[n] * u[8-n] - u[n-2]')\n",
    "show()"
   ]
  },
  {
   "cell_type": "code",
   "execution_count": 18,
   "metadata": {
    "colab": {
     "base_uri": "https://localhost:8080/",
     "height": 281
    },
    "id": "KVQ7MZwQHt_p",
    "outputId": "18fa97f5-616b-4e22-fba3-e17643c4b386"
   },
   "outputs": [
    {
     "data": {
      "image/png": "[encoded data removed]",
      "text/plain": [
       "<Figure size 432x288 with 1 Axes>"
      ]
     },
     "metadata": {
      "needs_background": "light"
     },
     "output_type": "display_data"
    }
   ],
   "source": [
    "stem(n, ss.dstep(n)*ss.dstep(8-n)+ss.dstep(n-2)-ss.dstep(n-5), use_line_collection=True)\n",
    "title('x[n] = u[n] * u[8-n] + u[n-2] - u[n-5]')\n",
    "show()"
   ]
  },
  {
   "cell_type": "markdown",
   "metadata": {
    "id": "DAwmwPmX8DjH"
   },
   "source": [
    "# Problema 4\n",
    "Considere o sinal\n",
    "$$\n",
    "    y[n] = \\begin{cases}\n",
    "        2, & n=0 \\\\\n",
    "        1, & n=1 \\\\\n",
    "        -1, & n=3 \\\\\n",
    "        3, & n=4 \\\\\n",
    "        0, & \\text{caso contrário}\n",
    "    \\end{cases}\n",
    "$$"
   ]
  },
  {
   "cell_type": "markdown",
   "metadata": {
    "id": "4ez7LfJF8DjH"
   },
   "source": [
    "Escreva uma função python ($y[n]$) como indicado abaixo para que você possa responder as questões que seguem."
   ]
  },
  {
   "cell_type": "markdown",
   "metadata": {
    "id": "MeHRAzJlKV9E"
   },
   "source": [
    "**Explicação:** Para este problema foi utilizada a função `dimpulse()` que funciona de maneira semelhante à função degrau. No entanto o impulso ocorre apenas em $n=0$. Sendo assim a função é manipulada realizando o deslocando em cada termo desejado.\n",
    "\n",
    "Vale salientar que foi utilizado o seguinte intervalo para testes: $-4 \\leq n \\lt 10$.\n",
    "\n",
    "O sinal original foi representado graficamente abaixo."
   ]
  },
  {
   "cell_type": "code",
   "execution_count": 19,
   "metadata": {
    "id": "RruipAgF8DjI"
   },
   "outputs": [],
   "source": [
    "def y(n):\n",
    "    yy = 2*ss.dimpulse(n) + 1*ss.dimpulse(n-1) - ss.dimpulse(n-3) + 3*ss.dimpulse(n-4)\n",
    "    return yy"
   ]
  },
  {
   "cell_type": "code",
   "execution_count": 20,
   "metadata": {
    "id": "DWlRdj9ASoIt"
   },
   "outputs": [],
   "source": [
    "n = np.arange(-4,10)"
   ]
  },
  {
   "cell_type": "code",
   "execution_count": 21,
   "metadata": {
    "colab": {
     "base_uri": "https://localhost:8080/",
     "height": 281
    },
    "id": "Vl3p2gGgv2fA",
    "outputId": "2de4124b-8924-490a-c43f-7198f93b6cd3"
   },
   "outputs": [
    {
     "data": {
      "image/png": "[encoded data removed]",
      "text/plain": [
       "<Figure size 432x288 with 1 Axes>"
      ]
     },
     "metadata": {
      "needs_background": "light"
     },
     "output_type": "display_data"
    }
   ],
   "source": [
    "stem(n, y(n), use_line_collection=True)\n",
    "title('y[n]')\n",
    "show()"
   ]
  },
  {
   "cell_type": "markdown",
   "metadata": {
    "id": "6DAT81Cs8DjI"
   },
   "source": [
    "## Parte a\n",
    "Usando a função `stem()` plote $z_1[n] = y[n-2]$."
   ]
  },
  {
   "cell_type": "markdown",
   "metadata": {
    "id": "k3jfTXHjO3Kr"
   },
   "source": [
    "**Explicação:** Neste caso a entrada foi deslocada duas vezes à direita. Portanto a saída esperada no enunciado também sofreu este deslocamento. \n",
    "$$\n",
    "    z_{1}[n] = \\begin{cases}\n",
    "        2, & n=2 \\\\\n",
    "        1, & n=3 \\\\\n",
    "        -1, & n=5 \\\\\n",
    "        3, & n=6 \\\\\n",
    "        0, & \\text{caso contrário}\n",
    "    \\end{cases}\n",
    "$$"
   ]
  },
  {
   "cell_type": "code",
   "execution_count": 22,
   "metadata": {
    "colab": {
     "base_uri": "https://localhost:8080/",
     "height": 281
    },
    "id": "gcKJ34tn8DjI",
    "outputId": "3df56bf1-f4e1-4463-d3b3-ba2ab63f846c"
   },
   "outputs": [
    {
     "data": {
      "image/png": "[encoded data removed]",
      "text/plain": [
       "<Figure size 432x288 with 1 Axes>"
      ]
     },
     "metadata": {
      "needs_background": "light"
     },
     "output_type": "display_data"
    }
   ],
   "source": [
    "stem(n, y(n-2), use_line_collection=True)\n",
    "title('z1[n] = y[n−2]')\n",
    "show()"
   ]
  },
  {
   "cell_type": "markdown",
   "metadata": {
    "id": "N4LANS978DjI"
   },
   "source": [
    "## Parte b\n",
    "Usando a função `stem()` plote $z_2[n] = y[n+2]$."
   ]
  },
  {
   "cell_type": "markdown",
   "metadata": {
    "id": "rJeQVJ6sQcUi"
   },
   "source": [
    "**Explicação:** Neste caso a entrada foi deslocada duas vezes à esquerda. Portanto a saída esperada no enunciado também sofreu este deslocamento. \n",
    "$$\n",
    "    z_{2}[n] = \\begin{cases}\n",
    "        2, & n=-2 \\\\\n",
    "        1, & n=-1 \\\\\n",
    "        -1, & n=1 \\\\\n",
    "        3, & n=2 \\\\\n",
    "        0, & \\text{caso contrário}\n",
    "    \\end{cases}\n",
    "$$"
   ]
  },
  {
   "cell_type": "code",
   "execution_count": 23,
   "metadata": {
    "colab": {
     "base_uri": "https://localhost:8080/",
     "height": 281
    },
    "id": "Nkq9KK7j8DjI",
    "outputId": "a439cf9d-cffa-4902-bbf9-3c782fa786b3"
   },
   "outputs": [
    {
     "data": {
      "image/png": "[encoded data removed]",
      "text/plain": [
       "<Figure size 432x288 with 1 Axes>"
      ]
     },
     "metadata": {
      "needs_background": "light"
     },
     "output_type": "display_data"
    }
   ],
   "source": [
    "stem(n,y(n+2), use_line_collection=True)\n",
    "title('z2[n] = y[n+2]')\n",
    "show()"
   ]
  },
  {
   "cell_type": "markdown",
   "metadata": {
    "id": "7EtbBoJE8DjJ"
   },
   "source": [
    "## Parte c\n",
    "Usando a função `stem()` plote $z_3[n] = y[-n]$."
   ]
  },
  {
   "cell_type": "markdown",
   "metadata": {
    "id": "1bUDgMHmQuM5"
   },
   "source": [
    "**Explicação:** Neste caso a entrada sofreu **reflexão**. Portanto a saída esperada no enunciado foi invertida:\n",
    "$$\n",
    "    z_{2}[n] = \\begin{cases}\n",
    "        2, & n= 0\\\\\n",
    "        1, & n=-1 \\\\\n",
    "        -1, & n=-2 \\\\\n",
    "        3, & n=-4 \\\\\n",
    "        0, & \\text{caso contrário}\n",
    "    \\end{cases}\n",
    "$$"
   ]
  },
  {
   "cell_type": "code",
   "execution_count": 24,
   "metadata": {
    "colab": {
     "base_uri": "https://localhost:8080/",
     "height": 281
    },
    "id": "yl07b2UU8DjJ",
    "outputId": "bdc070f6-8d7a-4d2d-c2c6-b310b5c42c6a"
   },
   "outputs": [
    {
     "data": {
      "image/png": "[encoded data removed]",
      "text/plain": [
       "<Figure size 432x288 with 1 Axes>"
      ]
     },
     "metadata": {
      "needs_background": "light"
     },
     "output_type": "display_data"
    }
   ],
   "source": [
    "stem(n,y(-n), use_line_collection=True)\n",
    "title('z3[n] = y[−n]')\n",
    "show()"
   ]
  },
  {
   "cell_type": "markdown",
   "metadata": {
    "id": "RjwtYFe08DjJ"
   },
   "source": [
    "# Problema 5\n",
    "Dado os sinais abaixo:\n",
    "$$\n",
    "\\begin{align}\n",
    "    x_1[n] &= \\{1,2,-3,2,1,1\\} \\;\\;\\;\\; h_1[n] = \\{1,2,-3\\}\\\\\n",
    "    x_2[n] &= \\{0,0,0,0,1,1,1,1,0,0,0,0,-1,-1,-1,-1,0,0,0,0\\}  \\;\\;\\;\\;  h_{2}[n]=\\{1,4,10,16,19,16,10,4,1\\}\n",
    "\\end{align}\n",
    "$$"
   ]
  },
  {
   "cell_type": "markdown",
   "metadata": {
    "id": "9kuuAe708DjJ"
   },
   "source": [
    "## Parte a\n",
    "Escrever uma função na linguagem python (__\"sem usar funções prontas de qualquer biblioteca\"__) para fazer a __convolução__ entre dois sinais unidimensionais (1D). "
   ]
  },
  {
   "cell_type": "markdown",
   "metadata": {
    "id": "P0V32rVd_0ww"
   },
   "source": [
    "**Explicação:** Para a operação de convolução, usamos o método apresentado em aula de deslocar $h[n]$ (após fazer a reflexão) e preencher os espaços com zero. Consideramos que o elemento $n=0$ é o primeiro elemento de cada sinal.\n",
    "\n",
    "Para exemplificar, tomemos $x_1[n]$ e $h_1[n]$. Então, na primeira iteração teríamos a seguinte operação:\n",
    "\n",
    "```\n",
    "[ 0  0  1  2 -3  2  1  1  0  0 ]\n",
    "              *\n",
    "[-3  2  1  0  0  0  0  0  0  0 ]\n",
    "================================\n",
    "[ 0  0  1  0  0  0  0  0  0  0 ] (+)=> 1 = y[0]\n",
    "```\n",
    "\n",
    "Para a segunda iteração, teríamos:\n",
    "\n",
    "```\n",
    "[ 0  0  1  2 -3  2  1  1  0  0 ]\n",
    "              *\n",
    "[ 0 -3  2  1  0  0  0  0  0  0 ]\n",
    "================================\n",
    "[ 0  0  2  2  0  0  0  0  0  0 ] (+)=> 4 = y[1]\n",
    "```\n",
    "\n",
    "E assim por diante, até chegar ao fim de $x[n]$.\n",
    "\n",
    "Para implementação deste método, realizamos o preenchimento demonstrados com os zeros no início e no fim de $x[n]$, invertendo $h[n]$ e completando com zeros para que os sinais tenham o mesmo tamanho de lista. Então, para a saída $y[n]$, os elementos são \"pareados\" com a função ```zip()``` e a multiplicação dos pares de elementos é feita em uma *list comprehension*, cujo somatório é feito com ```sum()```. Para avançar no loop, como no método, $h[n]$ é rotacionado para a direita.\n"
   ]
  },
  {
   "cell_type": "code",
   "execution_count": 25,
   "metadata": {
    "id": "P36SMAVfWYdF"
   },
   "outputs": [],
   "source": [
    "def conv(x,h):\n",
    "  '''Recebe um sinal de entrada x[n] e uma resposta impulsiva h[n] e retorna a convolução y[n] dos dois sinais.'''\n",
    "\n",
    "  # Tamanho do preenchimento com 0s\n",
    "  tam_extra = len(h) - 1\n",
    "\n",
    "  # Preenche x[n] com 0s no começo e no fim\n",
    "  x = tam_extra * [0] + x + tam_extra * [0]\n",
    "\n",
    "  # Inverte h[n] e preenche com 0s até o tamanho de x[n]\n",
    "  h = h[::-1] + (len(x)-len(h)) * [0]\n",
    "\n",
    "  # Saída\n",
    "  y = []\n",
    "\n",
    "  for _ in range(len(x) - tam_extra):\n",
    "    # Somatório dos produtos dos elementos de x e h\n",
    "    yn = sum([a * b for a, b in zip(x, h)])\n",
    "    y.append(yn)\n",
    "\n",
    "    # Deslocamento de h para a direita\n",
    "    h = [0] + h[:-1]\n",
    "  \n",
    "  return y"
   ]
  },
  {
   "cell_type": "markdown",
   "metadata": {
    "id": "7deNHhhU8DjK"
   },
   "source": [
    "## Parte b\n",
    "Faça a convolução entre os sinais $x_1*h_1$ e $x_2*h_2$ e plote usando a função stem os sinais originais e os resultados das convoluções."
   ]
  },
  {
   "cell_type": "code",
   "execution_count": 26,
   "metadata": {
    "id": "7rl7VkWe8DjL"
   },
   "outputs": [],
   "source": [
    "# Definição dos sinais x1 e h1\n",
    "x1 = [1, 2, -3, 2, 1, 1]\n",
    "h1 = [1, 2, -3]\n",
    "\n",
    "# Definição dos sinais x2 e h2\n",
    "x2 = [0, 0, 0, 0, 1, 1, 1, 1, 0, 0, 0, 0, -1, -1, -1, -1, 0, 0, 0, 0]\n",
    "h2 = [1, 4, 10, 16, 19, 16, 10, 4, 1]"
   ]
  },
  {
   "cell_type": "markdown",
   "metadata": {
    "id": "N-JI1O8hVeyR"
   },
   "source": [
    "### $x_1 * h_1$\n",
    "Abaixo estão os gráficos dos sinais originais $x_1[n]$ e $h_1[n]$ e o gráfico do resultado da convolução entre os dois sinais, $y_1[n]$."
   ]
  },
  {
   "cell_type": "code",
   "execution_count": 27,
   "metadata": {
    "colab": {
     "base_uri": "https://localhost:8080/",
     "height": 499
    },
    "id": "t8AxQa0LSTZ4",
    "outputId": "84d7df69-93fb-42d2-dbd0-773ac0327039"
   },
   "outputs": [
    {
     "data": {
      "image/png": "[encoded data removed]",
      "text/plain": [
       "<Figure size 432x576 with 2 Axes>"
      ]
     },
     "metadata": {
      "needs_background": "light"
     },
     "output_type": "display_data"
    }
   ],
   "source": [
    "fig = figure(figsize=(6.0, 8.0))\n",
    "\n",
    "sub1 = fig.add_subplot(211)\n",
    "sub1.set_title('x1[n]')\n",
    "sub1.stem(x1, use_line_collection=True)\n",
    "\n",
    "sub2 = fig.add_subplot(212)\n",
    "sub2.set_title('h1[n]')\n",
    "sub2.stem(h1, use_line_collection=True)\n",
    "\n",
    "show()"
   ]
  },
  {
   "cell_type": "code",
   "execution_count": 28,
   "metadata": {
    "colab": {
     "base_uri": "https://localhost:8080/",
     "height": 281
    },
    "id": "33XlTP4aoPLa",
    "outputId": "82c91e78-be70-4d68-d29d-e7a48082365a"
   },
   "outputs": [
    {
     "data": {
      "image/png": "[encoded data removed]",
      "text/plain": [
       "<Figure size 432x288 with 1 Axes>"
      ]
     },
     "metadata": {
      "needs_background": "light"
     },
     "output_type": "display_data"
    }
   ],
   "source": [
    "conv_x1_h1 = conv(x1,h1)\n",
    "\n",
    "stem(conv_x1_h1, use_line_collection=True)\n",
    "plt.title('y1[n] = x1[n] * h1[n]')\n",
    "show()"
   ]
  },
  {
   "cell_type": "markdown",
   "metadata": {
    "id": "y-67R349Vx-G"
   },
   "source": [
    "### $x_2 * h_2$\n",
    "Abaixo estão os gráficos dos sinais originais $x_2[n]$ e $h_2[n]$ e o gráfico do resultado da convolução entre os dois sinais, $y_2[n]$."
   ]
  },
  {
   "cell_type": "code",
   "execution_count": 29,
   "metadata": {
    "colab": {
     "base_uri": "https://localhost:8080/",
     "height": 499
    },
    "id": "CdQauScgU3u-",
    "outputId": "6db95524-6344-4c2f-d8d8-3b5fabb64926"
   },
   "outputs": [
    {
     "data": {
      "image/png": "[encoded data removed]",
      "text/plain": [
       "<Figure size 432x576 with 2 Axes>"
      ]
     },
     "metadata": {
      "needs_background": "light"
     },
     "output_type": "display_data"
    }
   ],
   "source": [
    "fig = figure(figsize=(6.0, 8.0))\n",
    "\n",
    "sub1 = fig.add_subplot(211)\n",
    "sub1.set_title('x2[n]')\n",
    "sub1.stem(x2, use_line_collection=True)\n",
    "\n",
    "sub2 = fig.add_subplot(212)\n",
    "sub2.set_title('h2[n]')\n",
    "sub2.stem(h2, use_line_collection=True)\n",
    "\n",
    "show()"
   ]
  },
  {
   "cell_type": "code",
   "execution_count": 30,
   "metadata": {
    "colab": {
     "base_uri": "https://localhost:8080/",
     "height": 281
    },
    "id": "0Lk3syJvcrIr",
    "outputId": "566871fe-767b-4b63-db6e-f5b72a46ab16"
   },
   "outputs": [
    {
     "data": {
      "image/png": "[encoded data removed]",
      "text/plain": [
       "<Figure size 432x288 with 1 Axes>"
      ]
     },
     "metadata": {
      "needs_background": "light"
     },
     "output_type": "display_data"
    }
   ],
   "source": [
    "conv_x2_h2 = conv(x2,h2)\n",
    "\n",
    "stem(conv_x2_h2, use_line_collection=True)\n",
    "plt.title('y2[n] = x2[n] * h2[n]')\n",
    "show()"
   ]
  },
  {
   "cell_type": "markdown",
   "metadata": {
    "id": "VU95n2UI8DjN"
   },
   "source": [
    "## Parte c\n",
    "De maneira similar à \"Parte b\" do exercício, usando __o mesmo código da função convolução__, faça a __correlação__ entre os sinais e plote os resultados.\n",
    "\n",
    "Dica, lembre-se que:\n",
    "\n",
    "Convolução: $ y[n] = \\sum_{k=-\\infty}^{\\infty} x[k]h[n-k]$\n",
    "\n",
    "Correlação: $ y[n] = \\sum_{k=-\\infty}^{\\infty} x[k]h[n+k]$"
   ]
  },
  {
   "cell_type": "markdown",
   "metadata": {
    "id": "3TGadRXbXgaz"
   },
   "source": [
    "**Explicação:** A implementação da função de correlação é bastante similar à função apresentada de convolução na **Parte a**. A única mudança feita foi que o sinal de $h[n]$ não recebe mais uma reflexão, mas sim utilizado em sua ordem original."
   ]
  },
  {
   "cell_type": "code",
   "execution_count": 31,
   "metadata": {
    "id": "61kwppzGWRTu"
   },
   "outputs": [],
   "source": [
    "def corr(x,h):\n",
    "  '''Recebe um sinal de entrada x[n] e uma resposta impulsiva h[n] e retorna a correlação y[n] dos dois sinais.'''\n",
    "\n",
    "  # Tamanho do preenchimento com 0s\n",
    "  tam_extra = len(h) - 1\n",
    "\n",
    "  # Preenche x[n] com 0s no começo e no fim\n",
    "  x = tam_extra * [0] + x + tam_extra * [0]\n",
    "\n",
    "  # Preenche h[n] com 0s até o tamanho de x[n]\n",
    "  h = h + (len(x)-len(h)) * [0]\n",
    "\n",
    "  # Saída\n",
    "  y = []\n",
    "\n",
    "  for _ in range(len(x) - tam_extra):\n",
    "    # Somatório dos produtos dos elementos de x e h\n",
    "    yn = sum([a * b for a, b in zip(x, h)])\n",
    "    y.append(yn)\n",
    "\n",
    "    # Deslocamento de h para a direita\n",
    "    h = [0] + h[:-1]\n",
    "  \n",
    "  return y"
   ]
  },
  {
   "cell_type": "markdown",
   "metadata": {
    "id": "gHdu2fy2YJ6U"
   },
   "source": [
    "### $\\text{corr(}x_1, h_1\\text{)}$\n",
    "Abaixo está o gráfico do resultado da correlação $y_1[n]$ entre os sinais $x_1[n]$ e $h_1[n]$."
   ]
  },
  {
   "cell_type": "code",
   "execution_count": 32,
   "metadata": {
    "colab": {
     "base_uri": "https://localhost:8080/",
     "height": 281
    },
    "id": "Ou4HZuzop_ZM",
    "outputId": "b2442816-7f5e-47bf-e39f-1d9467d88737"
   },
   "outputs": [
    {
     "data": {
      "image/png": "[encoded data removed]",
      "text/plain": [
       "<Figure size 432x288 with 1 Axes>"
      ]
     },
     "metadata": {
      "needs_background": "light"
     },
     "output_type": "display_data"
    }
   ],
   "source": [
    "corr_x1_h1 = corr(x1,h1)\n",
    "\n",
    "stem(corr_x1_h1, use_line_collection=True)\n",
    "plt.title('y1[n] = corr(x1[n], h1[n])')\n",
    "show()"
   ]
  },
  {
   "cell_type": "markdown",
   "metadata": {
    "id": "8Hfv3WKNYWie"
   },
   "source": [
    "### $\\text{corr(}x_2, h_2\\text{)}$\n",
    "Abaixo está o gráfico do resultado da correlação $y_2[n]$ entre os sinais $x_2[n]$ e $h_2[n]$."
   ]
  },
  {
   "cell_type": "code",
   "execution_count": 33,
   "metadata": {
    "colab": {
     "base_uri": "https://localhost:8080/",
     "height": 281
    },
    "id": "cTiEch2RdkTi",
    "outputId": "8f50a02c-3587-47c4-ff22-ff3d456539a9"
   },
   "outputs": [
    {
     "data": {
      "image/png": "[encoded data removed]",
      "text/plain": [
       "<Figure size 432x288 with 1 Axes>"
      ]
     },
     "metadata": {
      "needs_background": "light"
     },
     "output_type": "display_data"
    }
   ],
   "source": [
    "corr_x2_h2 = corr(x2,h2)\n",
    "\n",
    "stem(corr_x2_h2, use_line_collection=True)\n",
    "plt.title('y2[n] = corr(x2[n], h2[n])')\n",
    "show()"
   ]
  },
  {
   "cell_type": "markdown",
   "metadata": {
    "id": "MPgK5Fgm8DjP"
   },
   "source": [
    "## Parte d\n",
    "Utilize agora a função da biblioteca numpy (numpy.convolve) para realizar as mesmas convoluções da \"Parte a\". Use a função numpy.convolve - mode{‘full’} e discuta os resultados."
   ]
  },
  {
   "cell_type": "markdown",
   "metadata": {
    "id": "5HCtZj5dk1Lc"
   },
   "source": [
    "### $x_1 * h_1$"
   ]
  },
  {
   "cell_type": "code",
   "execution_count": 34,
   "metadata": {
    "colab": {
     "base_uri": "https://localhost:8080/",
     "height": 281
    },
    "id": "YdNr6odo8DjP",
    "outputId": "802e8636-f7fc-4ee3-e0ce-a4eada55b3ca"
   },
   "outputs": [
    {
     "data": {
      "image/png": "[encoded data removed]",
      "text/plain": [
       "<Figure size 432x288 with 1 Axes>"
      ]
     },
     "metadata": {
      "needs_background": "light"
     },
     "output_type": "display_data"
    }
   ],
   "source": [
    "np_conv_x1_h1 = np.convolve(x1, h1, mode='full')\n",
    "\n",
    "stem(np_conv_x1_h1, use_line_collection=True)\n",
    "plt.title('y1[n] = x1[n] * h1[n]')\n",
    "show()"
   ]
  },
  {
   "cell_type": "code",
   "execution_count": 35,
   "metadata": {
    "colab": {
     "base_uri": "https://localhost:8080/"
    },
    "id": "FW-eIUr6b1Gt",
    "outputId": "931f66db-a540-41b3-8813-997c9562cf90"
   },
   "outputs": [
    {
     "name": "stdout",
     "output_type": "stream",
     "text": [
      "Implementação própria:\n",
      "\ty1[n] = [1, 4, -2, -10, 14, -3, -1, -3]\n",
      "NumPy:\n",
      "\ty1[n] = [1, 4, -2, -10, 14, -3, -1, -3]\n"
     ]
    }
   ],
   "source": [
    "print('Implementação própria:')\n",
    "print('\\ty1[n] =', conv_x1_h1)\n",
    "print('NumPy:')\n",
    "print('\\ty1[n] =', list(np_conv_x1_h1))"
   ]
  },
  {
   "cell_type": "code",
   "execution_count": 36,
   "metadata": {
    "colab": {
     "base_uri": "https://localhost:8080/"
    },
    "id": "Gow8_Qfkcrva",
    "outputId": "fb64d881-7cc8-4b6d-d498-e56153b814f8"
   },
   "outputs": [
    {
     "name": "stdout",
     "output_type": "stream",
     "text": [
      "Resultados iguais: True\n"
     ]
    }
   ],
   "source": [
    "print('Resultados iguais:', conv_x1_h1 == list(np_conv_x1_h1))"
   ]
  },
  {
   "cell_type": "markdown",
   "metadata": {
    "id": "3-2UECiGk3G-"
   },
   "source": [
    "### $x_2 * h_2$"
   ]
  },
  {
   "cell_type": "code",
   "execution_count": 37,
   "metadata": {
    "colab": {
     "base_uri": "https://localhost:8080/",
     "height": 281
    },
    "id": "eL4siDGweQ7-",
    "outputId": "2921270f-caa0-4059-94e9-0418af4d60d8"
   },
   "outputs": [
    {
     "data": {
      "image/png": "[encoded data removed]",
      "text/plain": [
       "<Figure size 432x288 with 1 Axes>"
      ]
     },
     "metadata": {
      "needs_background": "light"
     },
     "output_type": "display_data"
    }
   ],
   "source": [
    "np_conv_x2_h2 = np.convolve(x2, h2, mode='full')\n",
    "\n",
    "stem(np_conv_x2_h2, use_line_collection=True)\n",
    "plt.title('y2[n] = x2[n] * h2[n]')\n",
    "show()"
   ]
  },
  {
   "cell_type": "code",
   "execution_count": 38,
   "metadata": {
    "colab": {
     "base_uri": "https://localhost:8080/"
    },
    "id": "65DEF9GFcWMO",
    "outputId": "b689b6c8-0a23-4255-cfbb-18ed5ba4b3e0"
   },
   "outputs": [
    {
     "name": "stdout",
     "output_type": "stream",
     "text": [
      "Implementação própria:\n",
      "\ty2[n] = [0, 0, 0, 0, 1, 5, 15, 31, 49, 61, 61, 49, 30, 10, -10, -30, -49, -61, -61, -49, -31, -15, -5, -1, 0, 0, 0, 0]\n",
      "NumPy:\n",
      "\ty2[n] = [0, 0, 0, 0, 1, 5, 15, 31, 49, 61, 61, 49, 30, 10, -10, -30, -49, -61, -61, -49, -31, -15, -5, -1, 0, 0, 0, 0]\n"
     ]
    }
   ],
   "source": [
    "print('Implementação própria:')\n",
    "print('\\ty2[n] =', conv_x2_h2)\n",
    "print('NumPy:')\n",
    "print('\\ty2[n] =', list(np_conv_x2_h2))"
   ]
  },
  {
   "cell_type": "code",
   "execution_count": 39,
   "metadata": {
    "colab": {
     "base_uri": "https://localhost:8080/"
    },
    "id": "tsOm7IbacpdE",
    "outputId": "c11bd369-b7cf-421b-a1b4-09435d751db2"
   },
   "outputs": [
    {
     "name": "stdout",
     "output_type": "stream",
     "text": [
      "Resultados iguais: True\n"
     ]
    }
   ],
   "source": [
    "print('Resultados iguais:', conv_x2_h2 == list(np_conv_x2_h2))"
   ]
  },
  {
   "cell_type": "markdown",
   "metadata": {
    "id": "itc4_Y3oaE0s"
   },
   "source": [
    "Podemos ver que a implementação feita pelo grupo obteve exatamente os mesmos resultados que a função do NumPy, sem considerar as questões de desempenho. Enquanto nossa solução apresentada foi iterativa, as funções da biblioteca provavelmente são mais otimizadas (e paralelizadas), fazendo uso de suas estruturas de dados especializadas."
   ]
  }
 ],
 "metadata": {
  "colab": {
   "include_colab_link": true,
   "name": "Projeto1.ipynb",
   "provenance": []
  },
  "kernelspec": {
   "display_name": "Python 3 (ipykernel)",
   "language": "python",
   "name": "python3"
  },
  "language_info": {
   "codemirror_mode": {
    "name": "ipython",
    "version": 3
   },
   "file_extension": ".py",
   "mimetype": "text/x-python",
   "name": "python",
   "nbconvert_exporter": "python",
   "pygments_lexer": "ipython3",
   "version": "3.8.10"
  }
 },
 "nbformat": 4,
 "nbformat_minor": 1
}
