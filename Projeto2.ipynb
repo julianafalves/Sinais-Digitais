{
  "nbformat": 4,
  "nbformat_minor": 0,
  "metadata": {
    "colab": {
      "name": "Projeto2.ipynb",
      "provenance": [],
      "authorship_tag": "ABX9TyMujWTsUj8IX/0lpkPv2IJb",
      "include_colab_link": true
    },
    "kernelspec": {
      "name": "python3",
      "display_name": "Python 3"
    },
    "language_info": {
      "name": "python"
    }
  },
  "cells": [
    {
      "cell_type": "markdown",
      "metadata": {
        "id": "view-in-github",
        "colab_type": "text"
      },
      "source": [
        "<a href=\"https://colab.research.google.com/github/julianafalves/Sinais-Digitais/blob/main/Projeto2.ipynb\" target=\"_parent\"><img src=\"https://colab.research.google.com/assets/colab-badge.svg\" alt=\"Open In Colab\"/></a>"
      ]
    },
    {
      "cell_type": "code",
      "metadata": {
        "colab": {
          "base_uri": "https://localhost:8080/"
        },
        "id": "SQKQUmFX4wPB",
        "outputId": "b38b2357-c1bc-4c7d-ecc4-a089bcc38a1e"
      },
      "source": [
        "!pip install scikit_dsp_comm"
      ],
      "execution_count": 3,
      "outputs": [
        {
          "output_type": "stream",
          "name": "stdout",
          "text": [
            "Collecting scikit_dsp_comm\n",
            "  Downloading scikit_dsp_comm-2.0.0-py3-none-any.whl (90 kB)\n",
            "\u001b[?25l\r\u001b[K     |███▋                            | 10 kB 23.8 MB/s eta 0:00:01\r\u001b[K     |███████▏                        | 20 kB 30.8 MB/s eta 0:00:01\r\u001b[K     |██████████▉                     | 30 kB 24.0 MB/s eta 0:00:01\r\u001b[K     |██████████████▍                 | 40 kB 19.3 MB/s eta 0:00:01\r\u001b[K     |██████████████████              | 51 kB 20.8 MB/s eta 0:00:01\r\u001b[K     |█████████████████████▋          | 61 kB 18.4 MB/s eta 0:00:01\r\u001b[K     |█████████████████████████▎      | 71 kB 17.0 MB/s eta 0:00:01\r\u001b[K     |████████████████████████████▉   | 81 kB 18.0 MB/s eta 0:00:01\r\u001b[K     |████████████████████████████████| 90 kB 7.7 MB/s \n",
            "\u001b[?25hRequirement already satisfied: scipy in /usr/local/lib/python3.7/dist-packages (from scikit_dsp_comm) (1.4.1)\n",
            "Requirement already satisfied: numpy in /usr/local/lib/python3.7/dist-packages (from scikit_dsp_comm) (1.19.5)\n",
            "Requirement already satisfied: matplotlib in /usr/local/lib/python3.7/dist-packages (from scikit_dsp_comm) (3.2.2)\n",
            "Requirement already satisfied: cycler>=0.10 in /usr/local/lib/python3.7/dist-packages (from matplotlib->scikit_dsp_comm) (0.10.0)\n",
            "Requirement already satisfied: kiwisolver>=1.0.1 in /usr/local/lib/python3.7/dist-packages (from matplotlib->scikit_dsp_comm) (1.3.2)\n",
            "Requirement already satisfied: pyparsing!=2.0.4,!=2.1.2,!=2.1.6,>=2.0.1 in /usr/local/lib/python3.7/dist-packages (from matplotlib->scikit_dsp_comm) (2.4.7)\n",
            "Requirement already satisfied: python-dateutil>=2.1 in /usr/local/lib/python3.7/dist-packages (from matplotlib->scikit_dsp_comm) (2.8.2)\n",
            "Requirement already satisfied: six in /usr/local/lib/python3.7/dist-packages (from cycler>=0.10->matplotlib->scikit_dsp_comm) (1.15.0)\n",
            "Installing collected packages: scikit-dsp-comm\n",
            "Successfully installed scikit-dsp-comm-2.0.0\n"
          ]
        }
      ]
    },
    {
      "cell_type": "code",
      "metadata": {
        "id": "2z1LJeBy32Nk"
      },
      "source": [
        "import sk_dsp_comm.sigsys as ss\n",
        "import numpy as np\n",
        "from matplotlib import pylab\n",
        "from pylab import *\n",
        "import scipy.signal as signal\n",
        "from IPython.display import Audio, display\n",
        "from IPython.display import Image, SVG"
      ],
      "execution_count": 4,
      "outputs": []
    },
    {
      "cell_type": "code",
      "metadata": {
        "id": "sm5qZ5y84pNn"
      },
      "source": [
        "pylab.rcParams['savefig.dpi'] = 100 # default 72\n",
        "pylab.rcParams['figure.figsize'] = (6.0, 4.0) # default (6,4)\n",
        "%config InlineBackend.figure_formats=['png'] # default for inline viewing\n",
        "#config InlineBackend.figure_formats=['svg'] # SVG inline viewing\n",
        "#%config InlineBackend.figure_formats=['pdf'] # render pdf figs for LaTeX"
      ],
      "execution_count": 5,
      "outputs": []
    },
    {
      "cell_type": "markdown",
      "metadata": {
        "id": "TENE1d9B7H4g"
      },
      "source": [
        "## Acyclic convolution in matlab"
      ]
    },
    {
      "cell_type": "code",
      "metadata": {
        "colab": {
          "base_uri": "https://localhost:8080/"
        },
        "id": "Jnqymxl94rm8",
        "outputId": "b56b17f7-cdaa-43a0-96d2-f34cc3fd1c72"
      },
      "source": [
        "# Convolução acíclica\n",
        "np.convolve([1,2], [3,4])"
      ],
      "execution_count": 6,
      "outputs": [
        {
          "output_type": "execute_result",
          "data": {
            "text/plain": [
              "array([ 3, 10,  8])"
            ]
          },
          "metadata": {},
          "execution_count": 6
        }
      ]
    },
    {
      "cell_type": "code",
      "metadata": {
        "colab": {
          "base_uri": "https://localhost:8080/"
        },
        "id": "SfNAwpMp5F3I",
        "outputId": "21c25bee-ff61-459d-ac01-ae80324de990"
      },
      "source": [
        "np.convolve([1,2], [3,4], mode='same')"
      ],
      "execution_count": 9,
      "outputs": [
        {
          "output_type": "execute_result",
          "data": {
            "text/plain": [
              "array([ 3, 10])"
            ]
          },
          "metadata": {},
          "execution_count": 9
        }
      ]
    },
    {
      "cell_type": "code",
      "metadata": {
        "colab": {
          "base_uri": "https://localhost:8080/"
        },
        "id": "Eqt7MfNZ5-MO",
        "outputId": "a2a4b25f-0430-49c5-e831-defc088c3ee5"
      },
      "source": [
        "np.convolve([1,2], [3,4,0], mode='same')"
      ],
      "execution_count": 10,
      "outputs": [
        {
          "output_type": "execute_result",
          "data": {
            "text/plain": [
              "array([ 3, 10,  8])"
            ]
          },
          "metadata": {},
          "execution_count": 10
        }
      ]
    },
    {
      "cell_type": "markdown",
      "metadata": {
        "id": "zfvK_sHy7K3J"
      },
      "source": [
        "## Acyclic FFT convolution in matlab"
      ]
    },
    {
      "cell_type": "code",
      "metadata": {
        "id": "9PFyFxy_7EMH"
      },
      "source": [
        "def nextpow2(x):\n",
        "    return 1 if x == 0 else (x - 1).bit_length()"
      ],
      "execution_count": 13,
      "outputs": []
    },
    {
      "cell_type": "code",
      "metadata": {
        "id": "YvklnDG76Cwe"
      },
      "source": [
        "x = [1, 2, 3, 4]\n",
        "h = [1, 1, 1]\n",
        "\n",
        "nx = len(x)\n",
        "nh = len(h)\n",
        "nfft = 2**nextpow2(nx+nh-1)\n",
        "xzp = x + [0] * (nfft-nx)\n",
        "hzp = h + [0] * (nfft-nh)\n",
        "X = np.fft.fft(xzp)\n",
        "H = np.fft.fft(hzp)"
      ],
      "execution_count": 25,
      "outputs": []
    },
    {
      "cell_type": "code",
      "metadata": {
        "colab": {
          "base_uri": "https://localhost:8080/"
        },
        "id": "-cTno7cG8Ue7",
        "outputId": "d7406148-685c-4b51-d362-12201ebaa54d"
      },
      "source": [
        "print('X:')\n",
        "print(X)\n",
        "\n",
        "print('H:')\n",
        "print(H)"
      ],
      "execution_count": 30,
      "outputs": [
        {
          "output_type": "stream",
          "name": "stdout",
          "text": [
            "X:\n",
            "[10.        +0.j         -0.41421356-7.24264069j -2.        +2.j\n",
            "  2.41421356-1.24264069j -2.        +0.j          2.41421356+1.24264069j\n",
            " -2.        -2.j         -0.41421356+7.24264069j]\n",
            "H:\n",
            "[3.        +0.j         1.70710678-1.70710678j 0.        -1.j\n",
            " 0.29289322+0.29289322j 1.        +0.j         0.29289322-0.29289322j\n",
            " 0.        +1.j         1.70710678+1.70710678j]\n"
          ]
        }
      ]
    },
    {
      "cell_type": "code",
      "metadata": {
        "id": "fxfJhwuv8-JR"
      },
      "source": [
        "y = np.real(np.fft.ifft(Y))\n",
        "yt = y[:nx+nh-1]\n",
        "yc = np.convolve(x,h)"
      ],
      "execution_count": 33,
      "outputs": []
    },
    {
      "cell_type": "code",
      "metadata": {
        "colab": {
          "base_uri": "https://localhost:8080/"
        },
        "id": "cK0PEyWH9Wr2",
        "outputId": "480f150a-bfab-4d5d-95d6-9eef6d7458d2"
      },
      "source": [
        "print(yt)\n",
        "print(yc)"
      ],
      "execution_count": 34,
      "outputs": [
        {
          "output_type": "stream",
          "name": "stdout",
          "text": [
            "[1. 3. 6. 9. 7. 4.]\n",
            "[1 3 6 9 7 4]\n"
          ]
        }
      ]
    },
    {
      "cell_type": "markdown",
      "metadata": {
        "id": "M_pe0-ij-GZP"
      },
      "source": [
        "## Example 1: Low-pass filtering by fft convolution"
      ]
    },
    {
      "cell_type": "code",
      "metadata": {
        "id": "Kea0QQSf9ru3"
      },
      "source": [
        "f = [440, 880, 1000, 2000]\n",
        "M = 256\n",
        "Fs = 5000\n",
        "\n",
        "x = np.zeros(M)\n",
        "n = np.arange(0, M)\n",
        "\n",
        "for fk in f:\n",
        "  x += np.sin(2*np.pi*n*fk/Fs)"
      ],
      "execution_count": 76,
      "outputs": []
    },
    {
      "cell_type": "code",
      "metadata": {
        "colab": {
          "base_uri": "https://localhost:8080/",
          "height": 281
        },
        "id": "SN6QutQU-lmC",
        "outputId": "6ff22d5a-48cb-4b84-acd6-b23119809ac8"
      },
      "source": [
        "stem(x[:50], use_line_collection=True)"
      ],
      "execution_count": 77,
      "outputs": [
        {
          "output_type": "execute_result",
          "data": {
            "text/plain": [
              "<StemContainer object of 3 artists>"
            ]
          },
          "metadata": {},
          "execution_count": 77
        },
        {
          "output_type": "display_data",
          "data": {
            "image/png": "[encoded data removed]",
            "text/plain": [
              "<Figure size 432x288 with 1 Axes>"
            ]
          },
          "metadata": {
            "needs_background": "light"
          }
        }
      ]
    },
    {
      "cell_type": "code",
      "metadata": {
        "id": "7ukFGKx-_IJt"
      },
      "source": [
        "L = 257\n",
        "fc = 600\n",
        "\n",
        "hsupp = np.arange(-(L-1)/2, (L-1)/2+1)\n",
        "hideal = (2*fc/Fs)*np.sinc(2*fc*hsupp/Fs)\n",
        "h = np.hamming(L) * hideal"
      ],
      "execution_count": 78,
      "outputs": []
    },
    {
      "cell_type": "code",
      "metadata": {
        "colab": {
          "base_uri": "https://localhost:8080/",
          "height": 283
        },
        "id": "TMDbSTLFAyUy",
        "outputId": "55360b64-6b53-4911-a3c4-764f463b1883"
      },
      "source": [
        "plt.plot(hideal)"
      ],
      "execution_count": 79,
      "outputs": [
        {
          "output_type": "execute_result",
          "data": {
            "text/plain": [
              "[<matplotlib.lines.Line2D at 0x7f32a747c810>]"
            ]
          },
          "metadata": {},
          "execution_count": 79
        },
        {
          "output_type": "display_data",
          "data": {
            "image/png": "[encoded data removed]",
            "text/plain": [
              "<Figure size 432x288 with 1 Axes>"
            ]
          },
          "metadata": {
            "needs_background": "light"
          }
        }
      ]
    },
    {
      "cell_type": "code",
      "metadata": {
        "colab": {
          "base_uri": "https://localhost:8080/",
          "height": 283
        },
        "id": "Fi3c9RqDAlq0",
        "outputId": "875ad88f-cb1d-41fe-cd77-e0d7cad618d6"
      },
      "source": [
        "plt.plot(h)"
      ],
      "execution_count": 80,
      "outputs": [
        {
          "output_type": "execute_result",
          "data": {
            "text/plain": [
              "[<matplotlib.lines.Line2D at 0x7f32a7393d50>]"
            ]
          },
          "metadata": {},
          "execution_count": 80
        },
        {
          "output_type": "display_data",
          "data": {
            "image/png": "[encoded data removed]",
            "text/plain": [
              "<Figure size 432x288 with 1 Axes>"
            ]
          },
          "metadata": {
            "needs_background": "light"
          }
        }
      ]
    },
    {
      "cell_type": "code",
      "metadata": {
        "id": "9aBb2i2gA_Q4"
      },
      "source": [
        "Nfft = 2**nextpow2(L+M-1)\n",
        "\n",
        "xzp = np.pad(x, (0, Nfft-M))\n",
        "hzp = np.pad(x, (0, Nfft-L+1))\n",
        "\n",
        "X = np.fft.fft(xzp)\n",
        "H = np.fft.fft(hzp)"
      ],
      "execution_count": 101,
      "outputs": []
    },
    {
      "cell_type": "code",
      "metadata": {
        "colab": {
          "base_uri": "https://localhost:8080/"
        },
        "id": "eYTXCnguGQ2x",
        "outputId": "1b01df87-17c7-4e73-de7f-19c6b350896c"
      },
      "source": [
        ""
      ],
      "execution_count": 122,
      "outputs": [
        {
          "output_type": "execute_result",
          "data": {
            "text/plain": [
              "(512,)"
            ]
          },
          "metadata": {},
          "execution_count": 122
        }
      ]
    },
    {
      "cell_type": "code",
      "metadata": {
        "colab": {
          "base_uri": "https://localhost:8080/",
          "height": 281
        },
        "id": "5Cd_iHwZB-1G",
        "outputId": "0aef4b5f-4f29-4e90-be48-debf44660bd9"
      },
      "source": [
        "domain = np.linspace(-2000, 2000, X.shape[0])\n",
        "X_real = np.real(X)\n",
        "X_real[X_real <= 0] = 0\n",
        "plt.plot(domain, X_real)"
      ],
      "execution_count": 126,
      "outputs": [
        {
          "output_type": "execute_result",
          "data": {
            "text/plain": [
              "[<matplotlib.lines.Line2D at 0x7f32a6711810>]"
            ]
          },
          "metadata": {},
          "execution_count": 126
        },
        {
          "output_type": "display_data",
          "data": {
            "image/png": "[encoded data removed]",
            "text/plain": [
              "<Figure size 432x288 with 1 Axes>"
            ]
          },
          "metadata": {
            "needs_background": "light"
          }
        }
      ]
    },
    {
      "cell_type": "code",
      "metadata": {
        "colab": {
          "base_uri": "https://localhost:8080/",
          "height": 281
        },
        "id": "XX6qnuxaC6cr",
        "outputId": "a7404104-3b56-47d7-fb7c-78071f38ad01"
      },
      "source": [
        "plt.plot(np.real(H[H >= 0]))"
      ],
      "execution_count": 108,
      "outputs": [
        {
          "output_type": "execute_result",
          "data": {
            "text/plain": [
              "[<matplotlib.lines.Line2D at 0x7f32afb9ee90>]"
            ]
          },
          "metadata": {},
          "execution_count": 108
        },
        {
          "output_type": "display_data",
          "data": {
            "image/png": "[encoded data removed]",
            "text/plain": [
              "<Figure size 432x288 with 1 Axes>"
            ]
          },
          "metadata": {
            "needs_background": "light"
          }
        }
      ]
    },
    {
      "cell_type": "code",
      "metadata": {
        "id": "ZYDuC6rKDZ9s"
      },
      "source": [
        "Y = X * H"
      ],
      "execution_count": 104,
      "outputs": []
    },
    {
      "cell_type": "code",
      "metadata": {
        "colab": {
          "base_uri": "https://localhost:8080/",
          "height": 281
        },
        "id": "-zlGVhcCD0jx",
        "outputId": "a4a9ad78-80f1-4e01-d8e4-5823c299d1a4"
      },
      "source": [
        "plt.plot(np.real(Y[Y >= 0]))"
      ],
      "execution_count": 110,
      "outputs": [
        {
          "output_type": "execute_result",
          "data": {
            "text/plain": [
              "[<matplotlib.lines.Line2D at 0x7f32a6beef10>]"
            ]
          },
          "metadata": {},
          "execution_count": 110
        },
        {
          "output_type": "display_data",
          "data": {
            "image/png": "[encoded data removed]",
            "text/plain": [
              "<Figure size 432x288 with 1 Axes>"
            ]
          },
          "metadata": {
            "needs_background": "light"
          }
        }
      ]
    },
    {
      "cell_type": "code",
      "metadata": {
        "id": "dhPA49n0D47A"
      },
      "source": [
        "y = ifft(Y)\n",
        "relrmserr = "
      ],
      "execution_count": 127,
      "outputs": []
    },
    {
      "cell_type": "code",
      "metadata": {
        "id": "WhbmIvFHIWiQ"
      },
      "source": [
        ""
      ],
      "execution_count": null,
      "outputs": []
    }
  ]
}