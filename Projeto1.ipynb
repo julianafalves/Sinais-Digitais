{
  "nbformat": 4,
  "nbformat_minor": 0,
  "metadata": {
    "kernelspec": {
      "display_name": "Python 3",
      "language": "python",
      "name": "python3"
    },
    "language_info": {
      "codemirror_mode": {
        "name": "ipython",
        "version": 3
      },
      "file_extension": ".py",
      "mimetype": "text/x-python",
      "name": "python",
      "nbconvert_exporter": "python",
      "pygments_lexer": "ipython3",
      "version": "3.8.10"
    },
    "colab": {
      "name": "Projeto1.ipynb",
      "provenance": [],
      "include_colab_link": true
    }
  },
  "cells": [
    {
      "cell_type": "markdown",
      "metadata": {
        "id": "view-in-github",
        "colab_type": "text"
      },
      "source": [
        "<a href=\"https://colab.research.google.com/github/julianafalves/Sinais-Digitais/blob/main/Projeto1.ipynb\" target=\"_parent\"><img src=\"https://colab.research.google.com/assets/colab-badge.svg\" alt=\"Open In Colab\"/></a>"
      ]
    },
    {
      "cell_type": "markdown",
      "metadata": {
        "id": "834kOYUf8Di0"
      },
      "source": [
        "# 1o Trabalho de PSD (notebook para preencher com os resultados)"
      ]
    },
    {
      "cell_type": "markdown",
      "metadata": {
        "id": "tN-Ek7Fu8Di5"
      },
      "source": [
        "### Número do Grupo : `inserir o número do grupo aqui`"
      ]
    },
    {
      "cell_type": "code",
      "metadata": {
        "colab": {
          "base_uri": "https://localhost:8080/"
        },
        "id": "0i6lxRDs8J22",
        "outputId": "9b5b4581-c71d-4ba5-9be4-62d297a8e975"
      },
      "source": [
        "!pip install scikit_dsp_comm"
      ],
      "execution_count": 1,
      "outputs": [
        {
          "output_type": "stream",
          "name": "stdout",
          "text": [
            "Requirement already satisfied: scikit_dsp_comm in /usr/local/lib/python3.7/dist-packages (2.0.0)\n",
            "Requirement already satisfied: matplotlib in /usr/local/lib/python3.7/dist-packages (from scikit_dsp_comm) (3.2.2)\n",
            "Requirement already satisfied: scipy in /usr/local/lib/python3.7/dist-packages (from scikit_dsp_comm) (1.4.1)\n",
            "Requirement already satisfied: numpy in /usr/local/lib/python3.7/dist-packages (from scikit_dsp_comm) (1.19.5)\n",
            "Requirement already satisfied: cycler>=0.10 in /usr/local/lib/python3.7/dist-packages (from matplotlib->scikit_dsp_comm) (0.10.0)\n",
            "Requirement already satisfied: pyparsing!=2.0.4,!=2.1.2,!=2.1.6,>=2.0.1 in /usr/local/lib/python3.7/dist-packages (from matplotlib->scikit_dsp_comm) (2.4.7)\n",
            "Requirement already satisfied: kiwisolver>=1.0.1 in /usr/local/lib/python3.7/dist-packages (from matplotlib->scikit_dsp_comm) (1.3.1)\n",
            "Requirement already satisfied: python-dateutil>=2.1 in /usr/local/lib/python3.7/dist-packages (from matplotlib->scikit_dsp_comm) (2.8.2)\n",
            "Requirement already satisfied: six in /usr/local/lib/python3.7/dist-packages (from cycler>=0.10->matplotlib->scikit_dsp_comm) (1.15.0)\n"
          ]
        }
      ]
    },
    {
      "cell_type": "code",
      "metadata": {
        "jupyter": {
          "outputs_hidden": false
        },
        "id": "VL8D-64O8Di7"
      },
      "source": [
        "import sk_dsp_comm.sigsys as ss\n",
        "import numpy as np\n",
        "from matplotlib import pylab\n",
        "from pylab import *\n",
        "import scipy.signal as signal\n",
        "from IPython.display import Audio, display\n",
        "from IPython.display import Image, SVG"
      ],
      "execution_count": 2,
      "outputs": []
    },
    {
      "cell_type": "code",
      "metadata": {
        "jupyter": {
          "outputs_hidden": false
        },
        "id": "clbJleYj8DjB"
      },
      "source": [
        "pylab.rcParams['savefig.dpi'] = 100 # default 72\n",
        "pylab.rcParams['figure.figsize'] = (6.0, 4.0) # default (6,4)\n",
        "%config InlineBackend.figure_formats=['png'] # default for inline viewing\n",
        "#config InlineBackend.figure_formats=['svg'] # SVG inline viewing\n",
        "#%config InlineBackend.figure_formats=['pdf'] # render pdf figs for LaTeX"
      ],
      "execution_count": 3,
      "outputs": []
    },
    {
      "cell_type": "markdown",
      "metadata": {
        "id": "BL8ID_Kq8DjB"
      },
      "source": [
        "# Problema 1\n",
        " Usando a função stem() em Python calcule e plote as seguintes funções\n",
        "$$\n",
        "\\begin{align}\n",
        "    x_1[n] &= \\sin\\big(\\frac{\\pi}{5}n\\big),\\ 0\\leq n \\leq 15 \\\\\n",
        "    x_2[n] &= \\cos\\big(\\frac{3\\pi}{5}n\\big),\\ 0\\leq n \\leq 15 \\\\\n",
        "    x_3[n] &= \\sin\\big(\\frac{\\pi}{4}n\\big)\\cos\\big(\\frac{\\pi}{4}n\\big),\\ 0\\leq n \\leq 32\n",
        "\\end{align}\n",
        "$$\n",
        "Qual é o período da fundamental de cada sinail?"
      ]
    },
    {
      "cell_type": "code",
      "metadata": {
        "id": "V22YlV_PHd_1"
      },
      "source": [
        "pi = np.pi"
      ],
      "execution_count": 4,
      "outputs": []
    },
    {
      "cell_type": "markdown",
      "metadata": {
        "id": "fSD7Negr8DjC"
      },
      "source": [
        "## Parte a - sinal $x_1[n]$\n",
        "O período da fundamental, $N$, é 10\n",
        "\n",
        "`adicione o resultado aqui e explicação de como ele foi determinado`"
      ]
    },
    {
      "cell_type": "code",
      "metadata": {
        "id": "WrKW2y6D8DjC"
      },
      "source": [
        "def x1(n):\n",
        "   return np.sin((np.pi/5)*n)\n",
        "   \n",
        "n = np.arange(0, 16, dtype= 'int64')"
      ],
      "execution_count": 5,
      "outputs": []
    },
    {
      "cell_type": "code",
      "metadata": {
        "colab": {
          "base_uri": "https://localhost:8080/",
          "height": 320
        },
        "id": "V03zIhUp-mlF",
        "outputId": "646c6c92-8ee0-4898-b599-982075856963"
      },
      "source": [
        "stem(n,x1(n))\n",
        "show()"
      ],
      "execution_count": 6,
      "outputs": [
        {
          "output_type": "stream",
          "name": "stderr",
          "text": [
            "/usr/local/lib/python3.7/dist-packages/ipykernel_launcher.py:1: UserWarning: In Matplotlib 3.3 individual lines on a stem plot will be added as a LineCollection instead of individual lines. This significantly improves the performance of a stem plot. To remove this warning and switch to the new behaviour, set the \"use_line_collection\" keyword argument to True.\n",
            "  \"\"\"Entry point for launching an IPython kernel.\n"
          ]
        },
        {
          "output_type": "display_data",
          "data": {
            "image/png": "[encoded data removed]",
            "text/plain": [
              "<Figure size 432x288 with 1 Axes>"
            ]
          },
          "metadata": {
            "needs_background": "light"
          }
        }
      ]
    },
    {
      "cell_type": "code",
      "metadata": {
        "id": "pmrm6XU9_gUr"
      },
      "source": [
        "def fundamentalFunc(omega): #pi/5 /pi\n",
        "  numerador = 2 * np.pi\n",
        "  if omega % np.pi == 0 or np.pi % (np.pi/5) == 0:\n",
        "    k = 1\n",
        "    while True:\n",
        "      N = (numerador * k / omega)\n",
        "      k += 1\n",
        "      if N.is_integer():\n",
        "        return N\n",
        "  return None\n",
        "    "
      ],
      "execution_count": 7,
      "outputs": []
    },
    {
      "cell_type": "code",
      "metadata": {
        "colab": {
          "base_uri": "https://localhost:8080/"
        },
        "id": "wU9vMR28D_Qe",
        "outputId": "999cbad0-2c17-4bb3-f260-92fb7445fbc6"
      },
      "source": [
        "periodo = fundamentalFunc(np.pi/5)\n",
        "print(periodo)"
      ],
      "execution_count": 8,
      "outputs": [
        {
          "output_type": "stream",
          "name": "stdout",
          "text": [
            "10.0\n"
          ]
        }
      ]
    },
    {
      "cell_type": "markdown",
      "metadata": {
        "id": "hZ0jeNeP8DjC"
      },
      "source": [
        "## Parte b - sinal $x_2[n]$\n",
        "O período da fundamental, $N$, é\n",
        "\n",
        "`adicione o resultado aqui e explicação de como ele foi determinado`"
      ]
    },
    {
      "cell_type": "code",
      "metadata": {
        "id": "gaRoTRM78DjD"
      },
      "source": [
        "# escreva o seu código aqui"
      ],
      "execution_count": 9,
      "outputs": []
    },
    {
      "cell_type": "markdown",
      "metadata": {
        "id": "aqE-RQ_K8DjD"
      },
      "source": [
        "## Parte c - sinal $x_3[n]$\n",
        "Para encontrar o período, primeiro expanda o produto usando uma relação trigonomêtrica apropriada:\n",
        "$$\n",
        "    x_3[n] = \\frac{1}{2}\\left[\\sin(0\\cdot n) + \\sin\\big(\\frac{\\pi}{2}n\\big)\\right], 0\\leq n\\leq 32\n",
        "$$\n",
        "Você deve escolher $N$ tal que $\\ldots$\n",
        "\n",
        "`adicione o resultado aqui e explicação de como ele foi determinado`\n"
      ]
    },
    {
      "cell_type": "code",
      "metadata": {
        "id": "Jz2h8Vjb8DjE"
      },
      "source": [
        "def x3(n):\n",
        "  return (1/2)*np.sin((n*pi)/2)\n",
        "n3 = np.arange(0,33,dtype='int64')"
      ],
      "execution_count": 10,
      "outputs": []
    },
    {
      "cell_type": "code",
      "metadata": {
        "colab": {
          "base_uri": "https://localhost:8080/",
          "height": 337
        },
        "id": "Oh0VnVnUHtOg",
        "outputId": "3fc76c29-a5f3-40f4-aea7-da947f12ad51"
      },
      "source": [
        "stem(n3,x3(n3))\n",
        "show"
      ],
      "execution_count": 11,
      "outputs": [
        {
          "output_type": "stream",
          "name": "stderr",
          "text": [
            "/usr/local/lib/python3.7/dist-packages/ipykernel_launcher.py:1: UserWarning: In Matplotlib 3.3 individual lines on a stem plot will be added as a LineCollection instead of individual lines. This significantly improves the performance of a stem plot. To remove this warning and switch to the new behaviour, set the \"use_line_collection\" keyword argument to True.\n",
            "  \"\"\"Entry point for launching an IPython kernel.\n"
          ]
        },
        {
          "output_type": "execute_result",
          "data": {
            "text/plain": [
              "<function matplotlib.pyplot.show>"
            ]
          },
          "metadata": {},
          "execution_count": 11
        },
        {
          "output_type": "display_data",
          "data": {
            "image/png": "[encoded data removed]",
            "text/plain": [
              "<Figure size 432x288 with 1 Axes>"
            ]
          },
          "metadata": {
            "needs_background": "light"
          }
        }
      ]
    },
    {
      "cell_type": "code",
      "metadata": {
        "colab": {
          "base_uri": "https://localhost:8080/"
        },
        "id": "lU2ZAFqbH7O2",
        "outputId": "eb5a9c95-41b0-41a4-8a04-45c011e8153b"
      },
      "source": [
        "print(\"Período fundamental: \",fundamentalFunc(pi/2))"
      ],
      "execution_count": 12,
      "outputs": [
        {
          "output_type": "stream",
          "name": "stdout",
          "text": [
            "Período fundamental:  4.0\n"
          ]
        }
      ]
    },
    {
      "cell_type": "markdown",
      "metadata": {
        "id": "u-El1iCS8DjF"
      },
      "source": [
        "# Problema 2\n",
        "Usando a função `stem()` calcule e plote a o sinal\n",
        "$$\n",
        "x[n] = \\begin{cases}\n",
        "        2n+1, & -3\\leq n\\leq 3 \\\\\n",
        "        0, & \\text{otherwise}\n",
        "        \\end{cases}\n",
        "$$\n",
        "no intervalo $-8\\leq n\\leq 8$. \n",
        "\n",
        "OBS: Criar a função $x[n]$ sem o uso de loop!! Observe ainda que o módulo python “sk_dsp_comm.sigsys” possui a função drect() que serve para criar uma função janela - estude o exemplo python ex2.py fornecido na aba “Material para realização dos projetos”. "
      ]
    },
    {
      "cell_type": "code",
      "metadata": {
        "id": "5SpVwuww8DjG"
      },
      "source": [
        "n = np.arange(-8,9)\n",
        "x = (2*n + 1) * ss.drect(n+3, N=7)"
      ],
      "execution_count": 13,
      "outputs": []
    },
    {
      "cell_type": "code",
      "metadata": {
        "colab": {
          "base_uri": "https://localhost:8080/",
          "height": 555
        },
        "id": "ewepMeFyKhNN",
        "outputId": "6f0b8356-0490-48e5-9fb3-122a9fe8c148"
      },
      "source": [
        "figure(figsize=(10,8))\n",
        "stem(n,x)\n",
        "show"
      ],
      "execution_count": 14,
      "outputs": [
        {
          "output_type": "stream",
          "name": "stderr",
          "text": [
            "/usr/local/lib/python3.7/dist-packages/ipykernel_launcher.py:2: UserWarning: In Matplotlib 3.3 individual lines on a stem plot will be added as a LineCollection instead of individual lines. This significantly improves the performance of a stem plot. To remove this warning and switch to the new behaviour, set the \"use_line_collection\" keyword argument to True.\n",
            "  \n"
          ]
        },
        {
          "output_type": "execute_result",
          "data": {
            "text/plain": [
              "<function matplotlib.pyplot.show>"
            ]
          },
          "metadata": {},
          "execution_count": 14
        },
        {
          "output_type": "display_data",
          "data": {
            "image/png": "[encoded data removed]",
            "text/plain": [
              "<Figure size 720x576 with 1 Axes>"
            ]
          },
          "metadata": {
            "needs_background": "light"
          }
        }
      ]
    },
    {
      "cell_type": "code",
      "metadata": {
        "colab": {
          "base_uri": "https://localhost:8080/",
          "height": 421
        },
        "id": "JFyRoqBWMA36",
        "outputId": "f844a5c0-9f7e-4c53-922c-11b4dec9acc2"
      },
      "source": [
        "# create time axis n:  -5 <= n <= 15\n",
        "n = np.arange(-5,15+1) \n",
        "\n",
        "# Create two subplots and unpack the output array immediately\n",
        "fig, (ax1, ax2, ax3) = plt.subplots(3, 1, sharey=True)\n",
        "\n",
        "# plot u[n]\n",
        "ax1.stem( n, ss.dstep(n) )\n",
        "ax1.set_title('u[n]')\n",
        "\n",
        "# plot u[n-10]\n",
        "ax2.stem( n, ss.dstep(n-10) )\n",
        "ax2.set_title('u[n-10]')\n",
        "\n",
        "# difference\n",
        "ax3.stem( n, ss.dstep(n) - ss.dstep(n-10) )\n",
        "ax3.set_title('u[n] - u[n-10]')\n",
        "\n",
        "fig.tight_layout() \n",
        "plt.show()"
      ],
      "execution_count": 15,
      "outputs": [
        {
          "output_type": "stream",
          "name": "stderr",
          "text": [
            "/usr/local/lib/python3.7/dist-packages/ipykernel_launcher.py:8: UserWarning: In Matplotlib 3.3 individual lines on a stem plot will be added as a LineCollection instead of individual lines. This significantly improves the performance of a stem plot. To remove this warning and switch to the new behaviour, set the \"use_line_collection\" keyword argument to True.\n",
            "  \n",
            "/usr/local/lib/python3.7/dist-packages/ipykernel_launcher.py:12: UserWarning: In Matplotlib 3.3 individual lines on a stem plot will be added as a LineCollection instead of individual lines. This significantly improves the performance of a stem plot. To remove this warning and switch to the new behaviour, set the \"use_line_collection\" keyword argument to True.\n",
            "  if sys.path[0] == '':\n",
            "/usr/local/lib/python3.7/dist-packages/ipykernel_launcher.py:16: UserWarning: In Matplotlib 3.3 individual lines on a stem plot will be added as a LineCollection instead of individual lines. This significantly improves the performance of a stem plot. To remove this warning and switch to the new behaviour, set the \"use_line_collection\" keyword argument to True.\n",
            "  app.launch_new_instance()\n"
          ]
        },
        {
          "output_type": "display_data",
          "data": {
            "image/png": "[encoded data removed]",
            "text/plain": [
              "<Figure size 432x288 with 3 Axes>"
            ]
          },
          "metadata": {
            "needs_background": "light"
          }
        }
      ]
    },
    {
      "cell_type": "markdown",
      "metadata": {
        "id": "AmHKLPFy8DjG"
      },
      "source": [
        "# Problema 3\n",
        "Usando a função `stem()` calcule e plote o sinal\n",
        "$$\n",
        "    x[n] = u[n]u[8-n] + u[n-2]-u[n-5]\n",
        "$$\n",
        "no intervalo $-2\\leq n\\leq 16$.  Observe que o módulo  `sigsys`  (aliased  como  `ss`)  possui a função `dstep()` definida, a qual pode tornar esse problema bastante simples.\n",
        "\n",
        "OBS: Estude os exemplos ex1.py e ex2.py fornecidos na aba “Material para realização dos projetos”."
      ]
    },
    {
      "cell_type": "code",
      "metadata": {
        "id": "Al_zajKv8DjG"
      },
      "source": [
        "n = np.arange(-2,16+1)\n",
        "x = ss.dstep(n)*ss.dstep(8-n)+ss.dstep(n-2)-ss.dstep(n-5)"
      ],
      "execution_count": 16,
      "outputs": []
    },
    {
      "cell_type": "code",
      "metadata": {
        "colab": {
          "base_uri": "https://localhost:8080/",
          "height": 858
        },
        "id": "FGCX9LXuM2VF",
        "outputId": "887ae9d1-fe05-4fd8-fa66-a02cb50402b3"
      },
      "source": [
        "fig, axs = plt.subplots(3, 1, sharey=True,figsize=(20,12))\n",
        "\n",
        "\n",
        "axs[0].stem(n, ss.dstep(n))\n",
        "axs[0].set_title('u[n]')\n",
        "\n",
        "axs[1].stem(n, ss.dstep(8-n))\n",
        "axs[1].set_title('u[8-n]')\n",
        "\n",
        "axs[2].stem(n, ss.dstep(n)*ss.dstep(8-n))\n",
        "axs[2].set_title('u[n]*u[8-n]')"
      ],
      "execution_count": 17,
      "outputs": [
        {
          "output_type": "stream",
          "name": "stderr",
          "text": [
            "/usr/local/lib/python3.7/dist-packages/ipykernel_launcher.py:4: UserWarning: In Matplotlib 3.3 individual lines on a stem plot will be added as a LineCollection instead of individual lines. This significantly improves the performance of a stem plot. To remove this warning and switch to the new behaviour, set the \"use_line_collection\" keyword argument to True.\n",
            "  after removing the cwd from sys.path.\n",
            "/usr/local/lib/python3.7/dist-packages/ipykernel_launcher.py:7: UserWarning: In Matplotlib 3.3 individual lines on a stem plot will be added as a LineCollection instead of individual lines. This significantly improves the performance of a stem plot. To remove this warning and switch to the new behaviour, set the \"use_line_collection\" keyword argument to True.\n",
            "  import sys\n",
            "/usr/local/lib/python3.7/dist-packages/ipykernel_launcher.py:10: UserWarning: In Matplotlib 3.3 individual lines on a stem plot will be added as a LineCollection instead of individual lines. This significantly improves the performance of a stem plot. To remove this warning and switch to the new behaviour, set the \"use_line_collection\" keyword argument to True.\n",
            "  # Remove the CWD from sys.path while we load stuff.\n"
          ]
        },
        {
          "output_type": "execute_result",
          "data": {
            "text/plain": [
              "Text(0.5, 1.0, 'u[n]*u[8-n]')"
            ]
          },
          "metadata": {},
          "execution_count": 17
        },
        {
          "output_type": "display_data",
          "data": {
            "image/png": "[encoded data removed]",
            "text/plain": [
              "<Figure size 1440x864 with 3 Axes>"
            ]
          },
          "metadata": {
            "needs_background": "light"
          }
        }
      ]
    },
    {
      "cell_type": "code",
      "metadata": {
        "colab": {
          "base_uri": "https://localhost:8080/",
          "height": 858
        },
        "id": "F6briFc4QWIZ",
        "outputId": "8373c38e-88f3-4c13-d408-aa3111c80859"
      },
      "source": [
        "fig, axs = plt.subplots(3, 1, sharey=True, figsize=(20,12))\n",
        "axs[0].stem(n, ss.dstep(n)*ss.dstep(8-n))\n",
        "axs[0].set_title('u[n]*u[8-n]')\n",
        "\n",
        "axs[1].stem(n, ss.dstep(n)*ss.dstep(8-n)+ss.dstep(n-2))\n",
        "axs[1].set_title('u[n]*u[8-n]-u[n-2]')\n",
        "\n",
        "axs[2].stem(n, ss.dstep(n)*ss.dstep(8-n)+ss.dstep(n-2)-ss.dstep(n-5))\n",
        "axs[2].set_title('u[n]*u[8-n]+u[n-2]-u[n-5]')"
      ],
      "execution_count": 18,
      "outputs": [
        {
          "output_type": "stream",
          "name": "stderr",
          "text": [
            "/usr/local/lib/python3.7/dist-packages/ipykernel_launcher.py:2: UserWarning: In Matplotlib 3.3 individual lines on a stem plot will be added as a LineCollection instead of individual lines. This significantly improves the performance of a stem plot. To remove this warning and switch to the new behaviour, set the \"use_line_collection\" keyword argument to True.\n",
            "  \n",
            "/usr/local/lib/python3.7/dist-packages/ipykernel_launcher.py:5: UserWarning: In Matplotlib 3.3 individual lines on a stem plot will be added as a LineCollection instead of individual lines. This significantly improves the performance of a stem plot. To remove this warning and switch to the new behaviour, set the \"use_line_collection\" keyword argument to True.\n",
            "  \"\"\"\n",
            "/usr/local/lib/python3.7/dist-packages/ipykernel_launcher.py:8: UserWarning: In Matplotlib 3.3 individual lines on a stem plot will be added as a LineCollection instead of individual lines. This significantly improves the performance of a stem plot. To remove this warning and switch to the new behaviour, set the \"use_line_collection\" keyword argument to True.\n",
            "  \n"
          ]
        },
        {
          "output_type": "execute_result",
          "data": {
            "text/plain": [
              "Text(0.5, 1.0, 'u[n]*u[8-n]+u[n-2]-u[n-5]')"
            ]
          },
          "metadata": {},
          "execution_count": 18
        },
        {
          "output_type": "display_data",
          "data": {
            "image/png": "[encoded data removed]",
            "text/plain": [
              "<Figure size 1440x864 with 3 Axes>"
            ]
          },
          "metadata": {
            "needs_background": "light"
          }
        }
      ]
    },
    {
      "cell_type": "markdown",
      "metadata": {
        "id": "DAwmwPmX8DjH"
      },
      "source": [
        "# Problema 4\n",
        "Considere o sinal\n",
        "$$\n",
        "    y[n] = \\begin{cases}\n",
        "        2, & n=0 \\\\\n",
        "        1, & n=1 \\\\\n",
        "        -1, & n=3 \\\\\n",
        "        3, & n=4 \\\\\n",
        "        0, & \\text{caso contrário}\n",
        "    \\end{cases}\n",
        "$$"
      ]
    },
    {
      "cell_type": "markdown",
      "metadata": {
        "id": "4ez7LfJF8DjH"
      },
      "source": [
        "Escreva uma função python ($y[n]$) como indicado abaixo para que você possa responder as questões que seguem."
      ]
    },
    {
      "cell_type": "code",
      "metadata": {
        "id": "RruipAgF8DjI"
      },
      "source": [
        "def y(n):\n",
        "    \"\"\"\n",
        "    Use a função dimpulse do módulo sigsys para diretamente definir \n",
        "    o sinal y[n]\n",
        "    \"\"\"\n",
        "    yy = 2*ss.dimpulse(n) + 1*ss.dimpulse(n-1) - ss.dimpulse(n-3) + 3*ss.dimpulse(n-4)\n",
        "    return yy"
      ],
      "execution_count": 19,
      "outputs": []
    },
    {
      "cell_type": "code",
      "metadata": {
        "id": "DWlRdj9ASoIt"
      },
      "source": [
        "n = np.arange(-4,10)"
      ],
      "execution_count": 20,
      "outputs": []
    },
    {
      "cell_type": "markdown",
      "metadata": {
        "id": "6DAT81Cs8DjI"
      },
      "source": [
        "## Parte a\n",
        "Usando a função `stem()` plote $z_1[n] = y[n-2]$."
      ]
    },
    {
      "cell_type": "code",
      "metadata": {
        "id": "gcKJ34tn8DjI",
        "colab": {
          "base_uri": "https://localhost:8080/",
          "height": 320
        },
        "outputId": "2bd08b8d-de85-4b95-fe0e-bae03dea7fa5"
      },
      "source": [
        "stem(n,y(n-2))\n",
        "show()"
      ],
      "execution_count": 21,
      "outputs": [
        {
          "output_type": "stream",
          "name": "stderr",
          "text": [
            "/usr/local/lib/python3.7/dist-packages/ipykernel_launcher.py:1: UserWarning: In Matplotlib 3.3 individual lines on a stem plot will be added as a LineCollection instead of individual lines. This significantly improves the performance of a stem plot. To remove this warning and switch to the new behaviour, set the \"use_line_collection\" keyword argument to True.\n",
            "  \"\"\"Entry point for launching an IPython kernel.\n"
          ]
        },
        {
          "output_type": "display_data",
          "data": {
            "image/png": "[encoded data removed]",
            "text/plain": [
              "<Figure size 432x288 with 1 Axes>"
            ]
          },
          "metadata": {
            "needs_background": "light"
          }
        }
      ]
    },
    {
      "cell_type": "markdown",
      "metadata": {
        "id": "N4LANS978DjI"
      },
      "source": [
        "## Parte b\n",
        "Usando a função `stem()` plote $z_2[n] = y[n+2]$."
      ]
    },
    {
      "cell_type": "code",
      "metadata": {
        "id": "Nkq9KK7j8DjI",
        "colab": {
          "base_uri": "https://localhost:8080/",
          "height": 320
        },
        "outputId": "00cc1df1-a7d4-40e7-fc53-c4c5c777dedd"
      },
      "source": [
        "stem(n,y(n+2))\n",
        "show()"
      ],
      "execution_count": 22,
      "outputs": [
        {
          "output_type": "stream",
          "name": "stderr",
          "text": [
            "/usr/local/lib/python3.7/dist-packages/ipykernel_launcher.py:1: UserWarning: In Matplotlib 3.3 individual lines on a stem plot will be added as a LineCollection instead of individual lines. This significantly improves the performance of a stem plot. To remove this warning and switch to the new behaviour, set the \"use_line_collection\" keyword argument to True.\n",
            "  \"\"\"Entry point for launching an IPython kernel.\n"
          ]
        },
        {
          "output_type": "display_data",
          "data": {
            "image/png": "[encoded data removed]",
            "text/plain": [
              "<Figure size 432x288 with 1 Axes>"
            ]
          },
          "metadata": {
            "needs_background": "light"
          }
        }
      ]
    },
    {
      "cell_type": "markdown",
      "metadata": {
        "id": "7EtbBoJE8DjJ"
      },
      "source": [
        "## Parte c\n",
        "Usando a função `stem()` plote $z_3[n] = y[-n]$."
      ]
    },
    {
      "cell_type": "code",
      "metadata": {
        "id": "yl07b2UU8DjJ",
        "colab": {
          "base_uri": "https://localhost:8080/",
          "height": 320
        },
        "outputId": "47f2ccf0-77cc-4c89-afe7-2f1a05b971c5"
      },
      "source": [
        "stem(n,y(-n))\n",
        "show()"
      ],
      "execution_count": 23,
      "outputs": [
        {
          "output_type": "stream",
          "name": "stderr",
          "text": [
            "/usr/local/lib/python3.7/dist-packages/ipykernel_launcher.py:1: UserWarning: In Matplotlib 3.3 individual lines on a stem plot will be added as a LineCollection instead of individual lines. This significantly improves the performance of a stem plot. To remove this warning and switch to the new behaviour, set the \"use_line_collection\" keyword argument to True.\n",
            "  \"\"\"Entry point for launching an IPython kernel.\n"
          ]
        },
        {
          "output_type": "display_data",
          "data": {
            "image/png": "[encoded data removed]",
            "text/plain": [
              "<Figure size 432x288 with 1 Axes>"
            ]
          },
          "metadata": {
            "needs_background": "light"
          }
        }
      ]
    },
    {
      "cell_type": "markdown",
      "metadata": {
        "id": "RjwtYFe08DjJ"
      },
      "source": [
        "# Problema 5\n",
        "Dado os sinais abaixo:\n",
        "$$\n",
        "\\begin{align}\n",
        "    x_1[n] &= \\{1,2,-3,2,1,1\\} \\;\\;\\;\\; h_1[n] = \\{1,2,-3\\}\\\\\n",
        "    x_2[n] &= \\{0,0,0,0,1,1,1,1,0,0,0,0,-1,-1,-1,-1,0,0,0,0\\}$  \\;\\;\\;\\;  h_{2}[n]=\\{1,4,10,16,19,16,10,4,1\\}\n",
        "\\end{align}\n",
        "$$"
      ]
    },
    {
      "cell_type": "markdown",
      "metadata": {
        "id": "9kuuAe708DjJ"
      },
      "source": [
        "## Parte a\n",
        "Escrever uma função na linguagem python (__\"sem usar funções prontas de qualquer biblioteca\"__) para fazer a __convolução__ entre dois sinais unidimensionais (1D). "
      ]
    },
    {
      "cell_type": "code",
      "metadata": {
        "id": "P36SMAVfWYdF"
      },
      "source": [
        "def conv(x,h):\n",
        "  padding = len(h) - 1\n",
        "\n",
        "  x = padding * [0] + x + padding * [0]\n",
        "  h = h[::-1] + (len(x)-len(h)) * [0]\n",
        "  y = []\n",
        "\n",
        "  for _ in range(len(x)-padding):\n",
        "    yy = sum([xk * hk for xk, hk in zip(x, h)])\n",
        "    y.append(yy)\n",
        "\n",
        "    h = h[-1:] + h[:-1]\n",
        "  \n",
        "  return y"
      ],
      "execution_count": 24,
      "outputs": []
    },
    {
      "cell_type": "markdown",
      "metadata": {
        "id": "7deNHhhU8DjK"
      },
      "source": [
        "## Parte b\n",
        "Faça a convolução entre os sinais $x_1*h_1$ e $x_2*h_2$ e plote usando a função stem os sinais originais e os resultados das convoluções."
      ]
    },
    {
      "cell_type": "code",
      "metadata": {
        "id": "7rl7VkWe8DjL"
      },
      "source": [
        "# Definição dos sinais x1, h1 e x2, h2\n",
        "x1 = [1,2,-3,2,1,1]\n",
        "h1 = [1,2,-3]\n",
        "\n",
        "x2 = [0,0,0,0,1,1,1,1,0,0,0,0,-1,-1,-1,-1,0,0,0,0]\n",
        "h2 = [1,4,10,16,19,16,10,4,1]"
      ],
      "execution_count": 25,
      "outputs": []
    },
    {
      "cell_type": "code",
      "metadata": {
        "id": "33XlTP4aoPLa",
        "outputId": "47342cdc-6d29-49f6-a6a1-1518a24f8635",
        "colab": {
          "base_uri": "https://localhost:8080/",
          "height": 268
        }
      },
      "source": [
        "conv_x1_h1 = conv(x1,h1)\n",
        "n = np.arange(0, len(conv_x1_h1))\n",
        "\n",
        "stem(n, conv_x1_h1, use_line_collection=True)\n",
        "show()"
      ],
      "execution_count": 26,
      "outputs": [
        {
          "output_type": "display_data",
          "data": {
            "image/png": "[encoded data removed]",
            "text/plain": [
              "<Figure size 432x288 with 1 Axes>"
            ]
          },
          "metadata": {
            "needs_background": "light"
          }
        }
      ]
    },
    {
      "cell_type": "code",
      "metadata": {
        "colab": {
          "base_uri": "https://localhost:8080/",
          "height": 265
        },
        "id": "0Lk3syJvcrIr",
        "outputId": "e6cbc40f-3240-4049-a627-d9f983397462"
      },
      "source": [
        "conv_x2_h2 = conv(x2,h2)\n",
        "n = np.arange(0, len(conv_x2_h2))\n",
        "\n",
        "stem(n, conv_x2_h2, use_line_collection=True)\n",
        "show()"
      ],
      "execution_count": 27,
      "outputs": [
        {
          "output_type": "display_data",
          "data": {
            "image/png": "[encoded data removed]",
            "text/plain": [
              "<Figure size 432x288 with 1 Axes>"
            ]
          },
          "metadata": {
            "needs_background": "light"
          }
        }
      ]
    },
    {
      "cell_type": "markdown",
      "metadata": {
        "id": "VU95n2UI8DjN"
      },
      "source": [
        "## Parte c\n",
        "De maneira similar à \"Parte b\" do exercício, usando __o mesmo código da função convolução__, faça a __correlação__ entre os sinais e plote os resultados.\n",
        "\n",
        "Dica, lembre-se que:\n",
        "\n",
        "Convolução: $ y[n] = \\sum_{k=-\\infty}^{\\infty} x[k]h[n-k]$\n",
        "\n",
        "Correlação: $ y[n] = \\sum_{k=-\\infty}^{\\infty} x[k]h[n+k]$"
      ]
    },
    {
      "cell_type": "code",
      "metadata": {
        "id": "pvA0h0wM8DjO"
      },
      "source": [
        "def corr(x,h):\n",
        "  padding = len(h) - 1\n",
        "\n",
        "  x = padding * [0] + x + padding * [0]\n",
        "  h = h + (len(x)-len(h)) * [0]\n",
        "  y = []\n",
        "\n",
        "  for _ in range(len(x)-padding):\n",
        "    yy = sum([xk * hk for xk, hk in zip(x, h)])\n",
        "    y.append(yy)\n",
        "\n",
        "    h = h[-1:] + h[:-1]\n",
        "  \n",
        "  return y"
      ],
      "execution_count": 28,
      "outputs": []
    },
    {
      "cell_type": "code",
      "metadata": {
        "id": "Ou4HZuzop_ZM",
        "outputId": "bdd9ebee-4f6a-4330-c53d-e37267893c64",
        "colab": {
          "base_uri": "https://localhost:8080/",
          "height": 268
        }
      },
      "source": [
        "corr_x1_h1 = corr(x1,h1)\n",
        "n = np.arange(0, len(corr_x1_h1))\n",
        "\n",
        "stem(n, corr_x1_h1, use_line_collection=True)\n",
        "show()"
      ],
      "execution_count": 29,
      "outputs": [
        {
          "output_type": "display_data",
          "data": {
            "image/png": "[encoded data removed]",
            "text/plain": [
              "<Figure size 432x288 with 1 Axes>"
            ]
          },
          "metadata": {
            "needs_background": "light"
          }
        }
      ]
    },
    {
      "cell_type": "code",
      "metadata": {
        "colab": {
          "base_uri": "https://localhost:8080/",
          "height": 265
        },
        "id": "cTiEch2RdkTi",
        "outputId": "3b12cc58-1563-4ae8-e7ee-211369117ad7"
      },
      "source": [
        "corr_x2_h2 = corr(x2,h2)\n",
        "n = np.arange(0, len(corr_x2_h2))\n",
        "\n",
        "stem(n, corr_x2_h2, use_line_collection=True)\n",
        "show()"
      ],
      "execution_count": 30,
      "outputs": [
        {
          "output_type": "display_data",
          "data": {
            "image/png": "[encoded data removed]",
            "text/plain": [
              "<Figure size 432x288 with 1 Axes>"
            ]
          },
          "metadata": {
            "needs_background": "light"
          }
        }
      ]
    },
    {
      "cell_type": "markdown",
      "metadata": {
        "id": "MPgK5Fgm8DjP"
      },
      "source": [
        "## Parte d\n",
        "Utilize agora a função da biblioteca numpy (numpy.convolve) para realizar as mesmas convoluções da \"Parte a\". Use a função numpy.convolve - mode{‘full’} e discuta os resultados."
      ]
    },
    {
      "cell_type": "code",
      "metadata": {
        "id": "YdNr6odo8DjP",
        "colab": {
          "base_uri": "https://localhost:8080/",
          "height": 268
        },
        "outputId": "239d1a10-d1f9-4a49-f09b-813ebdaa9373"
      },
      "source": [
        "np_conv_x1_h1 = np.convolve(x1,h1)\n",
        "n = np.arange(0, len(np_conv_x1_h1))\n",
        "\n",
        "stem(n, np_conv_x1_h1, use_line_collection=True)\n",
        "show()"
      ],
      "execution_count": 31,
      "outputs": [
        {
          "output_type": "display_data",
          "data": {
            "image/png": "[encoded data removed]",
            "text/plain": [
              "<Figure size 432x288 with 1 Axes>"
            ]
          },
          "metadata": {
            "needs_background": "light"
          }
        }
      ]
    },
    {
      "cell_type": "code",
      "metadata": {
        "colab": {
          "base_uri": "https://localhost:8080/",
          "height": 265
        },
        "id": "eL4siDGweQ7-",
        "outputId": "c054865f-54ca-4e1e-cee7-792aecec19eb"
      },
      "source": [
        "np_conv_x2_h2 = np.convolve(x2,h2)\n",
        "n = np.arange(0, len(np_conv_x2_h2))\n",
        "\n",
        "stem(n, np_conv_x2_h2, use_line_collection=True)\n",
        "show()"
      ],
      "execution_count": 32,
      "outputs": [
        {
          "output_type": "display_data",
          "data": {
            "image/png": "[encoded data removed]",
            "text/plain": [
              "<Figure size 432x288 with 1 Axes>"
            ]
          },
          "metadata": {
            "needs_background": "light"
          }
        }
      ]
    }
  ]
}