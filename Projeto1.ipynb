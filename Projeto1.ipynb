{
  "nbformat": 4,
  "nbformat_minor": 0,
  "metadata": {
    "kernelspec": {
      "display_name": "Python 3",
      "language": "python",
      "name": "python3"
    },
    "language_info": {
      "codemirror_mode": {
        "name": "ipython",
        "version": 3
      },
      "file_extension": ".py",
      "mimetype": "text/x-python",
      "name": "python",
      "nbconvert_exporter": "python",
      "pygments_lexer": "ipython3",
      "version": "3.8.10"
    },
    "colab": {
      "name": "Projeto1.ipynb",
      "provenance": [],
      "include_colab_link": true
    }
  },
  "cells": [
    {
      "cell_type": "markdown",
      "metadata": {
        "id": "view-in-github",
        "colab_type": "text"
      },
      "source": [
        "<a href=\"https://colab.research.google.com/github/julianafalves/Sinais-Digitais/blob/main/Projeto1.ipynb\" target=\"_parent\"><img src=\"https://colab.research.google.com/assets/colab-badge.svg\" alt=\"Open In Colab\"/></a>"
      ]
    },
    {
      "cell_type": "markdown",
      "metadata": {
        "id": "834kOYUf8Di0"
      },
      "source": [
        "# 1o Trabalho de PSD (notebook para preencher com os resultados)"
      ]
    },
    {
      "cell_type": "markdown",
      "metadata": {
        "id": "tN-Ek7Fu8Di5"
      },
      "source": [
        "### Número do Grupo : `inserir o número do grupo aqui`"
      ]
    },
    {
      "cell_type": "code",
      "metadata": {
        "colab": {
          "base_uri": "https://localhost:8080/"
        },
        "id": "0i6lxRDs8J22",
        "outputId": "e80f5767-a0ee-4aec-9c5e-109b211f2c87"
      },
      "source": [
        "!pip install scikit_dsp_comm"
      ],
      "execution_count": null,
      "outputs": [
        {
          "output_type": "stream",
          "name": "stdout",
          "text": [
            "Collecting scikit_dsp_comm\n",
            "  Downloading scikit_dsp_comm-2.0.0-py3-none-any.whl (90 kB)\n",
            "\u001b[?25l\r\u001b[K     |███▋                            | 10 kB 23.9 MB/s eta 0:00:01\r\u001b[K     |███████▏                        | 20 kB 29.7 MB/s eta 0:00:01\r\u001b[K     |██████████▉                     | 30 kB 24.4 MB/s eta 0:00:01\r\u001b[K     |██████████████▍                 | 40 kB 18.7 MB/s eta 0:00:01\r\u001b[K     |██████████████████              | 51 kB 8.3 MB/s eta 0:00:01\r\u001b[K     |█████████████████████▋          | 61 kB 8.7 MB/s eta 0:00:01\r\u001b[K     |█████████████████████████▎      | 71 kB 7.3 MB/s eta 0:00:01\r\u001b[K     |████████████████████████████▉   | 81 kB 8.1 MB/s eta 0:00:01\r\u001b[K     |████████████████████████████████| 90 kB 5.1 MB/s \n",
            "\u001b[?25hRequirement already satisfied: numpy in /usr/local/lib/python3.7/dist-packages (from scikit_dsp_comm) (1.19.5)\n",
            "Requirement already satisfied: matplotlib in /usr/local/lib/python3.7/dist-packages (from scikit_dsp_comm) (3.2.2)\n",
            "Requirement already satisfied: scipy in /usr/local/lib/python3.7/dist-packages (from scikit_dsp_comm) (1.4.1)\n",
            "Requirement already satisfied: kiwisolver>=1.0.1 in /usr/local/lib/python3.7/dist-packages (from matplotlib->scikit_dsp_comm) (1.3.1)\n",
            "Requirement already satisfied: cycler>=0.10 in /usr/local/lib/python3.7/dist-packages (from matplotlib->scikit_dsp_comm) (0.10.0)\n",
            "Requirement already satisfied: python-dateutil>=2.1 in /usr/local/lib/python3.7/dist-packages (from matplotlib->scikit_dsp_comm) (2.8.2)\n",
            "Requirement already satisfied: pyparsing!=2.0.4,!=2.1.2,!=2.1.6,>=2.0.1 in /usr/local/lib/python3.7/dist-packages (from matplotlib->scikit_dsp_comm) (2.4.7)\n",
            "Requirement already satisfied: six in /usr/local/lib/python3.7/dist-packages (from cycler>=0.10->matplotlib->scikit_dsp_comm) (1.15.0)\n",
            "Installing collected packages: scikit-dsp-comm\n",
            "Successfully installed scikit-dsp-comm-2.0.0\n"
          ]
        }
      ]
    },
    {
      "cell_type": "code",
      "metadata": {
        "jupyter": {
          "outputs_hidden": false
        },
        "id": "VL8D-64O8Di7"
      },
      "source": [
        "import sk_dsp_comm.sigsys as ssd\n",
        "import numpy as np\n",
        "from matplotlib import pylab\n",
        "from pylab import *\n",
        "import scipy.signal as signal\n",
        "from IPython.display import Audio, display\n",
        "from IPython.display import Image, SVG"
      ],
      "execution_count": 49,
      "outputs": []
    },
    {
      "cell_type": "code",
      "metadata": {
        "jupyter": {
          "outputs_hidden": false
        },
        "id": "clbJleYj8DjB"
      },
      "source": [
        "pylab.rcParams['savefig.dpi'] = 100 # default 72\n",
        "pylab.rcParams['figure.figsize'] = (6.0, 4.0) # default (6,4)\n",
        "%config InlineBackend.figure_formats=['png'] # default for inline viewing\n",
        "#config InlineBackend.figure_formats=['svg'] # SVG inline viewing\n",
        "#%config InlineBackend.figure_formats=['pdf'] # render pdf figs for LaTeX"
      ],
      "execution_count": null,
      "outputs": []
    },
    {
      "cell_type": "markdown",
      "metadata": {
        "id": "BL8ID_Kq8DjB"
      },
      "source": [
        "# Problema 1\n",
        " Usando a função stem() em Python calcule e plote as seguintes funções\n",
        "$$\n",
        "\\begin{align}\n",
        "    x_1[n] &= \\sin\\big(\\frac{\\pi}{5}n\\big),\\ 0\\leq n \\leq 15 \\\\\n",
        "    x_2[n] &= \\cos\\big(\\frac{3\\pi}{5}n\\big),\\ 0\\leq n \\leq 15 \\\\\n",
        "    x_3[n] &= \\sin\\big(\\frac{\\pi}{4}n\\big)\\cos\\big(\\frac{\\pi}{4}n\\big),\\ 0\\leq n \\leq 32\n",
        "\\end{align}\n",
        "$$\n",
        "Qual é o período da fundamental de cada sinail?"
      ]
    },
    {
      "cell_type": "code",
      "metadata": {
        "id": "V22YlV_PHd_1"
      },
      "source": [
        "pi = np.pi"
      ],
      "execution_count": 34,
      "outputs": []
    },
    {
      "cell_type": "markdown",
      "metadata": {
        "id": "fSD7Negr8DjC"
      },
      "source": [
        "## Parte a - sinal $x_1[n]$\n",
        "O período da fundamental, $N$, é 10\n",
        "\n",
        "`adicione o resultado aqui e explicação de como ele foi determinado`"
      ]
    },
    {
      "cell_type": "code",
      "metadata": {
        "id": "WrKW2y6D8DjC"
      },
      "source": [
        "def x1(n):\n",
        "   return np.sin((np.pi/5)*n)\n",
        "   \n",
        "n = np.arange(0, 16, dtype= 'int64')"
      ],
      "execution_count": null,
      "outputs": []
    },
    {
      "cell_type": "code",
      "metadata": {
        "colab": {
          "base_uri": "https://localhost:8080/",
          "height": 320
        },
        "id": "V03zIhUp-mlF",
        "outputId": "2848ca95-3534-4092-df5b-f8512a0c9c8f"
      },
      "source": [
        "stem(n,x1(n))\n",
        "show()"
      ],
      "execution_count": null,
      "outputs": [
        {
          "output_type": "stream",
          "name": "stderr",
          "text": [
            "/usr/local/lib/python3.7/dist-packages/ipykernel_launcher.py:1: UserWarning: In Matplotlib 3.3 individual lines on a stem plot will be added as a LineCollection instead of individual lines. This significantly improves the performance of a stem plot. To remove this warning and switch to the new behaviour, set the \"use_line_collection\" keyword argument to True.\n",
            "  \"\"\"Entry point for launching an IPython kernel.\n"
          ]
        },
        {
          "output_type": "display_data",
          "data": {
            "image/png": "[encoded data removed]",
            "text/plain": [
              "<Figure size 432x288 with 1 Axes>"
            ]
          },
          "metadata": {
            "needs_background": "light"
          }
        }
      ]
    },
    {
      "cell_type": "code",
      "metadata": {
        "id": "pmrm6XU9_gUr"
      },
      "source": [
        "def fundamentalFunc(omega): #pi/5 /pi\n",
        "  numerador = 2 * np.pi\n",
        "  if omega % np.pi == 0 or np.pi % (np.pi/5) == 0:\n",
        "    k = 1\n",
        "    while True:\n",
        "      N = (numerador * k / omega)\n",
        "      k += 1\n",
        "      if N.is_integer():\n",
        "        return N\n",
        "  return None\n",
        "    "
      ],
      "execution_count": 32,
      "outputs": []
    },
    {
      "cell_type": "code",
      "metadata": {
        "colab": {
          "base_uri": "https://localhost:8080/"
        },
        "id": "wU9vMR28D_Qe",
        "outputId": "1c6a3af3-0923-4a3d-e051-31462b624d67"
      },
      "source": [
        "periodo = fundamentalFunc(np.pi/5)\n",
        "print(periodo)"
      ],
      "execution_count": 33,
      "outputs": [
        {
          "output_type": "stream",
          "name": "stdout",
          "text": [
            "10.0\n"
          ]
        }
      ]
    },
    {
      "cell_type": "markdown",
      "metadata": {
        "id": "hZ0jeNeP8DjC"
      },
      "source": [
        "## Parte b - sinal $x_2[n]$\n",
        "O período da fundamental, $N$, é\n",
        "\n",
        "`adicione o resultado aqui e explicação de como ele foi determinado`"
      ]
    },
    {
      "cell_type": "code",
      "metadata": {
        "id": "gaRoTRM78DjD"
      },
      "source": [
        "# escreva o seu código aqui"
      ],
      "execution_count": null,
      "outputs": []
    },
    {
      "cell_type": "markdown",
      "metadata": {
        "id": "aqE-RQ_K8DjD"
      },
      "source": [
        "## Parte c - sinal $x_3[n]$\n",
        "Para encontrar o período, primeiro expanda o produto usando uma relação trigonomêtrica apropriada:\n",
        "$$\n",
        "    x_3[n] = \\frac{1}{2}\\left[\\sin(0\\cdot n) + \\sin\\big(\\frac{\\pi}{2}n\\big)\\right], 0\\leq n\\leq 32\n",
        "$$\n",
        "Você deve escolher $N$ tal que $\\ldots$\n",
        "\n",
        "`adicione o resultado aqui e explicação de como ele foi determinado`\n"
      ]
    },
    {
      "cell_type": "code",
      "metadata": {
        "id": "Jz2h8Vjb8DjE"
      },
      "source": [
        "def x3(n):\n",
        "  return (1/2)*np.sin((n*pi)/2)\n",
        "n3 = np.arange(0,33,dtype='int64')"
      ],
      "execution_count": 46,
      "outputs": []
    },
    {
      "cell_type": "code",
      "metadata": {
        "colab": {
          "base_uri": "https://localhost:8080/",
          "height": 337
        },
        "id": "Oh0VnVnUHtOg",
        "outputId": "2dcf668f-8d01-4412-d671-dbaaa2cca8ba"
      },
      "source": [
        "stem(n3,x3(n3))\n",
        "show"
      ],
      "execution_count": 47,
      "outputs": [
        {
          "output_type": "stream",
          "name": "stderr",
          "text": [
            "/usr/local/lib/python3.7/dist-packages/ipykernel_launcher.py:1: UserWarning: In Matplotlib 3.3 individual lines on a stem plot will be added as a LineCollection instead of individual lines. This significantly improves the performance of a stem plot. To remove this warning and switch to the new behaviour, set the \"use_line_collection\" keyword argument to True.\n",
            "  \"\"\"Entry point for launching an IPython kernel.\n"
          ]
        },
        {
          "output_type": "execute_result",
          "data": {
            "text/plain": [
              "<function matplotlib.pyplot.show>"
            ]
          },
          "metadata": {},
          "execution_count": 47
        },
        {
          "output_type": "display_data",
          "data": {
            "image/png": "[encoded data removed]",
            "text/plain": [
              "<Figure size 432x288 with 1 Axes>"
            ]
          },
          "metadata": {
            "needs_background": "light"
          }
        }
      ]
    },
    {
      "cell_type": "code",
      "metadata": {
        "colab": {
          "base_uri": "https://localhost:8080/"
        },
        "id": "lU2ZAFqbH7O2",
        "outputId": "8a9246d7-c1fb-4e57-e0b5-d38dd925776c"
      },
      "source": [
        "print(\"Período fundamental: \",fundamentalFunc(pi/2))"
      ],
      "execution_count": 43,
      "outputs": [
        {
          "output_type": "stream",
          "name": "stdout",
          "text": [
            "Período fundamental:  4.0\n"
          ]
        }
      ]
    },
    {
      "cell_type": "markdown",
      "metadata": {
        "id": "u-El1iCS8DjF"
      },
      "source": [
        "# Problema 2\n",
        "Usando a função `stem()` calcule e plote a o sinal\n",
        "$$\n",
        "x[n] = \\begin{cases}\n",
        "        2n+1, & -3\\leq n\\leq 3 \\\\\n",
        "        0, & \\text{otherwise}\n",
        "        \\end{cases}\n",
        "$$\n",
        "no intervalo $-8\\leq n\\leq 8$. \n",
        "\n",
        "OBS: Criar a função $x[n]$ sem o uso de loop!! Observe ainda que o módulo python “sk_dsp_comm.sigsys” possui a função drect() que serve para criar uma função janela - estude o exemplo python ex2.py fornecido na aba “Material para realização dos projetos”. "
      ]
    },
    {
      "cell_type": "code",
      "metadata": {
        "id": "5SpVwuww8DjG"
      },
      "source": [
        "n = np.arange(-8,9)\n",
        "x = (2*n + 1) * ssd.drect(n+3, N=7)"
      ],
      "execution_count": 55,
      "outputs": []
    },
    {
      "cell_type": "code",
      "metadata": {
        "colab": {
          "base_uri": "https://localhost:8080/",
          "height": 556
        },
        "id": "ewepMeFyKhNN",
        "outputId": "7b549881-c34b-4a16-b489-0259a7fafbd7"
      },
      "source": [
        "figure(figsize=(10,8))\n",
        "stem(n,x)\n",
        "show"
      ],
      "execution_count": 56,
      "outputs": [
        {
          "output_type": "stream",
          "name": "stderr",
          "text": [
            "/usr/local/lib/python3.7/dist-packages/ipykernel_launcher.py:2: UserWarning: In Matplotlib 3.3 individual lines on a stem plot will be added as a LineCollection instead of individual lines. This significantly improves the performance of a stem plot. To remove this warning and switch to the new behaviour, set the \"use_line_collection\" keyword argument to True.\n",
            "  \n"
          ]
        },
        {
          "output_type": "execute_result",
          "data": {
            "text/plain": [
              "<function matplotlib.pyplot.show>"
            ]
          },
          "metadata": {},
          "execution_count": 56
        },
        {
          "output_type": "display_data",
          "data": {
            "image/png": "[encoded data removed]",
            "text/plain": [
              "<Figure size 720x576 with 1 Axes>"
            ]
          },
          "metadata": {
            "needs_background": "light"
          }
        }
      ]
    },
    {
      "cell_type": "code",
      "metadata": {
        "colab": {
          "base_uri": "https://localhost:8080/",
          "height": 405
        },
        "id": "JFyRoqBWMA36",
        "outputId": "891e408c-6222-4aae-94f7-e4c8380da063"
      },
      "source": [
        "import numpy as np\n",
        "import matplotlib.pyplot as plt\n",
        "import sk_dsp_comm.sigsys as ssd                         \n",
        "\n",
        "# create time axis n:  -5 <= n <= 15\n",
        "n = np.arange(-5,15+1) \n",
        "\n",
        "# Create two subplots and unpack the output array immediately\n",
        "fig, (ax1, ax2, ax3) = plt.subplots(3, 1, sharey=True)\n",
        "\n",
        "# plot u[n]\n",
        "ax1.stem( n, ssd.dstep(n) )\n",
        "ax1.set_title('u[n]')\n",
        "\n",
        "# plot u[n-10]\n",
        "ax2.stem( n, ssd.dstep(n-10) )\n",
        "ax2.set_title('u[n-10]')\n",
        "\n",
        "# difference\n",
        "ax3.stem( n, ssd.dstep(n) - ssd.dstep(n-10) )\n",
        "ax3.set_title('u[n] - u[n-10]')\n",
        "\n",
        "fig.tight_layout() \n",
        "plt.show()"
      ],
      "execution_count": 58,
      "outputs": [
        {
          "output_type": "stream",
          "name": "stderr",
          "text": [
            "/usr/local/lib/python3.7/dist-packages/ipykernel_launcher.py:12: UserWarning: In Matplotlib 3.3 individual lines on a stem plot will be added as a LineCollection instead of individual lines. This significantly improves the performance of a stem plot. To remove this warning and switch to the new behaviour, set the \"use_line_collection\" keyword argument to True.\n",
            "  if sys.path[0] == '':\n",
            "/usr/local/lib/python3.7/dist-packages/ipykernel_launcher.py:16: UserWarning: In Matplotlib 3.3 individual lines on a stem plot will be added as a LineCollection instead of individual lines. This significantly improves the performance of a stem plot. To remove this warning and switch to the new behaviour, set the \"use_line_collection\" keyword argument to True.\n",
            "  app.launch_new_instance()\n",
            "/usr/local/lib/python3.7/dist-packages/ipykernel_launcher.py:20: UserWarning: In Matplotlib 3.3 individual lines on a stem plot will be added as a LineCollection instead of individual lines. This significantly improves the performance of a stem plot. To remove this warning and switch to the new behaviour, set the \"use_line_collection\" keyword argument to True.\n"
          ]
        },
        {
          "output_type": "display_data",
          "data": {
            "image/png": "[encoded data removed]",
            "text/plain": [
              "<Figure size 432x288 with 3 Axes>"
            ]
          },
          "metadata": {
            "needs_background": "light"
          }
        }
      ]
    },
    {
      "cell_type": "markdown",
      "metadata": {
        "id": "AmHKLPFy8DjG"
      },
      "source": [
        "# Problema 3\n",
        "Usando a função `stem()` calcule e plote o sinal\n",
        "$$\n",
        "    x[n] = u[n]u[8-n] + u[n-2]-u[n-5]\n",
        "$$\n",
        "no intervalo $-2\\leq n\\leq 16$.  Observe que o módulo  `sigsys`  (aliased  como  `ss`)  possui a função `dstep()` definida, a qual pode tornar esse problema bastante simples.\n",
        "\n",
        "OBS: Estude os exemplos ex1.py e ex2.py fornecidos na aba “Material para realização dos projetos”."
      ]
    },
    {
      "cell_type": "code",
      "metadata": {
        "id": "Al_zajKv8DjG"
      },
      "source": [
        "n = np.arange(-2,16+1)\n",
        "x = ssd.dstep(n)*ssd.dstep(8-n)+ssd.dstep(n-2)-ssd.dstep(n-5)"
      ],
      "execution_count": 59,
      "outputs": []
    },
    {
      "cell_type": "code",
      "metadata": {
        "colab": {
          "base_uri": "https://localhost:8080/",
          "height": 860
        },
        "id": "FGCX9LXuM2VF",
        "outputId": "ab64e5a4-8bc6-43e0-e1d0-6213c667031a"
      },
      "source": [
        "fig, axs = plt.subplots(3, 1, sharey=True,figsize=(20,12))\n",
        "\n",
        "\n",
        "axs[0].stem(n, ssd.dstep(n))\n",
        "axs[0].set_title('u[n]')\n",
        "\n",
        "axs[1].stem(n, ssd.dstep(8-n))\n",
        "axs[1].set_title('u[8-n]')\n",
        "\n",
        "axs[2].stem(n, ssd.dstep(n)*ssd.dstep(8-n))\n",
        "axs[2].set_title('u[n]*u[8-n]')"
      ],
      "execution_count": 75,
      "outputs": [
        {
          "output_type": "stream",
          "name": "stderr",
          "text": [
            "/usr/local/lib/python3.7/dist-packages/ipykernel_launcher.py:4: UserWarning: In Matplotlib 3.3 individual lines on a stem plot will be added as a LineCollection instead of individual lines. This significantly improves the performance of a stem plot. To remove this warning and switch to the new behaviour, set the \"use_line_collection\" keyword argument to True.\n",
            "  after removing the cwd from sys.path.\n",
            "/usr/local/lib/python3.7/dist-packages/ipykernel_launcher.py:7: UserWarning: In Matplotlib 3.3 individual lines on a stem plot will be added as a LineCollection instead of individual lines. This significantly improves the performance of a stem plot. To remove this warning and switch to the new behaviour, set the \"use_line_collection\" keyword argument to True.\n",
            "  import sys\n",
            "/usr/local/lib/python3.7/dist-packages/ipykernel_launcher.py:10: UserWarning: In Matplotlib 3.3 individual lines on a stem plot will be added as a LineCollection instead of individual lines. This significantly improves the performance of a stem plot. To remove this warning and switch to the new behaviour, set the \"use_line_collection\" keyword argument to True.\n",
            "  # Remove the CWD from sys.path while we load stuff.\n"
          ]
        },
        {
          "output_type": "execute_result",
          "data": {
            "text/plain": [
              "Text(0.5, 1.0, 'u[n]*u[8-n]')"
            ]
          },
          "metadata": {},
          "execution_count": 75
        },
        {
          "output_type": "display_data",
          "data": {
            "image/png": "[encoded data removed]",
            "text/plain": [
              "<Figure size 1440x864 with 3 Axes>"
            ]
          },
          "metadata": {
            "needs_background": "light"
          }
        }
      ]
    },
    {
      "cell_type": "code",
      "metadata": {
        "colab": {
          "base_uri": "https://localhost:8080/",
          "height": 860
        },
        "id": "F6briFc4QWIZ",
        "outputId": "48d86f56-02d6-48ad-e7b7-e0732b9063df"
      },
      "source": [
        "fig, axs = plt.subplots(3, 1, sharey=True, figsize=(20,12))\n",
        "axs[0].stem(n, ssd.dstep(n)*ssd.dstep(8-n))\n",
        "axs[0].set_title('u[n]*u[8-n]')\n",
        "\n",
        "axs[1].stem(n, ssd.dstep(n)*ssd.dstep(8-n)+ssd.dstep(n-2))\n",
        "axs[1].set_title('u[n]*u[8-n]-u[n-2]')\n",
        "\n",
        "axs[2].stem(n, ssd.dstep(n)*ssd.dstep(8-n)+ssd.dstep(n-2)-ssd.dstep(n-5))\n",
        "axs[2].set_title('u[n]*u[8-n]+u[n-2]-u[n-5]')"
      ],
      "execution_count": 76,
      "outputs": [
        {
          "output_type": "stream",
          "name": "stderr",
          "text": [
            "/usr/local/lib/python3.7/dist-packages/ipykernel_launcher.py:2: UserWarning: In Matplotlib 3.3 individual lines on a stem plot will be added as a LineCollection instead of individual lines. This significantly improves the performance of a stem plot. To remove this warning and switch to the new behaviour, set the \"use_line_collection\" keyword argument to True.\n",
            "  \n",
            "/usr/local/lib/python3.7/dist-packages/ipykernel_launcher.py:5: UserWarning: In Matplotlib 3.3 individual lines on a stem plot will be added as a LineCollection instead of individual lines. This significantly improves the performance of a stem plot. To remove this warning and switch to the new behaviour, set the \"use_line_collection\" keyword argument to True.\n",
            "  \"\"\"\n",
            "/usr/local/lib/python3.7/dist-packages/ipykernel_launcher.py:8: UserWarning: In Matplotlib 3.3 individual lines on a stem plot will be added as a LineCollection instead of individual lines. This significantly improves the performance of a stem plot. To remove this warning and switch to the new behaviour, set the \"use_line_collection\" keyword argument to True.\n",
            "  \n"
          ]
        },
        {
          "output_type": "execute_result",
          "data": {
            "text/plain": [
              "Text(0.5, 1.0, 'u[n]*u[8-n]+u[n-2]-u[n-5]')"
            ]
          },
          "metadata": {},
          "execution_count": 76
        },
        {
          "output_type": "display_data",
          "data": {
            "image/png": "[encoded data removed]",
            "text/plain": [
              "<Figure size 1440x864 with 3 Axes>"
            ]
          },
          "metadata": {
            "needs_background": "light"
          }
        }
      ]
    },
    {
      "cell_type": "markdown",
      "metadata": {
        "id": "DAwmwPmX8DjH"
      },
      "source": [
        "# Problema 4\n",
        "Considere o sinal\n",
        "$$\n",
        "    y[n] = \\begin{cases}\n",
        "        2, & n=0 \\\\\n",
        "        1, & n=1 \\\\\n",
        "        -1, & n=3 \\\\\n",
        "        3, & n=4 \\\\\n",
        "        0, & \\text{caso contrário}\n",
        "    \\end{cases}\n",
        "$$"
      ]
    },
    {
      "cell_type": "markdown",
      "metadata": {
        "id": "4ez7LfJF8DjH"
      },
      "source": [
        "Escreva uma função python ($y[n]$) como indicado abaixo para que você possa responder as questões que seguem."
      ]
    },
    {
      "cell_type": "code",
      "metadata": {
        "id": "RruipAgF8DjI"
      },
      "source": [
        "def y(n):\n",
        "    \"\"\"\n",
        "    Use a função dimpulse do módulo sigsys para diretamente definir \n",
        "    o sinal y[n]\n",
        "    \"\"\"\n",
        "    yy = 2*ssd.dimpulse(n) + 1*ssd.dimpulse(n-1) - ssd.dimpulse(n-3) + 3*ssd.dimpulse(n-4)\n",
        "    return yy"
      ],
      "execution_count": 85,
      "outputs": []
    },
    {
      "cell_type": "code",
      "metadata": {
        "id": "DWlRdj9ASoIt"
      },
      "source": [
        "n = np.arange(-4,10)"
      ],
      "execution_count": 91,
      "outputs": []
    },
    {
      "cell_type": "markdown",
      "metadata": {
        "id": "6DAT81Cs8DjI"
      },
      "source": [
        "## Parte a\n",
        "Usando a função `stem()` plote $z_1[n] = y[n-2]$."
      ]
    },
    {
      "cell_type": "code",
      "metadata": {
        "id": "gcKJ34tn8DjI",
        "colab": {
          "base_uri": "https://localhost:8080/",
          "height": 320
        },
        "outputId": "7fedc046-653f-4472-be55-2caa8c310d7b"
      },
      "source": [
        "stem(n,y(n-2))\n",
        "show()"
      ],
      "execution_count": 92,
      "outputs": [
        {
          "output_type": "stream",
          "name": "stderr",
          "text": [
            "/usr/local/lib/python3.7/dist-packages/ipykernel_launcher.py:1: UserWarning: In Matplotlib 3.3 individual lines on a stem plot will be added as a LineCollection instead of individual lines. This significantly improves the performance of a stem plot. To remove this warning and switch to the new behaviour, set the \"use_line_collection\" keyword argument to True.\n",
            "  \"\"\"Entry point for launching an IPython kernel.\n"
          ]
        },
        {
          "output_type": "display_data",
          "data": {
            "image/png": "[encoded data removed]",
            "text/plain": [
              "<Figure size 432x288 with 1 Axes>"
            ]
          },
          "metadata": {
            "needs_background": "light"
          }
        }
      ]
    },
    {
      "cell_type": "markdown",
      "metadata": {
        "id": "N4LANS978DjI"
      },
      "source": [
        "## Parte b\n",
        "Usando a função `stem()` plote $z_2[n] = y[n+2]$."
      ]
    },
    {
      "cell_type": "code",
      "metadata": {
        "id": "Nkq9KK7j8DjI",
        "colab": {
          "base_uri": "https://localhost:8080/",
          "height": 320
        },
        "outputId": "085a5ac0-ae06-4ad6-a31e-04ab354c3e73"
      },
      "source": [
        "stem(n,y(n+2))\n",
        "show()"
      ],
      "execution_count": 93,
      "outputs": [
        {
          "output_type": "stream",
          "name": "stderr",
          "text": [
            "/usr/local/lib/python3.7/dist-packages/ipykernel_launcher.py:1: UserWarning: In Matplotlib 3.3 individual lines on a stem plot will be added as a LineCollection instead of individual lines. This significantly improves the performance of a stem plot. To remove this warning and switch to the new behaviour, set the \"use_line_collection\" keyword argument to True.\n",
            "  \"\"\"Entry point for launching an IPython kernel.\n"
          ]
        },
        {
          "output_type": "display_data",
          "data": {
            "image/png": "[encoded data removed]",
            "text/plain": [
              "<Figure size 432x288 with 1 Axes>"
            ]
          },
          "metadata": {
            "needs_background": "light"
          }
        }
      ]
    },
    {
      "cell_type": "markdown",
      "metadata": {
        "id": "7EtbBoJE8DjJ"
      },
      "source": [
        "## Parte c\n",
        "Usando a função `stem()` plote $z_3[n] = y[-n]$."
      ]
    },
    {
      "cell_type": "code",
      "metadata": {
        "id": "yl07b2UU8DjJ",
        "colab": {
          "base_uri": "https://localhost:8080/",
          "height": 320
        },
        "outputId": "b0684bef-6446-4722-d223-8bc3c3a95474"
      },
      "source": [
        "stem(n,y(-n))\n",
        "show()"
      ],
      "execution_count": 94,
      "outputs": [
        {
          "output_type": "stream",
          "name": "stderr",
          "text": [
            "/usr/local/lib/python3.7/dist-packages/ipykernel_launcher.py:1: UserWarning: In Matplotlib 3.3 individual lines on a stem plot will be added as a LineCollection instead of individual lines. This significantly improves the performance of a stem plot. To remove this warning and switch to the new behaviour, set the \"use_line_collection\" keyword argument to True.\n",
            "  \"\"\"Entry point for launching an IPython kernel.\n"
          ]
        },
        {
          "output_type": "display_data",
          "data": {
            "image/png": "[encoded data removed]",
            "text/plain": [
              "<Figure size 432x288 with 1 Axes>"
            ]
          },
          "metadata": {
            "needs_background": "light"
          }
        }
      ]
    },
    {
      "cell_type": "markdown",
      "metadata": {
        "id": "RjwtYFe08DjJ"
      },
      "source": [
        "# Problema 5\n",
        "Dado os sinais abaixo:\n",
        "$$\n",
        "\\begin{align}\n",
        "    x_1[n] &= \\{1,2,-3,2,1,1\\} \\;\\;\\;\\; h_1[n] = \\{1,2,-3\\}\\\\\n",
        "    x_2[n] &= \\{0,0,0,0,1,1,1,1,0,0,0,0,-1,-1,-1,-1,0,0,0,0\\}$  \\;\\;\\;\\;  h_{2}[n]=\\{1,4,10,16,19,16,10,4,1\\}\n",
        "\\end{align}\n",
        "$$"
      ]
    },
    {
      "cell_type": "markdown",
      "metadata": {
        "id": "9kuuAe708DjJ"
      },
      "source": [
        "## Parte a\n",
        "Escrever uma função na linguagem python (__\"sem usar funções prontas de qualquer biblioteca\"__) para fazer a __convolução__ entre dois sinais unidimensionais (1D). "
      ]
    },
    {
      "cell_type": "code",
      "metadata": {
        "id": "P36SMAVfWYdF"
      },
      "source": [
        "def cov(x,h):\n",
        "  tam = len(h1) - 1\n",
        "  x = tam*[0] + x + tam*[0] #completa com 0\n",
        "  h = h[::-1] + (len(x)-len(h))*[0] # flip e completa com 0\n",
        "  y = []\n",
        "\n",
        "  for i in range(len(h)):\n",
        "    y.append(sum([a * b for a, b in zip(x, h)]))\n",
        "    h = h[-1:] + h[:-1]\n",
        "  return y\n"
      ],
      "execution_count": 106,
      "outputs": []
    },
    {
      "cell_type": "markdown",
      "metadata": {
        "id": "7deNHhhU8DjK"
      },
      "source": [
        "## Parte b\n",
        "Faça a convolução entre os sinais $x_1*h_1$ e $x_2*h_2$ e plote usando a função stem os sinais originais e os resultados das convoluções."
      ]
    },
    {
      "cell_type": "code",
      "metadata": {
        "id": "7rl7VkWe8DjL",
        "colab": {
          "base_uri": "https://localhost:8080/",
          "height": 341
        },
        "outputId": "19c1637a-4c79-4ffb-ec50-7edc8225d69e"
      },
      "source": [
        "h1= [ 1,2,-3]\n",
        "x1 = [1,2,-3,2,1,1]\n",
        "stem(np.arange(0,len(cov(x1,h1))),cov(x1,h1))\n",
        "show"
      ],
      "execution_count": 107,
      "outputs": [
        {
          "output_type": "stream",
          "name": "stderr",
          "text": [
            "/usr/local/lib/python3.7/dist-packages/ipykernel_launcher.py:1: UserWarning: In Matplotlib 3.3 individual lines on a stem plot will be added as a LineCollection instead of individual lines. This significantly improves the performance of a stem plot. To remove this warning and switch to the new behaviour, set the \"use_line_collection\" keyword argument to True.\n",
            "  \"\"\"Entry point for launching an IPython kernel.\n"
          ]
        },
        {
          "output_type": "execute_result",
          "data": {
            "text/plain": [
              "<function matplotlib.pyplot.show>"
            ]
          },
          "metadata": {},
          "execution_count": 107
        },
        {
          "output_type": "display_data",
          "data": {
            "image/png": "[encoded data removed]",
            "text/plain": [
              "<Figure size 432x288 with 1 Axes>"
            ]
          },
          "metadata": {
            "needs_background": "light"
          }
        }
      ]
    },
    {
      "cell_type": "code",
      "metadata": {
        "colab": {
          "base_uri": "https://localhost:8080/",
          "height": 337
        },
        "id": "0Lk3syJvcrIr",
        "outputId": "2c21e7ca-85bb-4199-fade-8bd896cb2eca"
      },
      "source": [
        "x2 = [0,0,0,0,1,1,1,1,0,0,0,0,-1,-1,-1,-1,0,0,0,0]\n",
        "h2 = [1,4,10,16,19,16,10,4,1]\n",
        "stem(np.arange(0,len(cov(x2,h2))),cov(x2,h2))\n",
        "show"
      ],
      "execution_count": 109,
      "outputs": [
        {
          "output_type": "stream",
          "name": "stderr",
          "text": [
            "/usr/local/lib/python3.7/dist-packages/ipykernel_launcher.py:3: UserWarning: In Matplotlib 3.3 individual lines on a stem plot will be added as a LineCollection instead of individual lines. This significantly improves the performance of a stem plot. To remove this warning and switch to the new behaviour, set the \"use_line_collection\" keyword argument to True.\n",
            "  This is separate from the ipykernel package so we can avoid doing imports until\n"
          ]
        },
        {
          "output_type": "execute_result",
          "data": {
            "text/plain": [
              "<function matplotlib.pyplot.show>"
            ]
          },
          "metadata": {},
          "execution_count": 109
        },
        {
          "output_type": "display_data",
          "data": {
            "image/png": "[encoded data removed]",
            "text/plain": [
              "<Figure size 432x288 with 1 Axes>"
            ]
          },
          "metadata": {
            "needs_background": "light"
          }
        }
      ]
    },
    {
      "cell_type": "markdown",
      "metadata": {
        "id": "VU95n2UI8DjN"
      },
      "source": [
        "## Parte c\n",
        "De maneira similar à \"Parte b\" do exercício, usando __o mesmo código da função convolução__, faça a __correlação__ entre os sinais e plote os resultados.\n",
        "\n",
        "Dica, lembre-se que:\n",
        "\n",
        "Convolução: $ y[n] = \\sum_{k=-\\infty}^{\\infty} x[k]h[n-k]$\n",
        "\n",
        "Correlação: $ y[n] = \\sum_{k=-\\infty}^{\\infty} x[k]h[n+k]$"
      ]
    },
    {
      "cell_type": "code",
      "metadata": {
        "id": "pvA0h0wM8DjO"
      },
      "source": [
        "def corr(x,h):\n",
        "  tam = len(h1) - 1\n",
        "  x = tam*[0] + x + tam*[0] #completa com 0\n",
        "  h = h + (len(x)-len(h))*[0] # flip e completa com 0\n",
        "  y = []\n",
        "\n",
        "  for i in range(len(h)):\n",
        "    y.append(sum([a * b for a, b in zip(x, h)]))\n",
        "    h = h[-1:] + h[:-1]\n",
        "  return y"
      ],
      "execution_count": 111,
      "outputs": []
    },
    {
      "cell_type": "code",
      "metadata": {
        "colab": {
          "base_uri": "https://localhost:8080/",
          "height": 341
        },
        "id": "svl8wwq1daJk",
        "outputId": "a65f33ea-bf8e-4121-8d4f-3a2e0e2b9927"
      },
      "source": [
        "h1= [ 1,2,-3]\n",
        "x1 = [1,2,-3,2,1,1]\n",
        "stem(np.arange(0,len(corr(x1,h1))),corr(x1,h1))\n",
        "show"
      ],
      "execution_count": 112,
      "outputs": [
        {
          "output_type": "stream",
          "name": "stderr",
          "text": [
            "/usr/local/lib/python3.7/dist-packages/ipykernel_launcher.py:3: UserWarning: In Matplotlib 3.3 individual lines on a stem plot will be added as a LineCollection instead of individual lines. This significantly improves the performance of a stem plot. To remove this warning and switch to the new behaviour, set the \"use_line_collection\" keyword argument to True.\n",
            "  This is separate from the ipykernel package so we can avoid doing imports until\n"
          ]
        },
        {
          "output_type": "execute_result",
          "data": {
            "text/plain": [
              "<function matplotlib.pyplot.show>"
            ]
          },
          "metadata": {},
          "execution_count": 112
        },
        {
          "output_type": "display_data",
          "data": {
            "image/png": "[encoded data removed]",
            "text/plain": [
              "<Figure size 432x288 with 1 Axes>"
            ]
          },
          "metadata": {
            "needs_background": "light"
          }
        }
      ]
    },
    {
      "cell_type": "code",
      "metadata": {
        "colab": {
          "base_uri": "https://localhost:8080/",
          "height": 337
        },
        "id": "cTiEch2RdkTi",
        "outputId": "9aaa638f-d368-4ace-d6d7-f14cae91be39"
      },
      "source": [
        "x2 = [0,0,0,0,1,1,1,1,0,0,0,0,-1,-1,-1,-1,0,0,0,0]\n",
        "h2 = [1,4,10,16,19,16,10,4,1]\n",
        "stem(np.arange(0,len(corr(x2,h2))),corr(x2,h2))\n",
        "show"
      ],
      "execution_count": 113,
      "outputs": [
        {
          "output_type": "stream",
          "name": "stderr",
          "text": [
            "/usr/local/lib/python3.7/dist-packages/ipykernel_launcher.py:3: UserWarning: In Matplotlib 3.3 individual lines on a stem plot will be added as a LineCollection instead of individual lines. This significantly improves the performance of a stem plot. To remove this warning and switch to the new behaviour, set the \"use_line_collection\" keyword argument to True.\n",
            "  This is separate from the ipykernel package so we can avoid doing imports until\n"
          ]
        },
        {
          "output_type": "execute_result",
          "data": {
            "text/plain": [
              "<function matplotlib.pyplot.show>"
            ]
          },
          "metadata": {},
          "execution_count": 113
        },
        {
          "output_type": "display_data",
          "data": {
            "image/png": "[encoded data removed]",
            "text/plain": [
              "<Figure size 432x288 with 1 Axes>"
            ]
          },
          "metadata": {
            "needs_background": "light"
          }
        }
      ]
    },
    {
      "cell_type": "markdown",
      "metadata": {
        "id": "MPgK5Fgm8DjP"
      },
      "source": [
        "## Parte d\n",
        "Utilize agora a função da biblioteca numpy (numpy.convolve) para realizar as mesmas convoluções da \"Parte a\". Use a função numpy.convolve - mode{‘full’} e discuta os resultados."
      ]
    },
    {
      "cell_type": "code",
      "metadata": {
        "id": "YdNr6odo8DjP",
        "colab": {
          "base_uri": "https://localhost:8080/",
          "height": 323
        },
        "outputId": "0bcdc1ae-37fd-4c3a-b0a3-06467cf18750"
      },
      "source": [
        "h1= [ 1,2,-3]\n",
        "x1 = [1,2,-3,2,1,1]\n",
        "stem(np.arange(0,len(np.convolve(x1,h1))),np.convolve(x1,h1))\n",
        "show()"
      ],
      "execution_count": 116,
      "outputs": [
        {
          "output_type": "stream",
          "name": "stderr",
          "text": [
            "/usr/local/lib/python3.7/dist-packages/ipykernel_launcher.py:3: UserWarning: In Matplotlib 3.3 individual lines on a stem plot will be added as a LineCollection instead of individual lines. This significantly improves the performance of a stem plot. To remove this warning and switch to the new behaviour, set the \"use_line_collection\" keyword argument to True.\n",
            "  This is separate from the ipykernel package so we can avoid doing imports until\n"
          ]
        },
        {
          "output_type": "display_data",
          "data": {
            "image/png": "[encoded data removed]",
            "text/plain": [
              "<Figure size 432x288 with 1 Axes>"
            ]
          },
          "metadata": {
            "needs_background": "light"
          }
        }
      ]
    },
    {
      "cell_type": "code",
      "metadata": {
        "colab": {
          "base_uri": "https://localhost:8080/",
          "height": 337
        },
        "id": "eL4siDGweQ7-",
        "outputId": "d932925b-52af-45e6-8fe0-dd2e66db626e"
      },
      "source": [
        "x2 = [0,0,0,0,1,1,1,1,0,0,0,0,-1,-1,-1,-1,0,0,0,0]\n",
        "h2 = [1,4,10,16,19,16,10,4,1]\n",
        "stem(np.arange(0,len(np.convolve(x2,h2))),np.convolve(x2,h2))\n",
        "show"
      ],
      "execution_count": 117,
      "outputs": [
        {
          "output_type": "stream",
          "name": "stderr",
          "text": [
            "/usr/local/lib/python3.7/dist-packages/ipykernel_launcher.py:3: UserWarning: In Matplotlib 3.3 individual lines on a stem plot will be added as a LineCollection instead of individual lines. This significantly improves the performance of a stem plot. To remove this warning and switch to the new behaviour, set the \"use_line_collection\" keyword argument to True.\n",
            "  This is separate from the ipykernel package so we can avoid doing imports until\n"
          ]
        },
        {
          "output_type": "execute_result",
          "data": {
            "text/plain": [
              "<function matplotlib.pyplot.show>"
            ]
          },
          "metadata": {},
          "execution_count": 117
        },
        {
          "output_type": "display_data",
          "data": {
            "image/png": "[encoded data removed]",
            "text/plain": [
              "<Figure size 432x288 with 1 Axes>"
            ]
          },
          "metadata": {
            "needs_background": "light"
          }
        }
      ]
    }
  ]
}