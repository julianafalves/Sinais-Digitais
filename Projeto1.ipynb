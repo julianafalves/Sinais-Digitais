{
  "nbformat": 4,
  "nbformat_minor": 0,
  "metadata": {
    "kernelspec": {
      "display_name": "Python 3",
      "language": "python",
      "name": "python3"
    },
    "language_info": {
      "codemirror_mode": {
        "name": "ipython",
        "version": 3
      },
      "file_extension": ".py",
      "mimetype": "text/x-python",
      "name": "python",
      "nbconvert_exporter": "python",
      "pygments_lexer": "ipython3",
      "version": "3.8.10"
    },
    "colab": {
      "name": "Projeto1.ipynb",
      "provenance": [],
      "include_colab_link": true
    }
  },
  "cells": [
    {
      "cell_type": "markdown",
      "metadata": {
        "id": "view-in-github",
        "colab_type": "text"
      },
      "source": [
        "<a href=\"https://colab.research.google.com/github/julianafalves/Sinais-Digitais/blob/main/Projeto1.ipynb\" target=\"_parent\"><img src=\"https://colab.research.google.com/assets/colab-badge.svg\" alt=\"Open In Colab\"/></a>"
      ]
    },
    {
      "cell_type": "markdown",
      "metadata": {
        "id": "834kOYUf8Di0"
      },
      "source": [
        "# 1o Trabalho de PSD (notebook para preencher com os resultados)"
      ]
    },
    {
      "cell_type": "markdown",
      "metadata": {
        "id": "tN-Ek7Fu8Di5"
      },
      "source": [
        "### Número do Grupo : `inserir o número do grupo aqui`"
      ]
    },
    {
      "cell_type": "code",
      "metadata": {
        "colab": {
          "base_uri": "https://localhost:8080/"
        },
        "id": "0i6lxRDs8J22",
        "outputId": "0a6c587d-6d27-4431-c6b4-a05b4e4bb659"
      },
      "source": [
        "!pip install scikit_dsp_comm"
      ],
      "execution_count": 2,
      "outputs": [
        {
          "output_type": "stream",
          "name": "stdout",
          "text": [
            "Collecting scikit_dsp_comm\n",
            "  Downloading scikit_dsp_comm-2.0.0-py3-none-any.whl (90 kB)\n",
            "\u001b[?25l\r\u001b[K     |███▋                            | 10 kB 22.3 MB/s eta 0:00:01\r\u001b[K     |███████▏                        | 20 kB 25.8 MB/s eta 0:00:01\r\u001b[K     |██████████▉                     | 30 kB 31.4 MB/s eta 0:00:01\r\u001b[K     |██████████████▍                 | 40 kB 23.9 MB/s eta 0:00:01\r\u001b[K     |██████████████████              | 51 kB 8.1 MB/s eta 0:00:01\r\u001b[K     |█████████████████████▋          | 61 kB 8.7 MB/s eta 0:00:01\r\u001b[K     |█████████████████████████▎      | 71 kB 8.0 MB/s eta 0:00:01\r\u001b[K     |████████████████████████████▉   | 81 kB 8.9 MB/s eta 0:00:01\r\u001b[K     |████████████████████████████████| 90 kB 4.6 MB/s \n",
            "\u001b[?25hRequirement already satisfied: matplotlib in /usr/local/lib/python3.7/dist-packages (from scikit_dsp_comm) (3.2.2)\n",
            "Requirement already satisfied: scipy in /usr/local/lib/python3.7/dist-packages (from scikit_dsp_comm) (1.4.1)\n",
            "Requirement already satisfied: numpy in /usr/local/lib/python3.7/dist-packages (from scikit_dsp_comm) (1.19.5)\n",
            "Requirement already satisfied: pyparsing!=2.0.4,!=2.1.2,!=2.1.6,>=2.0.1 in /usr/local/lib/python3.7/dist-packages (from matplotlib->scikit_dsp_comm) (2.4.7)\n",
            "Requirement already satisfied: cycler>=0.10 in /usr/local/lib/python3.7/dist-packages (from matplotlib->scikit_dsp_comm) (0.10.0)\n",
            "Requirement already satisfied: python-dateutil>=2.1 in /usr/local/lib/python3.7/dist-packages (from matplotlib->scikit_dsp_comm) (2.8.2)\n",
            "Requirement already satisfied: kiwisolver>=1.0.1 in /usr/local/lib/python3.7/dist-packages (from matplotlib->scikit_dsp_comm) (1.3.1)\n",
            "Requirement already satisfied: six in /usr/local/lib/python3.7/dist-packages (from cycler>=0.10->matplotlib->scikit_dsp_comm) (1.15.0)\n",
            "Installing collected packages: scikit-dsp-comm\n",
            "Successfully installed scikit-dsp-comm-2.0.0\n"
          ]
        }
      ]
    },
    {
      "cell_type": "code",
      "metadata": {
        "jupyter": {
          "outputs_hidden": false
        },
        "id": "VL8D-64O8Di7"
      },
      "source": [
        "import sk_dsp_comm.sigsys as ss\n",
        "import numpy as np\n",
        "from matplotlib import pylab\n",
        "from pylab import *\n",
        "import scipy.signal as signal\n",
        "from IPython.display import Audio, display\n",
        "from IPython.display import Image, SVG"
      ],
      "execution_count": 3,
      "outputs": []
    },
    {
      "cell_type": "code",
      "metadata": {
        "jupyter": {
          "outputs_hidden": false
        },
        "id": "clbJleYj8DjB"
      },
      "source": [
        "pylab.rcParams['savefig.dpi'] = 100 # default 72\n",
        "pylab.rcParams['figure.figsize'] = (6.0, 4.0) # default (6,4)\n",
        "%config InlineBackend.figure_formats=['png'] # default for inline viewing\n",
        "#config InlineBackend.figure_formats=['svg'] # SVG inline viewing\n",
        "#%config InlineBackend.figure_formats=['pdf'] # render pdf figs for LaTeX"
      ],
      "execution_count": 4,
      "outputs": []
    },
    {
      "cell_type": "markdown",
      "metadata": {
        "id": "BL8ID_Kq8DjB"
      },
      "source": [
        "# Problema 1\n",
        " Usando a função stem() em Python calcule e plote as seguintes funções\n",
        "$$\n",
        "\\begin{align}\n",
        "    x_1[n] &= \\sin\\big(\\frac{\\pi}{5}n\\big),\\ 0\\leq n \\leq 15 \\\\\n",
        "    x_2[n] &= \\cos\\big(\\frac{3\\pi}{5}n\\big),\\ 0\\leq n \\leq 15 \\\\\n",
        "    x_3[n] &= \\sin\\big(\\frac{\\pi}{4}n\\big)\\cos\\big(\\frac{\\pi}{4}n\\big),\\ 0\\leq n \\leq 32\n",
        "\\end{align}\n",
        "$$\n",
        "Qual é o período da fundamental de cada sinail?"
      ]
    },
    {
      "cell_type": "code",
      "metadata": {
        "id": "V22YlV_PHd_1"
      },
      "source": [
        "pi = np.pi"
      ],
      "execution_count": null,
      "outputs": []
    },
    {
      "cell_type": "markdown",
      "metadata": {
        "id": "fSD7Negr8DjC"
      },
      "source": [
        "## Parte a - sinal $x_1[n]$\n",
        "O período da fundamental, $N$, é 10\n",
        "\n",
        "`adicione o resultado aqui e explicação de como ele foi determinado`"
      ]
    },
    {
      "cell_type": "code",
      "metadata": {
        "id": "WrKW2y6D8DjC"
      },
      "source": [
        "def x1(n):\n",
        "   return np.sin((np.pi/5)*n)\n",
        "   \n",
        "n = np.arange(0, 16, dtype= 'int64')"
      ],
      "execution_count": null,
      "outputs": []
    },
    {
      "cell_type": "code",
      "metadata": {
        "colab": {
          "base_uri": "https://localhost:8080/"
        },
        "id": "V03zIhUp-mlF",
        "outputId": "974cb7ac-1fe2-4d70-8c8c-d3855279ea56"
      },
      "source": [
        "stem(n,x1(n), use_line_collection=True)\n",
        "show()"
      ],
      "execution_count": null,
      "outputs": [
        {
          "output_type": "display_data",
          "data": {
            "image/png": "[encoded data removed]",
            "text/plain": [
              "<Figure size 432x288 with 1 Axes>"
            ]
          },
          "metadata": {
            "needs_background": "light"
          }
        }
      ]
    },
    {
      "cell_type": "code",
      "metadata": {
        "id": "pmrm6XU9_gUr"
      },
      "source": [
        "def fundamentalFunc(omega): #pi/5 /pi\n",
        "  numerador = 2 * np.pi\n",
        "  if omega % np.pi == 0 or np.pi % (np.pi/5) == 0:\n",
        "    k = 1\n",
        "    while True:\n",
        "      N = (numerador * k / omega)\n",
        "      k += 1\n",
        "      if N.is_integer():\n",
        "        return N\n",
        "  return None\n",
        "    "
      ],
      "execution_count": null,
      "outputs": []
    },
    {
      "cell_type": "code",
      "metadata": {
        "colab": {
          "base_uri": "https://localhost:8080/"
        },
        "id": "wU9vMR28D_Qe",
        "outputId": "de69f015-0b55-41a5-c328-c3258836ba72"
      },
      "source": [
        "periodo = fundamentalFunc(np.pi/5)\n",
        "print(periodo)"
      ],
      "execution_count": null,
      "outputs": [
        {
          "output_type": "stream",
          "name": "stdout",
          "text": [
            "10.0\n"
          ]
        }
      ]
    },
    {
      "cell_type": "markdown",
      "metadata": {
        "id": "hZ0jeNeP8DjC"
      },
      "source": [
        "## Parte b - sinal $x_2[n]$\n",
        "O período da fundamental, $N$, é\n",
        "\n",
        "`adicione o resultado aqui e explicação de como ele foi determinado`"
      ]
    },
    {
      "cell_type": "code",
      "metadata": {
        "id": "gaRoTRM78DjD"
      },
      "source": [
        "# escreva o seu código aqui"
      ],
      "execution_count": null,
      "outputs": []
    },
    {
      "cell_type": "markdown",
      "metadata": {
        "id": "aqE-RQ_K8DjD"
      },
      "source": [
        "## Parte c - sinal $x_3[n]$\n",
        "Para encontrar o período, primeiro expanda o produto usando uma relação trigonomêtrica apropriada:\n",
        "$$\n",
        "    x_3[n] = \\frac{1}{2}\\left[\\sin(0\\cdot n) + \\sin\\big(\\frac{\\pi}{2}n\\big)\\right], 0\\leq n\\leq 32\n",
        "$$\n",
        "Você deve escolher $N$ tal que $\\ldots$\n",
        "\n",
        "`adicione o resultado aqui e explicação de como ele foi determinado`\n"
      ]
    },
    {
      "cell_type": "code",
      "metadata": {
        "id": "Jz2h8Vjb8DjE"
      },
      "source": [
        "def x3(n):\n",
        "  return (1/2)*np.sin((n*pi)/2)\n",
        "n3 = np.arange(0,33,dtype='int64')"
      ],
      "execution_count": null,
      "outputs": []
    },
    {
      "cell_type": "code",
      "metadata": {
        "colab": {
          "base_uri": "https://localhost:8080/"
        },
        "id": "Oh0VnVnUHtOg",
        "outputId": "3367b98a-c270-41dc-c95d-45ea8b9cff9d"
      },
      "source": [
        "stem(n3,x3(n3), use_line_collection=True)\n",
        "show"
      ],
      "execution_count": null,
      "outputs": [
        {
          "output_type": "execute_result",
          "data": {
            "text/plain": [
              "<function matplotlib.pyplot.show>"
            ]
          },
          "metadata": {},
          "execution_count": 11
        },
        {
          "output_type": "display_data",
          "data": {
            "image/png": "[encoded data removed]",
            "text/plain": [
              "<Figure size 432x288 with 1 Axes>"
            ]
          },
          "metadata": {
            "needs_background": "light"
          }
        }
      ]
    },
    {
      "cell_type": "code",
      "metadata": {
        "colab": {
          "base_uri": "https://localhost:8080/"
        },
        "id": "lU2ZAFqbH7O2",
        "outputId": "6d6610a9-4ed6-40b5-c6d6-cbc4f8f9b358"
      },
      "source": [
        "print(\"Período fundamental: \",fundamentalFunc(pi/2))"
      ],
      "execution_count": null,
      "outputs": [
        {
          "output_type": "stream",
          "name": "stdout",
          "text": [
            "Período fundamental:  4.0\n"
          ]
        }
      ]
    },
    {
      "cell_type": "markdown",
      "metadata": {
        "id": "u-El1iCS8DjF"
      },
      "source": [
        "# Problema 2\n",
        "Usando a função `stem()` calcule e plote a o sinal\n",
        "$$\n",
        "x[n] = \\begin{cases}\n",
        "        2n+1, & -3\\leq n\\leq 3 \\\\\n",
        "        0, & \\text{otherwise}\n",
        "        \\end{cases}\n",
        "$$\n",
        "no intervalo $-8\\leq n\\leq 8$. \n",
        "\n",
        "OBS: Criar a função $x[n]$ sem o uso de loop!! Observe ainda que o módulo python “sk_dsp_comm.sigsys” possui a função drect() que serve para criar uma função janela - estude o exemplo python ex2.py fornecido na aba “Material para realização dos projetos”. "
      ]
    },
    {
      "cell_type": "code",
      "metadata": {
        "id": "5SpVwuww8DjG"
      },
      "source": [
        "n = np.arange(-8,9)\n",
        "x = (2*n + 1) * ss.drect(n+3, N=7)"
      ],
      "execution_count": null,
      "outputs": []
    },
    {
      "cell_type": "code",
      "metadata": {
        "colab": {
          "base_uri": "https://localhost:8080/"
        },
        "id": "ewepMeFyKhNN",
        "outputId": "e9eb931c-662c-47b4-a8a1-ffea0d253aa2"
      },
      "source": [
        "figure(figsize=(10,8))\n",
        "stem(n,x, use_line_collection=True)\n",
        "show"
      ],
      "execution_count": null,
      "outputs": [
        {
          "output_type": "execute_result",
          "data": {
            "text/plain": [
              "<function matplotlib.pyplot.show>"
            ]
          },
          "metadata": {},
          "execution_count": 14
        },
        {
          "output_type": "display_data",
          "data": {
            "image/png": "[encoded data removed]",
            "text/plain": [
              "<Figure size 720x576 with 1 Axes>"
            ]
          },
          "metadata": {
            "needs_background": "light"
          }
        }
      ]
    },
    {
      "cell_type": "markdown",
      "metadata": {
        "id": "AmHKLPFy8DjG"
      },
      "source": [
        "# Problema 3\n",
        "Usando a função `stem()` calcule e plote o sinal\n",
        "$$\n",
        "    x[n] = u[n]u[8-n] + u[n-2]-u[n-5]\n",
        "$$\n",
        "no intervalo $-2\\leq n\\leq 16$.  Observe que o módulo  `sigsys`  (aliased  como  `ss`)  possui a função `dstep()` definida, a qual pode tornar esse problema bastante simples.\n",
        "\n",
        "OBS: Estude os exemplos ex1.py e ex2.py fornecidos na aba “Material para realização dos projetos”."
      ]
    },
    {
      "cell_type": "markdown",
      "metadata": {
        "id": "SvSmQBb5FszR"
      },
      "source": [
        "**Solução:** Para resolução do problema proprosto é utilizado a função degrau, no intervalo de -2 a 17. A função degrau é dada por: \n",
        "\n",
        "$$\n",
        "y[n] = \\begin{cases}\n",
        "        1, &  n\\geq 0 \\\\\n",
        "        0, & \\text{otherwise}\n",
        "        \\end{cases}\n",
        "$$\n",
        "\n",
        "Inicialmente as funções degrau foram aplicadas por partes, a cada ocorrência, para observação de seu comportamento. E por fim implementou-se a equação total $x[n]$."
      ]
    },
    {
      "cell_type": "code",
      "metadata": {
        "id": "Al_zajKv8DjG"
      },
      "source": [
        "n = np.arange(-2,16+1)\n",
        "x = ss.dstep(n)*ss.dstep(8-n)+ss.dstep(n-2)-ss.dstep(n-5)"
      ],
      "execution_count": 5,
      "outputs": []
    },
    {
      "cell_type": "code",
      "metadata": {
        "colab": {
          "base_uri": "https://localhost:8080/",
          "height": 715
        },
        "id": "FGCX9LXuM2VF",
        "outputId": "a894d3fc-c0f7-4ccf-a7fd-d65efaaa4797"
      },
      "source": [
        "fig, axs = plt.subplots(3, 1, sharey=True,figsize=(20,12))\n",
        "\n",
        "\n",
        "axs[0].stem(n, ss.dstep(n), use_line_collection=True)\n",
        "axs[0].set_title('u[n]')\n",
        "\n",
        "axs[1].stem(n, ss.dstep(8-n), use_line_collection=True)\n",
        "axs[1].set_title('u[8-n]')\n",
        "\n",
        "axs[2].stem(n, ss.dstep(n)*ss.dstep(8-n), use_line_collection=True)\n",
        "axs[2].set_title('u[n]*u[8-n]')\n",
        "show()"
      ],
      "execution_count": 7,
      "outputs": [
        {
          "output_type": "display_data",
          "data": {
            "image/png": "[encoded data removed]",
            "text/plain": [
              "<Figure size 1440x864 with 3 Axes>"
            ]
          },
          "metadata": {
            "needs_background": "light"
          }
        }
      ]
    },
    {
      "cell_type": "code",
      "metadata": {
        "colab": {
          "base_uri": "https://localhost:8080/",
          "height": 498
        },
        "id": "F6briFc4QWIZ",
        "outputId": "7f01a1bc-cc37-4e9e-a146-63d5626af8b9"
      },
      "source": [
        "fig, axs = plt.subplots(2, 1, sharey=True, figsize=(20,8))\n",
        "axs[0].stem(n, ss.dstep(n)*ss.dstep(8-n), use_line_collection=True)\n",
        "axs[0].set_title('u[n]*u[8-n]')\n",
        "\n",
        "axs[1].stem(n, ss.dstep(n)*ss.dstep(8-n)+ss.dstep(n-2), use_line_collection=True)\n",
        "axs[1].set_title('u[n]*u[8-n]-u[n-2]')\n",
        "show()"
      ],
      "execution_count": 13,
      "outputs": [
        {
          "output_type": "display_data",
          "data": {
            "image/png": "[encoded data removed]",
            "text/plain": [
              "<Figure size 1440x576 with 2 Axes>"
            ]
          },
          "metadata": {
            "needs_background": "light"
          }
        }
      ]
    },
    {
      "cell_type": "code",
      "metadata": {
        "id": "KVQ7MZwQHt_p",
        "outputId": "882e9cd3-f4c9-4b98-a4bf-8328cf851121",
        "colab": {
          "base_uri": "https://localhost:8080/",
          "height": 281
        }
      },
      "source": [
        "plt.figure(figsize=(20,4))\n",
        "stem(n, ss.dstep(n)*ss.dstep(8-n)+ss.dstep(n-2)-ss.dstep(n-5), use_line_collection=True)\n",
        "title('x[n] = u[n]*u[8-n]+u[n-2]-u[n-5]')\n",
        "show()"
      ],
      "execution_count": 23,
      "outputs": [
        {
          "output_type": "display_data",
          "data": {
            "image/png": "[encoded data removed]",
            "text/plain": [
              "<Figure size 1440x288 with 1 Axes>"
            ]
          },
          "metadata": {
            "needs_background": "light"
          }
        }
      ]
    },
    {
      "cell_type": "markdown",
      "metadata": {
        "id": "DAwmwPmX8DjH"
      },
      "source": [
        "# Problema 4\n",
        "Considere o sinal\n",
        "$$\n",
        "    y[n] = \\begin{cases}\n",
        "        2, & n=0 \\\\\n",
        "        1, & n=1 \\\\\n",
        "        -1, & n=3 \\\\\n",
        "        3, & n=4 \\\\\n",
        "        0, & \\text{caso contrário}\n",
        "    \\end{cases}\n",
        "$$"
      ]
    },
    {
      "cell_type": "markdown",
      "metadata": {
        "id": "4ez7LfJF8DjH"
      },
      "source": [
        "Escreva uma função python ($y[n]$) como indicado abaixo para que você possa responder as questões que seguem."
      ]
    },
    {
      "cell_type": "markdown",
      "metadata": {
        "id": "MeHRAzJlKV9E"
      },
      "source": [
        "**Solução:** Para este problema foi utilizada a função ***dimpulse*** que funciona de maneira semelhante à função degrau. No entanto o impulso ocorre apenas em $n=0$. Sendo assim a função é manipulada realizando o deslocando em cada termo desejado.\n",
        "\n",
        "* Vale salientar que foi utilizado o seguinte intervalo par testes: $-4 \\leq =n \\lt 10$"
      ]
    },
    {
      "cell_type": "code",
      "metadata": {
        "id": "RruipAgF8DjI"
      },
      "source": [
        "def y(n):\n",
        "    yy = 2*ss.dimpulse(n) + 1*ss.dimpulse(n-1) - ss.dimpulse(n-3) + 3*ss.dimpulse(n-4)\n",
        "    return yy"
      ],
      "execution_count": 25,
      "outputs": []
    },
    {
      "cell_type": "code",
      "metadata": {
        "id": "DWlRdj9ASoIt"
      },
      "source": [
        "n = np.arange(-4,10)"
      ],
      "execution_count": 26,
      "outputs": []
    },
    {
      "cell_type": "markdown",
      "metadata": {
        "id": "6DAT81Cs8DjI"
      },
      "source": [
        "## Parte a\n",
        "Usando a função `stem()` plote $z_1[n] = y[n-2]$."
      ]
    },
    {
      "cell_type": "code",
      "metadata": {
        "id": "gcKJ34tn8DjI",
        "colab": {
          "base_uri": "https://localhost:8080/",
          "height": 281
        },
        "outputId": "364a78f1-9af7-4341-dbc4-91a8d4d86b6c"
      },
      "source": [
        "stem(n,y(n-2), use_line_collection=True)\n",
        "title('z1[n]=y[n−2]')\n",
        "show()"
      ],
      "execution_count": 27,
      "outputs": [
        {
          "output_type": "display_data",
          "data": {
            "image/png": "[encoded data removed]",
            "text/plain": [
              "<Figure size 432x288 with 1 Axes>"
            ]
          },
          "metadata": {
            "needs_background": "light"
          }
        }
      ]
    },
    {
      "cell_type": "markdown",
      "metadata": {
        "id": "k3jfTXHjO3Kr"
      },
      "source": [
        "**Explicação:** Nesta caso a entrada foi deslocada duas vezes à direita. Portanto a saída esperada no enunciado também sofreu este deslocamento. \n",
        "$$\n",
        "    z_{1}[n] = \\begin{cases}\n",
        "        2, & n=2 \\\\\n",
        "        1, & n=3 \\\\\n",
        "        -1, & n=5 \\\\\n",
        "        3, & n=6 \\\\\n",
        "        0, & \\text{caso contrário}\n",
        "    \\end{cases}\n",
        "$$"
      ]
    },
    {
      "cell_type": "markdown",
      "metadata": {
        "id": "N4LANS978DjI"
      },
      "source": [
        "## Parte b\n",
        "Usando a função `stem()` plote $z_2[n] = y[n+2]$."
      ]
    },
    {
      "cell_type": "code",
      "metadata": {
        "id": "Nkq9KK7j8DjI",
        "colab": {
          "base_uri": "https://localhost:8080/",
          "height": 281
        },
        "outputId": "540d1c66-9982-446a-d893-aa5353f1ed17"
      },
      "source": [
        "stem(n,y(n+2), use_line_collection=True)\n",
        "title('z2[n]=y[n+2]')\n",
        "show()"
      ],
      "execution_count": 28,
      "outputs": [
        {
          "output_type": "display_data",
          "data": {
            "image/png": "[encoded data removed]",
            "text/plain": [
              "<Figure size 432x288 with 1 Axes>"
            ]
          },
          "metadata": {
            "needs_background": "light"
          }
        }
      ]
    },
    {
      "cell_type": "markdown",
      "metadata": {
        "id": "rJeQVJ6sQcUi"
      },
      "source": [
        "**Explicação:** Nesta caso a entrada foi deslocada duas vezes à esquerda. Portanto a saída esperada no enunciado também sofreu este deslocamento. \n",
        "$$\n",
        "    z_{2}[n] = \\begin{cases}\n",
        "        2, & n=-2 \\\\\n",
        "        1, & n=-1 \\\\\n",
        "        -1, & n=1 \\\\\n",
        "        3, & n=2 \\\\\n",
        "        0, & \\text{caso contrário}\n",
        "    \\end{cases}\n",
        "$$"
      ]
    },
    {
      "cell_type": "markdown",
      "metadata": {
        "id": "7EtbBoJE8DjJ"
      },
      "source": [
        "## Parte c\n",
        "Usando a função `stem()` plote $z_3[n] = y[-n]$."
      ]
    },
    {
      "cell_type": "code",
      "metadata": {
        "id": "yl07b2UU8DjJ",
        "colab": {
          "base_uri": "https://localhost:8080/",
          "height": 281
        },
        "outputId": "b6040997-462c-414e-ff8d-faf9dcc97c19"
      },
      "source": [
        "stem(n,y(-n), use_line_collection=True)\n",
        "title('z3[n]=y[−n]')\n",
        "show()"
      ],
      "execution_count": 29,
      "outputs": [
        {
          "output_type": "display_data",
          "data": {
            "image/png": "[encoded data removed]",
            "text/plain": [
              "<Figure size 432x288 with 1 Axes>"
            ]
          },
          "metadata": {
            "needs_background": "light"
          }
        }
      ]
    },
    {
      "cell_type": "markdown",
      "metadata": {
        "id": "1bUDgMHmQuM5"
      },
      "source": [
        "**Explicação:** Nesta caso a entrada sofreu ***flip***. Portanto a saída esperada no enunciado foi invertida. \n",
        "$$\n",
        "    z_{2}[n] = \\begin{cases}\n",
        "        2, & n= 0\\\\\n",
        "        1, & n=-1 \\\\\n",
        "        -1, & n=-2 \\\\\n",
        "        3, & n=-4 \\\\\n",
        "        0, & \\text{caso contrário}\n",
        "    \\end{cases}\n",
        "$$"
      ]
    },
    {
      "cell_type": "markdown",
      "metadata": {
        "id": "RjwtYFe08DjJ"
      },
      "source": [
        "# Problema 5\n",
        "Dado os sinais abaixo:\n",
        "$$\n",
        "\\begin{align}\n",
        "    x_1[n] &= \\{1,2,-3,2,1,1\\} \\;\\;\\;\\; h_1[n] = \\{1,2,-3\\}\\\\\n",
        "    x_2[n] &= \\{0,0,0,0,1,1,1,1,0,0,0,0,-1,-1,-1,-1,0,0,0,0\\}  \\;\\;\\;\\;  h_{2}[n]=\\{1,4,10,16,19,16,10,4,1\\}\n",
        "\\end{align}\n",
        "$$"
      ]
    },
    {
      "cell_type": "markdown",
      "metadata": {
        "id": "9kuuAe708DjJ"
      },
      "source": [
        "## Parte a\n",
        "Escrever uma função na linguagem python (__\"sem usar funções prontas de qualquer biblioteca\"__) para fazer a __convolução__ entre dois sinais unidimensionais (1D). "
      ]
    },
    {
      "cell_type": "markdown",
      "metadata": {
        "id": "P0V32rVd_0ww"
      },
      "source": [
        "**Solução:** Para a operação de convolução, usamos o método apresentado em aula de deslocar $h[n]$ (após fazer o *flip*) e preencher os espaços com zero. Consideramos que o elemento $n=0$ é o primeiro elemento de cada sinal.\n",
        "\n",
        "Para exemplificar, tomemos $x_1[n]$ e $h_1[n]$. Então, na primeira iteração teríamos a seguinte operação:\n",
        "\n",
        "```\n",
        "[ 0  0  1  2 -3  2  1  1  0  0 ]\n",
        "              *\n",
        "[-3  2  1  0  0  0  0  0  0  0 ]\n",
        "================================\n",
        "[ 0  0  1  0  0  0  0  0  0  0 ] (+)=> 1 = y[0]\n",
        "```\n",
        "\n",
        "Para a segunda iteração, teríamos:\n",
        "\n",
        "```\n",
        "[ 0  0  1  2 -3  2  1  1  0  0 ]\n",
        "              *\n",
        "[ 0 -3  2  1  0  0  0  0  0  0 ]\n",
        "================================\n",
        "[ 0  0  2  2  0  0  0  0  0  0 ] (+)=> 4 = y[1]\n",
        "```\n",
        "\n",
        "E assim por diante, até chegar ao fim de $x[n]$.\n",
        "\n",
        "Para implementação deste método, realizamos o preenchimento demonstrados com os zeros no início e no fim de $x[n]$, invertendo $h[n]$ e completando com zeros para que os sinais tenham o mesmo tamanho de lista. Então, para a saída $y[n]$, os elementos são \"pareados\" com a função ```zip()``` e a multiplicação dos pares de elementos é feita em uma *list comprehension*, cujo somatório é feito com ```sum()```. Para avançar no loop, como no método, $h[n]$ é rotacionado para a direita.\n"
      ]
    },
    {
      "cell_type": "code",
      "metadata": {
        "id": "P36SMAVfWYdF"
      },
      "source": [
        "def conv(x,h):\n",
        "  '''Recebe um sinal de entrada x[n] e uma resposta impulsiva h[n] e retorna a convolução y[n] dos dois sinais.'''\n",
        "\n",
        "  # Tamanho do preenchimento com 0s\n",
        "  tam_extra = len(h) - 1\n",
        "\n",
        "  # Preenche x[n] com 0s no começo e no fim\n",
        "  x = tam_extra * [0] + x + tam_extra * [0]\n",
        "\n",
        "  # Inverte h[n] e preenche com 0s até o tamanho de x[n]\n",
        "  h = h[::-1] + (len(x)-len(h)) * [0]\n",
        "\n",
        "  # Saída\n",
        "  y = []\n",
        "\n",
        "  for _ in range(len(x) - tam_extra):\n",
        "    # Somatório dos produtos dos elementos de x e h\n",
        "    yn = sum([a * b for a, b in zip(x, h)])\n",
        "    y.append(yn)\n",
        "\n",
        "    # Deslocamento de h para a direita\n",
        "    h = [0] + h[:-1]\n",
        "  \n",
        "  return y"
      ],
      "execution_count": null,
      "outputs": []
    },
    {
      "cell_type": "markdown",
      "metadata": {
        "id": "7deNHhhU8DjK"
      },
      "source": [
        "## Parte b\n",
        "Faça a convolução entre os sinais $x_1*h_1$ e $x_2*h_2$ e plote usando a função stem os sinais originais e os resultados das convoluções."
      ]
    },
    {
      "cell_type": "code",
      "metadata": {
        "id": "7rl7VkWe8DjL"
      },
      "source": [
        "# Definição dos sinais x1 e h1\n",
        "x1 = [1, 2, -3, 2, 1, 1]\n",
        "h1 = [1, 2, -3]\n",
        "\n",
        "# Definição dos sinais x2 e h2\n",
        "x2 = [0, 0, 0, 0, 1, 1, 1, 1, 0, 0, 0, 0, -1, -1, -1, -1, 0, 0, 0, 0]\n",
        "h2 = [1, 4, 10, 16, 19, 16, 10, 4, 1]"
      ],
      "execution_count": null,
      "outputs": []
    },
    {
      "cell_type": "markdown",
      "metadata": {
        "id": "N-JI1O8hVeyR"
      },
      "source": [
        "### $x_1 * h_1$\n",
        "Abaixo estão os gráficos dos sinais originais $x_1[n]$ e $h_1[n]$ e o gráfico do resultado da convolução entre os dois sinais, $y_1[n]$."
      ]
    },
    {
      "cell_type": "code",
      "metadata": {
        "id": "t8AxQa0LSTZ4",
        "colab": {
          "base_uri": "https://localhost:8080/",
          "height": 499
        },
        "outputId": "2e2eaf57-a2f2-4571-91e7-30f940df685c"
      },
      "source": [
        "fig = figure(figsize=(6,8))\n",
        "\n",
        "sub1 = fig.add_subplot(211)\n",
        "sub1.set_title('x1[n]')\n",
        "sub1.stem(x1, use_line_collection=True)\n",
        "\n",
        "sub2 = fig.add_subplot(212)\n",
        "sub2.set_title('h1[n]')\n",
        "sub2.stem(h1, use_line_collection=True)\n",
        "\n",
        "show()"
      ],
      "execution_count": null,
      "outputs": [
        {
          "output_type": "display_data",
          "data": {
            "image/png": "[encoded data removed]",
            "text/plain": [
              "<Figure size 432x576 with 2 Axes>"
            ]
          },
          "metadata": {
            "needs_background": "light"
          }
        }
      ]
    },
    {
      "cell_type": "code",
      "metadata": {
        "colab": {
          "base_uri": "https://localhost:8080/",
          "height": 281
        },
        "id": "33XlTP4aoPLa",
        "outputId": "fd9c47f8-7366-4874-efc6-33f7535e1a88"
      },
      "source": [
        "conv_x1_h1 = conv(x1,h1)\n",
        "\n",
        "stem(conv_x1_h1, use_line_collection=True)\n",
        "plt.title('y1[n] = x1[n] * h1[n]')\n",
        "show()"
      ],
      "execution_count": null,
      "outputs": [
        {
          "output_type": "display_data",
          "data": {
            "image/png": "[encoded data removed]",
            "text/plain": [
              "<Figure size 432x288 with 1 Axes>"
            ]
          },
          "metadata": {
            "needs_background": "light"
          }
        }
      ]
    },
    {
      "cell_type": "markdown",
      "metadata": {
        "id": "y-67R349Vx-G"
      },
      "source": [
        "### $x_2 * h_2$\n",
        "Abaixo estão os gráficos dos sinais originais $x_2[n]$ e $h_2[n]$ e o gráfico do resultado da convolução entre os dois sinais, $y_2[n]$."
      ]
    },
    {
      "cell_type": "code",
      "metadata": {
        "id": "CdQauScgU3u-",
        "colab": {
          "base_uri": "https://localhost:8080/",
          "height": 499
        },
        "outputId": "f3cc6fa6-c51e-4f1b-cad7-da47f06eb9e2"
      },
      "source": [
        "fig = figure(figsize=(6,8))\n",
        "\n",
        "sub1 = fig.add_subplot(211)\n",
        "sub1.set_title('x2[n]')\n",
        "sub1.stem(x2, use_line_collection=True)\n",
        "\n",
        "sub2 = fig.add_subplot(212)\n",
        "sub2.set_title('h2[n]')\n",
        "sub2.stem(h2, use_line_collection=True)\n",
        "\n",
        "show()"
      ],
      "execution_count": null,
      "outputs": [
        {
          "output_type": "display_data",
          "data": {
            "image/png": "[encoded data removed]",
            "text/plain": [
              "<Figure size 432x576 with 2 Axes>"
            ]
          },
          "metadata": {
            "needs_background": "light"
          }
        }
      ]
    },
    {
      "cell_type": "code",
      "metadata": {
        "colab": {
          "base_uri": "https://localhost:8080/",
          "height": 281
        },
        "id": "0Lk3syJvcrIr",
        "outputId": "1667736c-1fe5-4b9f-c1eb-626670402533"
      },
      "source": [
        "conv_x2_h2 = conv(x2,h2)\n",
        "\n",
        "stem(conv_x2_h2, use_line_collection=True)\n",
        "plt.title('y2[n] = x2[n] * h2[n]')\n",
        "show()"
      ],
      "execution_count": null,
      "outputs": [
        {
          "output_type": "display_data",
          "data": {
            "image/png": "[encoded data removed]",
            "text/plain": [
              "<Figure size 432x288 with 1 Axes>"
            ]
          },
          "metadata": {
            "needs_background": "light"
          }
        }
      ]
    },
    {
      "cell_type": "markdown",
      "metadata": {
        "id": "VU95n2UI8DjN"
      },
      "source": [
        "## Parte c\n",
        "De maneira similar à \"Parte b\" do exercício, usando __o mesmo código da função convolução__, faça a __correlação__ entre os sinais e plote os resultados.\n",
        "\n",
        "Dica, lembre-se que:\n",
        "\n",
        "Convolução: $ y[n] = \\sum_{k=-\\infty}^{\\infty} x[k]h[n-k]$\n",
        "\n",
        "Correlação: $ y[n] = \\sum_{k=-\\infty}^{\\infty} x[k]h[n+k]$"
      ]
    },
    {
      "cell_type": "markdown",
      "metadata": {
        "id": "3TGadRXbXgaz"
      },
      "source": [
        "**Solução:** A implementação da função de correlação é bastante similar à função apresentada de convolução na **Parte a**. A única mudança feita foi que o sinal de $h[n]$ não recebe mais um *flip*, mas sim utilizado em sua ordem original."
      ]
    },
    {
      "cell_type": "code",
      "metadata": {
        "id": "61kwppzGWRTu"
      },
      "source": [
        "def corr(x,h):\n",
        "  '''Recebe um sinal de entrada x[n] e uma resposta impulsiva h[n] e retorna a correlação y[n] dos dois sinais.'''\n",
        "\n",
        "  # Tamanho do preenchimento com 0s\n",
        "  tam_extra = len(h) - 1\n",
        "\n",
        "  # Preenche x[n] com 0s no começo e no fim\n",
        "  x = tam_extra * [0] + x + tam_extra * [0]\n",
        "\n",
        "  # Preenche h[n] com 0s até o tamanho de x[n]\n",
        "  h = h + (len(x)-len(h)) * [0]\n",
        "\n",
        "  # Saída\n",
        "  y = []\n",
        "\n",
        "  for _ in range(len(x) - tam_extra):\n",
        "    # Somatório dos produtos dos elementos de x e h\n",
        "    yn = sum([a * b for a, b in zip(x, h)])\n",
        "    y.append(yn)\n",
        "\n",
        "    # Deslocamento de h para a direita\n",
        "    h = [0] + h[:-1]\n",
        "  \n",
        "  return y"
      ],
      "execution_count": null,
      "outputs": []
    },
    {
      "cell_type": "markdown",
      "metadata": {
        "id": "gHdu2fy2YJ6U"
      },
      "source": [
        "### $\\text{corr(}x_1, h_1\\text{)}$\n",
        "Abaixo está o gráfico do resultado da correlação $y_1[n]$ entre os sinais $x_1[n]$ e $h_1[n]$."
      ]
    },
    {
      "cell_type": "code",
      "metadata": {
        "colab": {
          "base_uri": "https://localhost:8080/",
          "height": 281
        },
        "id": "Ou4HZuzop_ZM",
        "outputId": "0e7b6894-cec8-40f0-f96b-986e6a771799"
      },
      "source": [
        "corr_x1_h1 = corr(x1,h1)\n",
        "\n",
        "stem(corr_x1_h1, use_line_collection=True)\n",
        "plt.title('y1[n] = corr(x1[n], h1[n])')\n",
        "show()"
      ],
      "execution_count": null,
      "outputs": [
        {
          "output_type": "display_data",
          "data": {
            "image/png": "[encoded data removed]",
            "text/plain": [
              "<Figure size 432x288 with 1 Axes>"
            ]
          },
          "metadata": {
            "needs_background": "light"
          }
        }
      ]
    },
    {
      "cell_type": "markdown",
      "metadata": {
        "id": "8Hfv3WKNYWie"
      },
      "source": [
        "### $\\text{corr(}x_2, h_2\\text{)}$\n",
        "Abaixo está o gráfico do resultado da correlação $y_2[n]$ entre os sinais $x_2[n]$ e $h_2[n]$."
      ]
    },
    {
      "cell_type": "code",
      "metadata": {
        "colab": {
          "base_uri": "https://localhost:8080/",
          "height": 281
        },
        "id": "cTiEch2RdkTi",
        "outputId": "d56b2d2b-2931-49b5-a264-c6790dc8eb8d"
      },
      "source": [
        "corr_x2_h2 = corr(x2,h2)\n",
        "\n",
        "stem(corr_x2_h2, use_line_collection=True)\n",
        "plt.title('y2[n] = corr(x2[n], h2[n])')\n",
        "show()"
      ],
      "execution_count": null,
      "outputs": [
        {
          "output_type": "display_data",
          "data": {
            "image/png": "[encoded data removed]",
            "text/plain": [
              "<Figure size 432x288 with 1 Axes>"
            ]
          },
          "metadata": {
            "needs_background": "light"
          }
        }
      ]
    },
    {
      "cell_type": "markdown",
      "metadata": {
        "id": "MPgK5Fgm8DjP"
      },
      "source": [
        "## Parte d\n",
        "Utilize agora a função da biblioteca numpy (numpy.convolve) para realizar as mesmas convoluções da \"Parte a\". Use a função numpy.convolve - mode{‘full’} e discuta os resultados."
      ]
    },
    {
      "cell_type": "code",
      "metadata": {
        "id": "YdNr6odo8DjP",
        "colab": {
          "base_uri": "https://localhost:8080/",
          "height": 281
        },
        "outputId": "1b852182-a41f-4330-e377-1b5e970c43c1"
      },
      "source": [
        "np_conv_x1_h1 = np.convolve(x1, h1, mode='full')\n",
        "\n",
        "stem(np_conv_x1_h1, use_line_collection=True)\n",
        "plt.title('y1[n] = x1[n] * h1[n]')\n",
        "show()"
      ],
      "execution_count": null,
      "outputs": [
        {
          "output_type": "display_data",
          "data": {
            "image/png": "[encoded data removed]",
            "text/plain": [
              "<Figure size 432x288 with 1 Axes>"
            ]
          },
          "metadata": {
            "needs_background": "light"
          }
        }
      ]
    },
    {
      "cell_type": "code",
      "metadata": {
        "id": "FW-eIUr6b1Gt",
        "colab": {
          "base_uri": "https://localhost:8080/"
        },
        "outputId": "549d7a74-aae7-4f1d-af14-05488fb05337"
      },
      "source": [
        "print('Implementação própria:')\n",
        "print('\\ty1[n] =', conv_x1_h1)\n",
        "print('NumPy:')\n",
        "print('\\ty1[n] =', list(np_conv_x1_h1))"
      ],
      "execution_count": null,
      "outputs": [
        {
          "output_type": "stream",
          "name": "stdout",
          "text": [
            "Implementação própria:\n",
            "\ty1[n] = [1, 4, -2, -10, 14, -3, -1, -3]\n",
            "NumPy:\n",
            "\ty1[n] = [1, 4, -2, -10, 14, -3, -1, -3]\n"
          ]
        }
      ]
    },
    {
      "cell_type": "code",
      "metadata": {
        "id": "Gow8_Qfkcrva",
        "colab": {
          "base_uri": "https://localhost:8080/"
        },
        "outputId": "1216682f-71d1-462f-e250-4456985e616f"
      },
      "source": [
        "print(conv_x1_h1 == list(np_conv_x1_h1))"
      ],
      "execution_count": null,
      "outputs": [
        {
          "output_type": "stream",
          "name": "stdout",
          "text": [
            "True\n"
          ]
        }
      ]
    },
    {
      "cell_type": "code",
      "metadata": {
        "colab": {
          "base_uri": "https://localhost:8080/",
          "height": 281
        },
        "id": "eL4siDGweQ7-",
        "outputId": "8f6be9a1-a38a-427b-d9a5-f4abbcb31e7d"
      },
      "source": [
        "np_conv_x2_h2 = np.convolve(x2, h2, mode='full')\n",
        "\n",
        "stem(np_conv_x2_h2, use_line_collection=True)\n",
        "plt.title('y2[n] = x2[n] * h2[n]')\n",
        "show()"
      ],
      "execution_count": null,
      "outputs": [
        {
          "output_type": "display_data",
          "data": {
            "image/png": "[encoded data removed]",
            "text/plain": [
              "<Figure size 432x288 with 1 Axes>"
            ]
          },
          "metadata": {
            "needs_background": "light"
          }
        }
      ]
    },
    {
      "cell_type": "code",
      "metadata": {
        "id": "65DEF9GFcWMO",
        "colab": {
          "base_uri": "https://localhost:8080/"
        },
        "outputId": "cade6199-3ca9-4bbb-c3ad-e9d5ebc9d16f"
      },
      "source": [
        "print('Implementação própria:')\n",
        "print('\\ty2[n] =', conv_x2_h2)\n",
        "print('NumPy:')\n",
        "print('\\ty2[n] =', list(np_conv_x2_h2))"
      ],
      "execution_count": null,
      "outputs": [
        {
          "output_type": "stream",
          "name": "stdout",
          "text": [
            "Implementação própria:\n",
            "\ty2[n] = [0, 0, 0, 0, 1, 5, 15, 31, 49, 61, 61, 49, 30, 10, -10, -30, -49, -61, -61, -49, -31, -15, -5, -1, 0, 0, 0, 0]\n",
            "NumPy:\n",
            "\ty2[n] = [0, 0, 0, 0, 1, 5, 15, 31, 49, 61, 61, 49, 30, 10, -10, -30, -49, -61, -61, -49, -31, -15, -5, -1, 0, 0, 0, 0]\n"
          ]
        }
      ]
    },
    {
      "cell_type": "code",
      "metadata": {
        "id": "tsOm7IbacpdE",
        "colab": {
          "base_uri": "https://localhost:8080/"
        },
        "outputId": "442641e4-2e9a-4893-b49c-014a342baee9"
      },
      "source": [
        "print(conv_x2_h2 == list(np_conv_x2_h2))"
      ],
      "execution_count": null,
      "outputs": [
        {
          "output_type": "stream",
          "name": "stdout",
          "text": [
            "True\n"
          ]
        }
      ]
    },
    {
      "cell_type": "markdown",
      "metadata": {
        "id": "itc4_Y3oaE0s"
      },
      "source": [
        "Podemos ver que a implementação feita pelo grupo obteve exatamente os mesmos resultados que a função do NumPy, sem considerar as questões de desempenho. Enquanto nossa solução apresentada foi iterativa, as funções da biblioteca provavelmente são mais otimizadas (e paralelizadas), fazendo uso de suas estruturas de dados especializadas."
      ]
    }
  ]
}