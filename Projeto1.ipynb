{
  "nbformat": 4,
  "nbformat_minor": 0,
  "metadata": {
    "kernelspec": {
      "display_name": "Python 3",
      "language": "python",
      "name": "python3"
    },
    "language_info": {
      "codemirror_mode": {
        "name": "ipython",
        "version": 3
      },
      "file_extension": ".py",
      "mimetype": "text/x-python",
      "name": "python",
      "nbconvert_exporter": "python",
      "pygments_lexer": "ipython3",
      "version": "3.8.10"
    },
    "colab": {
      "name": "Projeto1.ipynb",
      "provenance": [],
      "include_colab_link": true
    }
  },
  "cells": [
    {
      "cell_type": "markdown",
      "metadata": {
        "id": "view-in-github",
        "colab_type": "text"
      },
      "source": [
        "<a href=\"https://colab.research.google.com/github/julianafalves/Sinais-Digitais/blob/main/Projeto1.ipynb\" target=\"_parent\"><img src=\"https://colab.research.google.com/assets/colab-badge.svg\" alt=\"Open In Colab\"/></a>"
      ]
    },
    {
      "cell_type": "markdown",
      "metadata": {
        "id": "834kOYUf8Di0"
      },
      "source": [
        "# 1o Trabalho de PSD (notebook para preencher com os resultados)"
      ]
    },
    {
      "cell_type": "markdown",
      "metadata": {
        "id": "tN-Ek7Fu8Di5"
      },
      "source": [
        "### Número do Grupo : G04"
      ]
    },
    {
      "cell_type": "code",
      "metadata": {
        "colab": {
          "base_uri": "https://localhost:8080/"
        },
        "id": "0i6lxRDs8J22",
        "outputId": "d86483f2-cd1e-4b6a-eb37-19eaa3c9a06f"
      },
      "source": [
        "# REMOVER ISTO E TESTAR EM AMBIENTE LOCAL ANTES DE ENVIAR\n",
        "\n",
        "!pip install scikit_dsp_comm"
      ],
      "execution_count": 1,
      "outputs": [
        {
          "output_type": "stream",
          "name": "stdout",
          "text": [
            "Requirement already satisfied: scikit_dsp_comm in /usr/local/lib/python3.7/dist-packages (2.0.0)\n",
            "Requirement already satisfied: scipy in /usr/local/lib/python3.7/dist-packages (from scikit_dsp_comm) (1.4.1)\n",
            "Requirement already satisfied: numpy in /usr/local/lib/python3.7/dist-packages (from scikit_dsp_comm) (1.19.5)\n",
            "Requirement already satisfied: matplotlib in /usr/local/lib/python3.7/dist-packages (from scikit_dsp_comm) (3.2.2)\n",
            "Requirement already satisfied: pyparsing!=2.0.4,!=2.1.2,!=2.1.6,>=2.0.1 in /usr/local/lib/python3.7/dist-packages (from matplotlib->scikit_dsp_comm) (2.4.7)\n",
            "Requirement already satisfied: cycler>=0.10 in /usr/local/lib/python3.7/dist-packages (from matplotlib->scikit_dsp_comm) (0.10.0)\n",
            "Requirement already satisfied: kiwisolver>=1.0.1 in /usr/local/lib/python3.7/dist-packages (from matplotlib->scikit_dsp_comm) (1.3.1)\n",
            "Requirement already satisfied: python-dateutil>=2.1 in /usr/local/lib/python3.7/dist-packages (from matplotlib->scikit_dsp_comm) (2.8.2)\n",
            "Requirement already satisfied: six in /usr/local/lib/python3.7/dist-packages (from cycler>=0.10->matplotlib->scikit_dsp_comm) (1.15.0)\n"
          ]
        }
      ]
    },
    {
      "cell_type": "code",
      "metadata": {
        "jupyter": {
          "outputs_hidden": false
        },
        "id": "VL8D-64O8Di7"
      },
      "source": [
        "import sk_dsp_comm.sigsys as ss\n",
        "import numpy as np\n",
        "from matplotlib import pylab\n",
        "from pylab import *\n",
        "import scipy.signal as signal\n",
        "from IPython.display import Audio, display\n",
        "from IPython.display import Image, SVG"
      ],
      "execution_count": 2,
      "outputs": []
    },
    {
      "cell_type": "code",
      "metadata": {
        "jupyter": {
          "outputs_hidden": false
        },
        "id": "clbJleYj8DjB"
      },
      "source": [
        "pylab.rcParams['savefig.dpi'] = 100 # default 72\n",
        "pylab.rcParams['figure.figsize'] = (6.0, 4.0) # default (6,4)\n",
        "%config InlineBackend.figure_formats=['png'] # default for inline viewing\n",
        "#config InlineBackend.figure_formats=['svg'] # SVG inline viewing\n",
        "#%config InlineBackend.figure_formats=['pdf'] # render pdf figs for LaTeX"
      ],
      "execution_count": 3,
      "outputs": []
    },
    {
      "cell_type": "markdown",
      "metadata": {
        "id": "BL8ID_Kq8DjB"
      },
      "source": [
        "# Problema 1\n",
        " Usando a função stem() em Python calcule e plote as seguintes funções\n",
        "$$\n",
        "\\begin{align}\n",
        "    x_1[n] &= \\sin\\big(\\frac{\\pi}{5}n\\big),\\ 0\\leq n \\leq 15 \\\\\n",
        "    x_2[n] &= \\cos\\big(\\frac{3\\pi}{5}n\\big),\\ 0\\leq n \\leq 15 \\\\\n",
        "    x_3[n] &= \\sin\\big(\\frac{\\pi}{4}n\\big)\\cos\\big(\\frac{\\pi}{4}n\\big),\\ 0\\leq n \\leq 32\n",
        "\\end{align}\n",
        "$$\n",
        "Qual é o período da fundamental de cada sinail?"
      ]
    },
    {
      "cell_type": "markdown",
      "metadata": {
        "id": "fSD7Negr8DjC"
      },
      "source": [
        "## Parte a - sinal $x_1[n]$\n",
        "O período da fundamental, $N$, é 10\n",
        "\n",
        "`adicione o resultado aqui e explicação de como ele foi determinado`"
      ]
    },
    {
      "cell_type": "code",
      "metadata": {
        "id": "WrKW2y6D8DjC"
      },
      "source": [
        "def x1(n):\n",
        "   return np.sin((np.pi/5)*n)\n",
        "   \n",
        "n = np.arange(0, 16, dtype='int64')"
      ],
      "execution_count": 4,
      "outputs": []
    },
    {
      "cell_type": "code",
      "metadata": {
        "colab": {
          "base_uri": "https://localhost:8080/",
          "height": 281
        },
        "id": "V03zIhUp-mlF",
        "outputId": "61b5233d-a470-43d5-9536-7d7809b2bb65"
      },
      "source": [
        "stem(n, x1(n), use_line_collection=True)\n",
        "title('x1[n]')\n",
        "show()"
      ],
      "execution_count": 5,
      "outputs": [
        {
          "output_type": "display_data",
          "data": {
            "image/png": "[encoded data removed]",
            "text/plain": [
              "<Figure size 432x288 with 1 Axes>"
            ]
          },
          "metadata": {
            "needs_background": "light"
          }
        }
      ]
    },
    {
      "cell_type": "code",
      "metadata": {
        "id": "pmrm6XU9_gUr"
      },
      "source": [
        "def fundamental(omega): #pi/5 /pi\n",
        "  numerador = 2 * np.pi\n",
        "  if omega % np.pi == 0 or np.pi % (np.pi/5) == 0:\n",
        "    k = 1\n",
        "    while True:\n",
        "      N = (numerador * k / omega)\n",
        "      k += 1\n",
        "      if N.is_integer():\n",
        "        return N\n",
        "  return None"
      ],
      "execution_count": 6,
      "outputs": []
    },
    {
      "cell_type": "code",
      "metadata": {
        "colab": {
          "base_uri": "https://localhost:8080/"
        },
        "id": "wU9vMR28D_Qe",
        "outputId": "daca0e4f-6fde-41ed-b22a-ef4acb5db05f"
      },
      "source": [
        "periodo = fundamental(np.pi/5)\n",
        "print(periodo)"
      ],
      "execution_count": 7,
      "outputs": [
        {
          "output_type": "stream",
          "name": "stdout",
          "text": [
            "10.0\n"
          ]
        }
      ]
    },
    {
      "cell_type": "markdown",
      "metadata": {
        "id": "hZ0jeNeP8DjC"
      },
      "source": [
        "## Parte b - sinal $x_2[n]$\n",
        "O período da fundamental, $N$, é\n",
        "\n",
        "`adicione o resultado aqui e explicação de como ele foi determinado`"
      ]
    },
    {
      "cell_type": "code",
      "metadata": {
        "id": "gaRoTRM78DjD"
      },
      "source": [
        "# escreva o seu código aqui"
      ],
      "execution_count": 8,
      "outputs": []
    },
    {
      "cell_type": "markdown",
      "metadata": {
        "id": "aqE-RQ_K8DjD"
      },
      "source": [
        "## Parte c - sinal $x_3[n]$\n",
        "Para encontrar o período, primeiro expanda o produto usando uma relação trigonomêtrica apropriada:\n",
        "$$\n",
        "    x_3[n] = \\frac{1}{2}\\left[\\sin(0\\cdot n) + \\sin\\big(\\frac{\\pi}{2}n\\big)\\right], 0\\leq n\\leq 32\n",
        "$$\n",
        "Você deve escolher $N$ tal que $\\ldots$\n",
        "\n",
        "`adicione o resultado aqui e explicação de como ele foi determinado`\n"
      ]
    },
    {
      "cell_type": "code",
      "metadata": {
        "id": "Jz2h8Vjb8DjE"
      },
      "source": [
        "def x3(n):\n",
        "  return (1/2)*np.sin((n*np.pi)/2)\n",
        "n3 = np.arange(0,33,dtype='int64')"
      ],
      "execution_count": 9,
      "outputs": []
    },
    {
      "cell_type": "code",
      "metadata": {
        "colab": {
          "base_uri": "https://localhost:8080/",
          "height": 281
        },
        "id": "Oh0VnVnUHtOg",
        "outputId": "3865552c-31f3-48d3-b105-59a65e726c1e"
      },
      "source": [
        "stem(n3,x3(n3), use_line_collection=True)\n",
        "title('x3[n]')\n",
        "show()"
      ],
      "execution_count": 10,
      "outputs": [
        {
          "output_type": "display_data",
          "data": {
            "image/png": "[encoded data removed]",
            "text/plain": [
              "<Figure size 432x288 with 1 Axes>"
            ]
          },
          "metadata": {
            "needs_background": "light"
          }
        }
      ]
    },
    {
      "cell_type": "code",
      "metadata": {
        "colab": {
          "base_uri": "https://localhost:8080/"
        },
        "id": "lU2ZAFqbH7O2",
        "outputId": "9e7a115c-7827-41eb-86c3-782986c7467f"
      },
      "source": [
        "print(\"Período fundamental: \",fundamental(np.pi/2))"
      ],
      "execution_count": 11,
      "outputs": [
        {
          "output_type": "stream",
          "name": "stdout",
          "text": [
            "Período fundamental:  4.0\n"
          ]
        }
      ]
    },
    {
      "cell_type": "markdown",
      "metadata": {
        "id": "u-El1iCS8DjF"
      },
      "source": [
        "# Problema 2\n",
        "Usando a função `stem()` calcule e plote a o sinal\n",
        "$$\n",
        "x[n] = \\begin{cases}\n",
        "        2n+1, & -3\\leq n\\leq 3 \\\\\n",
        "        0, & \\text{otherwise}\n",
        "        \\end{cases}\n",
        "$$\n",
        "no intervalo $-8\\leq n\\leq 8$. \n",
        "\n",
        "OBS: Criar a função $x[n]$ sem o uso de loop!! Observe ainda que o módulo python “sk_dsp_comm.sigsys” possui a função drect() que serve para criar uma função janela - estude o exemplo python ex2.py fornecido na aba “Material para realização dos projetos”. "
      ]
    },
    {
      "cell_type": "code",
      "metadata": {
        "id": "5SpVwuww8DjG"
      },
      "source": [
        "n = np.arange(-8,9)\n",
        "x = (2*n + 1) * ss.drect(n+3, N=7)"
      ],
      "execution_count": 12,
      "outputs": []
    },
    {
      "cell_type": "code",
      "metadata": {
        "colab": {
          "base_uri": "https://localhost:8080/",
          "height": 281
        },
        "id": "ewepMeFyKhNN",
        "outputId": "ab8ca108-d556-4113-937a-db40cb7232b1"
      },
      "source": [
        "stem(n, x, use_line_collection=True)\n",
        "title('x[n]')\n",
        "show()"
      ],
      "execution_count": 13,
      "outputs": [
        {
          "output_type": "display_data",
          "data": {
            "image/png": "[encoded data removed]",
            "text/plain": [
              "<Figure size 432x288 with 1 Axes>"
            ]
          },
          "metadata": {
            "needs_background": "light"
          }
        }
      ]
    },
    {
      "cell_type": "markdown",
      "metadata": {
        "id": "AmHKLPFy8DjG"
      },
      "source": [
        "# Problema 3\n",
        "Usando a função `stem()` calcule e plote o sinal\n",
        "$$\n",
        "    x[n] = u[n]u[8-n] + u[n-2]-u[n-5]\n",
        "$$\n",
        "no intervalo $-2\\leq n\\leq 16$.  Observe que o módulo  `sigsys`  (aliased  como  `ss`)  possui a função `dstep()` definida, a qual pode tornar esse problema bastante simples.\n",
        "\n",
        "OBS: Estude os exemplos ex1.py e ex2.py fornecidos na aba “Material para realização dos projetos”."
      ]
    },
    {
      "cell_type": "markdown",
      "metadata": {
        "id": "SvSmQBb5FszR"
      },
      "source": [
        "**Solução:** Para resolução do problema proprosto é utilizado a função degrau, no intervalo de -2 a 17. A função degrau é dada por: \n",
        "\n",
        "$$\n",
        "y[n] = \\begin{cases}\n",
        "        1, &  n\\geq 0 \\\\\n",
        "        0, & \\text{otherwise}\n",
        "        \\end{cases}\n",
        "$$\n",
        "\n",
        "Inicialmente as funções degrau foram aplicadas por partes, a cada ocorrência, para observação de seu comportamento. E por fim implementou-se a equação total $x[n]$."
      ]
    },
    {
      "cell_type": "code",
      "metadata": {
        "id": "Al_zajKv8DjG"
      },
      "source": [
        "n = np.arange(-2, 16+1)\n",
        "\n",
        "x = ss.dstep(n) * ss.dstep(8-n) + ss.dstep(n-2) - ss.dstep(n-5)"
      ],
      "execution_count": 14,
      "outputs": []
    },
    {
      "cell_type": "code",
      "metadata": {
        "colab": {
          "base_uri": "https://localhost:8080/",
          "height": 586
        },
        "id": "FGCX9LXuM2VF",
        "outputId": "1edf6c41-d88b-42c5-bda2-fcafc66a32ee"
      },
      "source": [
        "fig, axs = plt.subplots(2, 1, sharey=True, figsize=(6.4, 9.6))\n",
        "\n",
        "axs[0].stem(n, ss.dstep(n), use_line_collection=True)\n",
        "axs[0].set_title('u[n]')\n",
        "\n",
        "axs[1].stem(n, ss.dstep(8-n), use_line_collection=True)\n",
        "axs[1].set_title('u[8-n]')\n",
        "\n",
        "show()"
      ],
      "execution_count": 15,
      "outputs": [
        {
          "output_type": "display_data",
          "data": {
            "image/png": "[encoded data removed]",
            "text/plain": [
              "<Figure size 460.8x691.2 with 2 Axes>"
            ]
          },
          "metadata": {
            "needs_background": "light"
          }
        }
      ]
    },
    {
      "cell_type": "code",
      "metadata": {
        "colab": {
          "base_uri": "https://localhost:8080/",
          "height": 586
        },
        "id": "F6briFc4QWIZ",
        "outputId": "7ae89825-394b-49dd-f323-84440a536362"
      },
      "source": [
        "fig, axs = plt.subplots(2, 1, sharey=True, figsize=(6.4, 9.6))\n",
        "axs[0].stem(n, ss.dstep(n)*ss.dstep(8-n), use_line_collection=True)\n",
        "axs[0].set_title('u[n] * u[8-n]')\n",
        "\n",
        "axs[1].stem(n, ss.dstep(n)*ss.dstep(8-n)+ss.dstep(n-2), use_line_collection=True)\n",
        "axs[1].set_title('u[n] * u[8-n] - u[n-2]')\n",
        "show()"
      ],
      "execution_count": 16,
      "outputs": [
        {
          "output_type": "display_data",
          "data": {
            "image/png": "[encoded data removed]",
            "text/plain": [
              "<Figure size 460.8x691.2 with 2 Axes>"
            ]
          },
          "metadata": {
            "needs_background": "light"
          }
        }
      ]
    },
    {
      "cell_type": "code",
      "metadata": {
        "id": "KVQ7MZwQHt_p",
        "colab": {
          "base_uri": "https://localhost:8080/",
          "height": 281
        },
        "outputId": "7636c4ba-43e5-4942-e765-b2551e5d8ce0"
      },
      "source": [
        "stem(n, ss.dstep(n)*ss.dstep(8-n)+ss.dstep(n-2)-ss.dstep(n-5), use_line_collection=True)\n",
        "title('x[n] = u[n] * u[8-n] + u[n-2] - u[n-5]')\n",
        "show()"
      ],
      "execution_count": 17,
      "outputs": [
        {
          "output_type": "display_data",
          "data": {
            "image/png": "[encoded data removed]",
            "text/plain": [
              "<Figure size 432x288 with 1 Axes>"
            ]
          },
          "metadata": {
            "needs_background": "light"
          }
        }
      ]
    },
    {
      "cell_type": "markdown",
      "metadata": {
        "id": "DAwmwPmX8DjH"
      },
      "source": [
        "# Problema 4\n",
        "Considere o sinal\n",
        "$$\n",
        "    y[n] = \\begin{cases}\n",
        "        2, & n=0 \\\\\n",
        "        1, & n=1 \\\\\n",
        "        -1, & n=3 \\\\\n",
        "        3, & n=4 \\\\\n",
        "        0, & \\text{caso contrário}\n",
        "    \\end{cases}\n",
        "$$"
      ]
    },
    {
      "cell_type": "markdown",
      "metadata": {
        "id": "4ez7LfJF8DjH"
      },
      "source": [
        "Escreva uma função python ($y[n]$) como indicado abaixo para que você possa responder as questões que seguem."
      ]
    },
    {
      "cell_type": "markdown",
      "metadata": {
        "id": "MeHRAzJlKV9E"
      },
      "source": [
        "**Solução:** Para este problema foi utilizada a função ***dimpulse*** que funciona de maneira semelhante à função degrau. No entanto o impulso ocorre apenas em $n=0$. Sendo assim a função é manipulada realizando o deslocando em cada termo desejado.\n",
        "\n",
        "* Vale salientar que foi utilizado o seguinte intervalo par testes: $-4 \\leq =n \\lt 10$"
      ]
    },
    {
      "cell_type": "code",
      "metadata": {
        "id": "RruipAgF8DjI"
      },
      "source": [
        "def y(n):\n",
        "    yy = 2*ss.dimpulse(n) + 1*ss.dimpulse(n-1) - ss.dimpulse(n-3) + 3*ss.dimpulse(n-4)\n",
        "    return yy"
      ],
      "execution_count": 18,
      "outputs": []
    },
    {
      "cell_type": "code",
      "metadata": {
        "id": "DWlRdj9ASoIt"
      },
      "source": [
        "n = np.arange(-4,10)"
      ],
      "execution_count": 19,
      "outputs": []
    },
    {
      "cell_type": "markdown",
      "metadata": {
        "id": "6DAT81Cs8DjI"
      },
      "source": [
        "## Parte a\n",
        "Usando a função `stem()` plote $z_1[n] = y[n-2]$."
      ]
    },
    {
      "cell_type": "code",
      "metadata": {
        "id": "gcKJ34tn8DjI",
        "colab": {
          "base_uri": "https://localhost:8080/",
          "height": 281
        },
        "outputId": "d2eec8e0-c60b-4c4c-dbd6-bac3061dc7ab"
      },
      "source": [
        "stem(n,y(n-2), use_line_collection=True)\n",
        "title('z1[n] = y[n−2]')\n",
        "show()"
      ],
      "execution_count": 20,
      "outputs": [
        {
          "output_type": "display_data",
          "data": {
            "image/png": "[encoded data removed]",
            "text/plain": [
              "<Figure size 432x288 with 1 Axes>"
            ]
          },
          "metadata": {
            "needs_background": "light"
          }
        }
      ]
    },
    {
      "cell_type": "markdown",
      "metadata": {
        "id": "k3jfTXHjO3Kr"
      },
      "source": [
        "**Explicação:** Nesta caso a entrada foi deslocada duas vezes à direita. Portanto a saída esperada no enunciado também sofreu este deslocamento. \n",
        "$$\n",
        "    z_{1}[n] = \\begin{cases}\n",
        "        2, & n=2 \\\\\n",
        "        1, & n=3 \\\\\n",
        "        -1, & n=5 \\\\\n",
        "        3, & n=6 \\\\\n",
        "        0, & \\text{caso contrário}\n",
        "    \\end{cases}\n",
        "$$"
      ]
    },
    {
      "cell_type": "markdown",
      "metadata": {
        "id": "N4LANS978DjI"
      },
      "source": [
        "## Parte b\n",
        "Usando a função `stem()` plote $z_2[n] = y[n+2]$."
      ]
    },
    {
      "cell_type": "code",
      "metadata": {
        "id": "Nkq9KK7j8DjI",
        "colab": {
          "base_uri": "https://localhost:8080/",
          "height": 281
        },
        "outputId": "ba3218e2-1d82-458d-b316-a2de980937bf"
      },
      "source": [
        "stem(n,y(n+2), use_line_collection=True)\n",
        "title('z2[n] = y[n+2]')\n",
        "show()"
      ],
      "execution_count": 21,
      "outputs": [
        {
          "output_type": "display_data",
          "data": {
            "image/png": "[encoded data removed]",
            "text/plain": [
              "<Figure size 432x288 with 1 Axes>"
            ]
          },
          "metadata": {
            "needs_background": "light"
          }
        }
      ]
    },
    {
      "cell_type": "markdown",
      "metadata": {
        "id": "rJeQVJ6sQcUi"
      },
      "source": [
        "**Explicação:** Nesta caso a entrada foi deslocada duas vezes à esquerda. Portanto a saída esperada no enunciado também sofreu este deslocamento. \n",
        "$$\n",
        "    z_{2}[n] = \\begin{cases}\n",
        "        2, & n=-2 \\\\\n",
        "        1, & n=-1 \\\\\n",
        "        -1, & n=1 \\\\\n",
        "        3, & n=2 \\\\\n",
        "        0, & \\text{caso contrário}\n",
        "    \\end{cases}\n",
        "$$"
      ]
    },
    {
      "cell_type": "markdown",
      "metadata": {
        "id": "7EtbBoJE8DjJ"
      },
      "source": [
        "## Parte c\n",
        "Usando a função `stem()` plote $z_3[n] = y[-n]$."
      ]
    },
    {
      "cell_type": "code",
      "metadata": {
        "id": "yl07b2UU8DjJ",
        "colab": {
          "base_uri": "https://localhost:8080/",
          "height": 281
        },
        "outputId": "574bf167-c144-4812-e191-c5b7a6e9086c"
      },
      "source": [
        "stem(n,y(-n), use_line_collection=True)\n",
        "title('z3[n] = y[−n]')\n",
        "show()"
      ],
      "execution_count": 22,
      "outputs": [
        {
          "output_type": "display_data",
          "data": {
            "image/png": "[encoded data removed]",
            "text/plain": [
              "<Figure size 432x288 with 1 Axes>"
            ]
          },
          "metadata": {
            "needs_background": "light"
          }
        }
      ]
    },
    {
      "cell_type": "markdown",
      "metadata": {
        "id": "1bUDgMHmQuM5"
      },
      "source": [
        "**Explicação:** Nesta caso a entrada sofreu ***flip***. Portanto a saída esperada no enunciado foi invertida. \n",
        "$$\n",
        "    z_{2}[n] = \\begin{cases}\n",
        "        2, & n= 0\\\\\n",
        "        1, & n=-1 \\\\\n",
        "        -1, & n=-2 \\\\\n",
        "        3, & n=-4 \\\\\n",
        "        0, & \\text{caso contrário}\n",
        "    \\end{cases}\n",
        "$$"
      ]
    },
    {
      "cell_type": "markdown",
      "metadata": {
        "id": "RjwtYFe08DjJ"
      },
      "source": [
        "# Problema 5\n",
        "Dado os sinais abaixo:\n",
        "$$\n",
        "\\begin{align}\n",
        "    x_1[n] &= \\{1,2,-3,2,1,1\\} \\;\\;\\;\\; h_1[n] = \\{1,2,-3\\}\\\\\n",
        "    x_2[n] &= \\{0,0,0,0,1,1,1,1,0,0,0,0,-1,-1,-1,-1,0,0,0,0\\}  \\;\\;\\;\\;  h_{2}[n]=\\{1,4,10,16,19,16,10,4,1\\}\n",
        "\\end{align}\n",
        "$$"
      ]
    },
    {
      "cell_type": "markdown",
      "metadata": {
        "id": "9kuuAe708DjJ"
      },
      "source": [
        "## Parte a\n",
        "Escrever uma função na linguagem python (__\"sem usar funções prontas de qualquer biblioteca\"__) para fazer a __convolução__ entre dois sinais unidimensionais (1D). "
      ]
    },
    {
      "cell_type": "markdown",
      "metadata": {
        "id": "P0V32rVd_0ww"
      },
      "source": [
        "**Solução:** Para a operação de convolução, usamos o método apresentado em aula de deslocar $h[n]$ (após fazer o *flip*) e preencher os espaços com zero. Consideramos que o elemento $n=0$ é o primeiro elemento de cada sinal.\n",
        "\n",
        "Para exemplificar, tomemos $x_1[n]$ e $h_1[n]$. Então, na primeira iteração teríamos a seguinte operação:\n",
        "\n",
        "```\n",
        "[ 0  0  1  2 -3  2  1  1  0  0 ]\n",
        "              *\n",
        "[-3  2  1  0  0  0  0  0  0  0 ]\n",
        "================================\n",
        "[ 0  0  1  0  0  0  0  0  0  0 ] (+)=> 1 = y[0]\n",
        "```\n",
        "\n",
        "Para a segunda iteração, teríamos:\n",
        "\n",
        "```\n",
        "[ 0  0  1  2 -3  2  1  1  0  0 ]\n",
        "              *\n",
        "[ 0 -3  2  1  0  0  0  0  0  0 ]\n",
        "================================\n",
        "[ 0  0  2  2  0  0  0  0  0  0 ] (+)=> 4 = y[1]\n",
        "```\n",
        "\n",
        "E assim por diante, até chegar ao fim de $x[n]$.\n",
        "\n",
        "Para implementação deste método, realizamos o preenchimento demonstrados com os zeros no início e no fim de $x[n]$, invertendo $h[n]$ e completando com zeros para que os sinais tenham o mesmo tamanho de lista. Então, para a saída $y[n]$, os elementos são \"pareados\" com a função ```zip()``` e a multiplicação dos pares de elementos é feita em uma *list comprehension*, cujo somatório é feito com ```sum()```. Para avançar no loop, como no método, $h[n]$ é rotacionado para a direita.\n"
      ]
    },
    {
      "cell_type": "code",
      "metadata": {
        "id": "P36SMAVfWYdF"
      },
      "source": [
        "def conv(x,h):\n",
        "  '''Recebe um sinal de entrada x[n] e uma resposta impulsiva h[n] e retorna a convolução y[n] dos dois sinais.'''\n",
        "\n",
        "  # Tamanho do preenchimento com 0s\n",
        "  tam_extra = len(h) - 1\n",
        "\n",
        "  # Preenche x[n] com 0s no começo e no fim\n",
        "  x = tam_extra * [0] + x + tam_extra * [0]\n",
        "\n",
        "  # Inverte h[n] e preenche com 0s até o tamanho de x[n]\n",
        "  h = h[::-1] + (len(x)-len(h)) * [0]\n",
        "\n",
        "  # Saída\n",
        "  y = []\n",
        "\n",
        "  for _ in range(len(x) - tam_extra):\n",
        "    # Somatório dos produtos dos elementos de x e h\n",
        "    yn = sum([a * b for a, b in zip(x, h)])\n",
        "    y.append(yn)\n",
        "\n",
        "    # Deslocamento de h para a direita\n",
        "    h = [0] + h[:-1]\n",
        "  \n",
        "  return y"
      ],
      "execution_count": 23,
      "outputs": []
    },
    {
      "cell_type": "markdown",
      "metadata": {
        "id": "7deNHhhU8DjK"
      },
      "source": [
        "## Parte b\n",
        "Faça a convolução entre os sinais $x_1*h_1$ e $x_2*h_2$ e plote usando a função stem os sinais originais e os resultados das convoluções."
      ]
    },
    {
      "cell_type": "code",
      "metadata": {
        "id": "7rl7VkWe8DjL"
      },
      "source": [
        "# Definição dos sinais x1 e h1\n",
        "x1 = [1, 2, -3, 2, 1, 1]\n",
        "h1 = [1, 2, -3]\n",
        "\n",
        "# Definição dos sinais x2 e h2\n",
        "x2 = [0, 0, 0, 0, 1, 1, 1, 1, 0, 0, 0, 0, -1, -1, -1, -1, 0, 0, 0, 0]\n",
        "h2 = [1, 4, 10, 16, 19, 16, 10, 4, 1]"
      ],
      "execution_count": 24,
      "outputs": []
    },
    {
      "cell_type": "markdown",
      "metadata": {
        "id": "N-JI1O8hVeyR"
      },
      "source": [
        "### $x_1 * h_1$\n",
        "Abaixo estão os gráficos dos sinais originais $x_1[n]$ e $h_1[n]$ e o gráfico do resultado da convolução entre os dois sinais, $y_1[n]$."
      ]
    },
    {
      "cell_type": "code",
      "metadata": {
        "id": "t8AxQa0LSTZ4",
        "colab": {
          "base_uri": "https://localhost:8080/",
          "height": 499
        },
        "outputId": "193ec0eb-d4ba-4013-b75e-41cf435fca0b"
      },
      "source": [
        "fig = figure(figsize=(6,8))\n",
        "\n",
        "sub1 = fig.add_subplot(211)\n",
        "sub1.set_title('x1[n]')\n",
        "sub1.stem(x1, use_line_collection=True)\n",
        "\n",
        "sub2 = fig.add_subplot(212)\n",
        "sub2.set_title('h1[n]')\n",
        "sub2.stem(h1, use_line_collection=True)\n",
        "\n",
        "show()"
      ],
      "execution_count": 25,
      "outputs": [
        {
          "output_type": "display_data",
          "data": {
            "image/png": "[encoded data removed]",
            "text/plain": [
              "<Figure size 432x576 with 2 Axes>"
            ]
          },
          "metadata": {
            "needs_background": "light"
          }
        }
      ]
    },
    {
      "cell_type": "code",
      "metadata": {
        "colab": {
          "base_uri": "https://localhost:8080/",
          "height": 281
        },
        "id": "33XlTP4aoPLa",
        "outputId": "6d996e7d-baaa-428d-9eb6-db6c96c229e6"
      },
      "source": [
        "conv_x1_h1 = conv(x1,h1)\n",
        "\n",
        "stem(conv_x1_h1, use_line_collection=True)\n",
        "plt.title('y1[n] = x1[n] * h1[n]')\n",
        "show()"
      ],
      "execution_count": 26,
      "outputs": [
        {
          "output_type": "display_data",
          "data": {
            "image/png": "[encoded data removed]",
            "text/plain": [
              "<Figure size 432x288 with 1 Axes>"
            ]
          },
          "metadata": {
            "needs_background": "light"
          }
        }
      ]
    },
    {
      "cell_type": "markdown",
      "metadata": {
        "id": "y-67R349Vx-G"
      },
      "source": [
        "### $x_2 * h_2$\n",
        "Abaixo estão os gráficos dos sinais originais $x_2[n]$ e $h_2[n]$ e o gráfico do resultado da convolução entre os dois sinais, $y_2[n]$."
      ]
    },
    {
      "cell_type": "code",
      "metadata": {
        "id": "CdQauScgU3u-",
        "colab": {
          "base_uri": "https://localhost:8080/",
          "height": 499
        },
        "outputId": "5d02d8f9-d088-41df-e7c5-0c0adb0f50fa"
      },
      "source": [
        "fig = figure(figsize=(6,8))\n",
        "\n",
        "sub1 = fig.add_subplot(211)\n",
        "sub1.set_title('x2[n]')\n",
        "sub1.stem(x2, use_line_collection=True)\n",
        "\n",
        "sub2 = fig.add_subplot(212)\n",
        "sub2.set_title('h2[n]')\n",
        "sub2.stem(h2, use_line_collection=True)\n",
        "\n",
        "show()"
      ],
      "execution_count": 27,
      "outputs": [
        {
          "output_type": "display_data",
          "data": {
            "image/png": "[encoded data removed]",
            "text/plain": [
              "<Figure size 432x576 with 2 Axes>"
            ]
          },
          "metadata": {
            "needs_background": "light"
          }
        }
      ]
    },
    {
      "cell_type": "code",
      "metadata": {
        "colab": {
          "base_uri": "https://localhost:8080/",
          "height": 281
        },
        "id": "0Lk3syJvcrIr",
        "outputId": "3a056a39-4d32-4140-dd27-628d63fca27d"
      },
      "source": [
        "conv_x2_h2 = conv(x2,h2)\n",
        "\n",
        "stem(conv_x2_h2, use_line_collection=True)\n",
        "plt.title('y2[n] = x2[n] * h2[n]')\n",
        "show()"
      ],
      "execution_count": 28,
      "outputs": [
        {
          "output_type": "display_data",
          "data": {
            "image/png": "[encoded data removed]",
            "text/plain": [
              "<Figure size 432x288 with 1 Axes>"
            ]
          },
          "metadata": {
            "needs_background": "light"
          }
        }
      ]
    },
    {
      "cell_type": "markdown",
      "metadata": {
        "id": "VU95n2UI8DjN"
      },
      "source": [
        "## Parte c\n",
        "De maneira similar à \"Parte b\" do exercício, usando __o mesmo código da função convolução__, faça a __correlação__ entre os sinais e plote os resultados.\n",
        "\n",
        "Dica, lembre-se que:\n",
        "\n",
        "Convolução: $ y[n] = \\sum_{k=-\\infty}^{\\infty} x[k]h[n-k]$\n",
        "\n",
        "Correlação: $ y[n] = \\sum_{k=-\\infty}^{\\infty} x[k]h[n+k]$"
      ]
    },
    {
      "cell_type": "markdown",
      "metadata": {
        "id": "3TGadRXbXgaz"
      },
      "source": [
        "**Solução:** A implementação da função de correlação é bastante similar à função apresentada de convolução na **Parte a**. A única mudança feita foi que o sinal de $h[n]$ não recebe mais um *flip*, mas sim utilizado em sua ordem original."
      ]
    },
    {
      "cell_type": "code",
      "metadata": {
        "id": "61kwppzGWRTu"
      },
      "source": [
        "def corr(x,h):\n",
        "  '''Recebe um sinal de entrada x[n] e uma resposta impulsiva h[n] e retorna a correlação y[n] dos dois sinais.'''\n",
        "\n",
        "  # Tamanho do preenchimento com 0s\n",
        "  tam_extra = len(h) - 1\n",
        "\n",
        "  # Preenche x[n] com 0s no começo e no fim\n",
        "  x = tam_extra * [0] + x + tam_extra * [0]\n",
        "\n",
        "  # Preenche h[n] com 0s até o tamanho de x[n]\n",
        "  h = h + (len(x)-len(h)) * [0]\n",
        "\n",
        "  # Saída\n",
        "  y = []\n",
        "\n",
        "  for _ in range(len(x) - tam_extra):\n",
        "    # Somatório dos produtos dos elementos de x e h\n",
        "    yn = sum([a * b for a, b in zip(x, h)])\n",
        "    y.append(yn)\n",
        "\n",
        "    # Deslocamento de h para a direita\n",
        "    h = [0] + h[:-1]\n",
        "  \n",
        "  return y"
      ],
      "execution_count": 29,
      "outputs": []
    },
    {
      "cell_type": "markdown",
      "metadata": {
        "id": "gHdu2fy2YJ6U"
      },
      "source": [
        "### $\\text{corr(}x_1, h_1\\text{)}$\n",
        "Abaixo está o gráfico do resultado da correlação $y_1[n]$ entre os sinais $x_1[n]$ e $h_1[n]$."
      ]
    },
    {
      "cell_type": "code",
      "metadata": {
        "colab": {
          "base_uri": "https://localhost:8080/",
          "height": 281
        },
        "id": "Ou4HZuzop_ZM",
        "outputId": "450b9a97-abfc-4b58-e07d-d5007bfdd324"
      },
      "source": [
        "corr_x1_h1 = corr(x1,h1)\n",
        "\n",
        "stem(corr_x1_h1, use_line_collection=True)\n",
        "plt.title('y1[n] = corr(x1[n], h1[n])')\n",
        "show()"
      ],
      "execution_count": 30,
      "outputs": [
        {
          "output_type": "display_data",
          "data": {
            "image/png": "[encoded data removed]",
            "text/plain": [
              "<Figure size 432x288 with 1 Axes>"
            ]
          },
          "metadata": {
            "needs_background": "light"
          }
        }
      ]
    },
    {
      "cell_type": "markdown",
      "metadata": {
        "id": "8Hfv3WKNYWie"
      },
      "source": [
        "### $\\text{corr(}x_2, h_2\\text{)}$\n",
        "Abaixo está o gráfico do resultado da correlação $y_2[n]$ entre os sinais $x_2[n]$ e $h_2[n]$."
      ]
    },
    {
      "cell_type": "code",
      "metadata": {
        "colab": {
          "base_uri": "https://localhost:8080/",
          "height": 281
        },
        "id": "cTiEch2RdkTi",
        "outputId": "310885df-a9d6-4911-ba8e-34e7357492c2"
      },
      "source": [
        "corr_x2_h2 = corr(x2,h2)\n",
        "\n",
        "stem(corr_x2_h2, use_line_collection=True)\n",
        "plt.title('y2[n] = corr(x2[n], h2[n])')\n",
        "show()"
      ],
      "execution_count": 31,
      "outputs": [
        {
          "output_type": "display_data",
          "data": {
            "image/png": "[encoded data removed]",
            "text/plain": [
              "<Figure size 432x288 with 1 Axes>"
            ]
          },
          "metadata": {
            "needs_background": "light"
          }
        }
      ]
    },
    {
      "cell_type": "markdown",
      "metadata": {
        "id": "MPgK5Fgm8DjP"
      },
      "source": [
        "## Parte d\n",
        "Utilize agora a função da biblioteca numpy (numpy.convolve) para realizar as mesmas convoluções da \"Parte a\". Use a função numpy.convolve - mode{‘full’} e discuta os resultados."
      ]
    },
    {
      "cell_type": "code",
      "metadata": {
        "id": "YdNr6odo8DjP",
        "colab": {
          "base_uri": "https://localhost:8080/",
          "height": 281
        },
        "outputId": "921311d0-1350-4379-fb35-3dc2a2686537"
      },
      "source": [
        "np_conv_x1_h1 = np.convolve(x1, h1, mode='full')\n",
        "\n",
        "stem(np_conv_x1_h1, use_line_collection=True)\n",
        "plt.title('y1[n] = x1[n] * h1[n]')\n",
        "show()"
      ],
      "execution_count": 32,
      "outputs": [
        {
          "output_type": "display_data",
          "data": {
            "image/png": "[encoded data removed]",
            "text/plain": [
              "<Figure size 432x288 with 1 Axes>"
            ]
          },
          "metadata": {
            "needs_background": "light"
          }
        }
      ]
    },
    {
      "cell_type": "code",
      "metadata": {
        "id": "FW-eIUr6b1Gt",
        "colab": {
          "base_uri": "https://localhost:8080/"
        },
        "outputId": "7351a44e-b7fc-4047-ec02-bcd761750c04"
      },
      "source": [
        "print('Implementação própria:')\n",
        "print('\\ty1[n] =', conv_x1_h1)\n",
        "print('NumPy:')\n",
        "print('\\ty1[n] =', list(np_conv_x1_h1))"
      ],
      "execution_count": 33,
      "outputs": [
        {
          "output_type": "stream",
          "name": "stdout",
          "text": [
            "Implementação própria:\n",
            "\ty1[n] = [1, 4, -2, -10, 14, -3, -1, -3]\n",
            "NumPy:\n",
            "\ty1[n] = [1, 4, -2, -10, 14, -3, -1, -3]\n"
          ]
        }
      ]
    },
    {
      "cell_type": "code",
      "metadata": {
        "id": "Gow8_Qfkcrva",
        "colab": {
          "base_uri": "https://localhost:8080/"
        },
        "outputId": "1e7340f9-387a-4d16-ff39-c12ad0c361d5"
      },
      "source": [
        "print(conv_x1_h1 == list(np_conv_x1_h1))"
      ],
      "execution_count": 34,
      "outputs": [
        {
          "output_type": "stream",
          "name": "stdout",
          "text": [
            "True\n"
          ]
        }
      ]
    },
    {
      "cell_type": "code",
      "metadata": {
        "colab": {
          "base_uri": "https://localhost:8080/",
          "height": 281
        },
        "id": "eL4siDGweQ7-",
        "outputId": "f3b3e17f-ea7d-4b88-a1ac-80286638a459"
      },
      "source": [
        "np_conv_x2_h2 = np.convolve(x2, h2, mode='full')\n",
        "\n",
        "stem(np_conv_x2_h2, use_line_collection=True)\n",
        "plt.title('y2[n] = x2[n] * h2[n]')\n",
        "show()"
      ],
      "execution_count": 35,
      "outputs": [
        {
          "output_type": "display_data",
          "data": {
            "image/png": "[encoded data removed]",
            "text/plain": [
              "<Figure size 432x288 with 1 Axes>"
            ]
          },
          "metadata": {
            "needs_background": "light"
          }
        }
      ]
    },
    {
      "cell_type": "code",
      "metadata": {
        "id": "65DEF9GFcWMO",
        "colab": {
          "base_uri": "https://localhost:8080/"
        },
        "outputId": "06f38fb3-2553-4349-f7a8-0a84dcf7667d"
      },
      "source": [
        "print('Implementação própria:')\n",
        "print('\\ty2[n] =', conv_x2_h2)\n",
        "print('NumPy:')\n",
        "print('\\ty2[n] =', list(np_conv_x2_h2))"
      ],
      "execution_count": 36,
      "outputs": [
        {
          "output_type": "stream",
          "name": "stdout",
          "text": [
            "Implementação própria:\n",
            "\ty2[n] = [0, 0, 0, 0, 1, 5, 15, 31, 49, 61, 61, 49, 30, 10, -10, -30, -49, -61, -61, -49, -31, -15, -5, -1, 0, 0, 0, 0]\n",
            "NumPy:\n",
            "\ty2[n] = [0, 0, 0, 0, 1, 5, 15, 31, 49, 61, 61, 49, 30, 10, -10, -30, -49, -61, -61, -49, -31, -15, -5, -1, 0, 0, 0, 0]\n"
          ]
        }
      ]
    },
    {
      "cell_type": "code",
      "metadata": {
        "id": "tsOm7IbacpdE",
        "colab": {
          "base_uri": "https://localhost:8080/"
        },
        "outputId": "9158b2f3-423c-4e4d-cde9-ac20f83ee005"
      },
      "source": [
        "print(conv_x2_h2 == list(np_conv_x2_h2))"
      ],
      "execution_count": 37,
      "outputs": [
        {
          "output_type": "stream",
          "name": "stdout",
          "text": [
            "True\n"
          ]
        }
      ]
    },
    {
      "cell_type": "markdown",
      "metadata": {
        "id": "itc4_Y3oaE0s"
      },
      "source": [
        "Podemos ver que a implementação feita pelo grupo obteve exatamente os mesmos resultados que a função do NumPy, sem considerar as questões de desempenho. Enquanto nossa solução apresentada foi iterativa, as funções da biblioteca provavelmente são mais otimizadas (e paralelizadas), fazendo uso de suas estruturas de dados especializadas."
      ]
    }
  ]
}