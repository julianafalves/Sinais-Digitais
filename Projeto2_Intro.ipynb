{
  "nbformat": 4,
  "nbformat_minor": 0,
  "metadata": {
    "colab": {
      "name": "Projeto2.ipynb",
      "provenance": [],
      "include_colab_link": true
    },
    "kernelspec": {
      "name": "python3",
      "display_name": "Python 3"
    },
    "language_info": {
      "name": "python"
    }
  },
  "cells": [
    {
      "cell_type": "markdown",
      "metadata": {
        "id": "view-in-github",
        "colab_type": "text"
      },
      "source": [
        "<a href=\"https://colab.research.google.com/github/julianafalves/Sinais-Digitais/blob/main/Projeto2_Intro.ipynb\" target=\"_parent\"><img src=\"https://colab.research.google.com/assets/colab-badge.svg\" alt=\"Open In Colab\"/></a>"
      ]
    },
    {
      "cell_type": "code",
      "metadata": {
        "colab": {
          "base_uri": "https://localhost:8080/"
        },
        "id": "SQKQUmFX4wPB",
        "outputId": "22433fc7-a2da-4f27-fc6d-44ffe8fd0c23"
      },
      "source": [
        "!pip install scikit_dsp_comm"
      ],
      "execution_count": 1,
      "outputs": [
        {
          "output_type": "stream",
          "name": "stdout",
          "text": [
            "Collecting scikit_dsp_comm\n",
            "  Downloading scikit_dsp_comm-2.0.0-py3-none-any.whl (90 kB)\n",
            "\u001b[?25l\r\u001b[K     |███▋                            | 10 kB 23.4 MB/s eta 0:00:01\r\u001b[K     |███████▏                        | 20 kB 27.4 MB/s eta 0:00:01\r\u001b[K     |██████████▉                     | 30 kB 28.1 MB/s eta 0:00:01\r\u001b[K     |██████████████▍                 | 40 kB 29.7 MB/s eta 0:00:01\r\u001b[K     |██████████████████              | 51 kB 31.8 MB/s eta 0:00:01\r\u001b[K     |█████████████████████▋          | 61 kB 33.6 MB/s eta 0:00:01\r\u001b[K     |█████████████████████████▎      | 71 kB 33.9 MB/s eta 0:00:01\r\u001b[K     |████████████████████████████▉   | 81 kB 35.9 MB/s eta 0:00:01\r\u001b[K     |████████████████████████████████| 90 kB 8.5 MB/s \n",
            "\u001b[?25hRequirement already satisfied: scipy in /usr/local/lib/python3.7/dist-packages (from scikit_dsp_comm) (1.4.1)\n",
            "Requirement already satisfied: numpy in /usr/local/lib/python3.7/dist-packages (from scikit_dsp_comm) (1.19.5)\n",
            "Requirement already satisfied: matplotlib in /usr/local/lib/python3.7/dist-packages (from scikit_dsp_comm) (3.2.2)\n",
            "Requirement already satisfied: pyparsing!=2.0.4,!=2.1.2,!=2.1.6,>=2.0.1 in /usr/local/lib/python3.7/dist-packages (from matplotlib->scikit_dsp_comm) (2.4.7)\n",
            "Requirement already satisfied: python-dateutil>=2.1 in /usr/local/lib/python3.7/dist-packages (from matplotlib->scikit_dsp_comm) (2.8.2)\n",
            "Requirement already satisfied: kiwisolver>=1.0.1 in /usr/local/lib/python3.7/dist-packages (from matplotlib->scikit_dsp_comm) (1.3.2)\n",
            "Requirement already satisfied: cycler>=0.10 in /usr/local/lib/python3.7/dist-packages (from matplotlib->scikit_dsp_comm) (0.10.0)\n",
            "Requirement already satisfied: six in /usr/local/lib/python3.7/dist-packages (from cycler>=0.10->matplotlib->scikit_dsp_comm) (1.15.0)\n",
            "Installing collected packages: scikit-dsp-comm\n",
            "Successfully installed scikit-dsp-comm-2.0.0\n"
          ]
        }
      ]
    },
    {
      "cell_type": "code",
      "metadata": {
        "id": "2z1LJeBy32Nk"
      },
      "source": [
        "import sk_dsp_comm.sigsys as ss\n",
        "import numpy as np\n",
        "from scipy import fftpack\n",
        "import matplotlib.pyplot as plt\n",
        "from matplotlib import pylab\n",
        "from pylab import *"
      ],
      "execution_count": 2,
      "outputs": []
    },
    {
      "cell_type": "code",
      "metadata": {
        "id": "sm5qZ5y84pNn"
      },
      "source": [
        "pylab.rcParams['savefig.dpi'] = 100 # default 72\n",
        "pylab.rcParams['figure.figsize'] = (6.0, 4.0) # default (6,4)\n",
        "%config InlineBackend.figure_formats=['png'] # default for inline viewing\n",
        "#config InlineBackend.figure_formats=['svg'] # SVG inline viewing\n",
        "#%config InlineBackend.figure_formats=['pdf'] # render pdf figs for LaTeX"
      ],
      "execution_count": 3,
      "outputs": []
    },
    {
      "cell_type": "markdown",
      "metadata": {
        "id": "TENE1d9B7H4g"
      },
      "source": [
        "## Acyclic convolution in matlab"
      ]
    },
    {
      "cell_type": "markdown",
      "metadata": {
        "id": "yhM0xlsZ3kax"
      },
      "source": [
        "A convolução cíclica, também conhecida como circular, é a convolução de dois sinais de funções periódicas que possuem o mesmo período. Quando são adicionados zeros o suficiente a direita dos sinais sendo convoluídos, é possível conseguir uma convolução acíclica dentro da convolução cíclica.\n",
        "\n",
        "O calculo calculo da convolução cíclica pode ser realizado diretamente no domínio do tempo ou no domínio da frequência com a FFT (que é mais rápida). Apesar da FFT ser utilizada para convoluções cíclicas é possível utiliza-lá em convoluções acíclicas adicionando zeros á direita do sinal."
      ]
    },
    {
      "cell_type": "code",
      "metadata": {
        "colab": {
          "base_uri": "https://localhost:8080/"
        },
        "id": "Jnqymxl94rm8",
        "outputId": "6f19e606-d6d5-4a6f-a52c-c202065c53fa"
      },
      "source": [
        "# Convolução acíclica\n",
        "np.convolve([1,2], [3,4])"
      ],
      "execution_count": 4,
      "outputs": [
        {
          "output_type": "execute_result",
          "data": {
            "text/plain": [
              "array([ 3, 10,  8])"
            ]
          },
          "metadata": {},
          "execution_count": 4
        }
      ]
    },
    {
      "cell_type": "code",
      "metadata": {
        "colab": {
          "base_uri": "https://localhost:8080/"
        },
        "id": "SfNAwpMp5F3I",
        "outputId": "265eb3f2-ab2d-40f0-fd7f-ab032e49d165"
      },
      "source": [
        "#Convolução acíclica como filter primitive\n",
        "np.convolve([1,2], [3,4], mode='same')"
      ],
      "execution_count": 8,
      "outputs": [
        {
          "output_type": "execute_result",
          "data": {
            "text/plain": [
              "array([ 3, 10])"
            ]
          },
          "metadata": {},
          "execution_count": 8
        }
      ]
    },
    {
      "cell_type": "code",
      "metadata": {
        "colab": {
          "base_uri": "https://localhost:8080/"
        },
        "id": "Eqt7MfNZ5-MO",
        "outputId": "59379385-5cc3-4fb4-8763-1e645ec6ded6"
      },
      "source": [
        "np.convolve([1,2], [3,4,0], mode='same')"
      ],
      "execution_count": 9,
      "outputs": [
        {
          "output_type": "execute_result",
          "data": {
            "text/plain": [
              "array([ 3, 10,  8])"
            ]
          },
          "metadata": {},
          "execution_count": 9
        }
      ]
    },
    {
      "cell_type": "markdown",
      "metadata": {
        "id": "zfvK_sHy7K3J"
      },
      "source": [
        "## Acyclic FFT convolution in matlab"
      ]
    },
    {
      "cell_type": "code",
      "metadata": {
        "id": "9PFyFxy_7EMH"
      },
      "source": [
        "def nextpow2(x):\n",
        "    return 1 if x == 0 else (x - 1).bit_length()"
      ],
      "execution_count": 10,
      "outputs": []
    },
    {
      "cell_type": "code",
      "metadata": {
        "id": "YvklnDG76Cwe"
      },
      "source": [
        "#realizando a FFT dos sinais x e h\n",
        "x = [1, 2, 3, 4]\n",
        "h = [1, 1, 1]\n",
        "\n",
        "nx = len(x)\n",
        "nh = len(h)\n",
        "nfft = 2**nextpow2(nx+nh-1)\n",
        "xzp = x + [0] * (nfft-nx)\n",
        "hzp = h + [0] * (nfft-nh)\n",
        "X = np.fft.fft(xzp)\n",
        "H = np.fft.fft(hzp)"
      ],
      "execution_count": 11,
      "outputs": []
    },
    {
      "cell_type": "code",
      "metadata": {
        "colab": {
          "base_uri": "https://localhost:8080/"
        },
        "id": "-cTno7cG8Ue7",
        "outputId": "8f22fa64-f7bd-4d88-b3d5-61629459f1bb"
      },
      "source": [
        "#Saída das FFT de x e h\n",
        "print('X:')\n",
        "print(X)\n",
        "\n",
        "print('H:')\n",
        "print(H)"
      ],
      "execution_count": 12,
      "outputs": [
        {
          "output_type": "stream",
          "name": "stdout",
          "text": [
            "X:\n",
            "[10.        +0.j         -0.41421356-7.24264069j -2.        +2.j\n",
            "  2.41421356-1.24264069j -2.        +0.j          2.41421356+1.24264069j\n",
            " -2.        -2.j         -0.41421356+7.24264069j]\n",
            "H:\n",
            "[3.        +0.j         1.70710678-1.70710678j 0.        -1.j\n",
            " 0.29289322+0.29289322j 1.        +0.j         0.29289322-0.29289322j\n",
            " 0.        +1.j         1.70710678+1.70710678j]\n"
          ]
        }
      ]
    },
    {
      "cell_type": "code",
      "metadata": {
        "id": "fxfJhwuv8-JR"
      },
      "source": [
        "Y = X * H # multiplicação dos termos\n",
        "y = np.real(np.fft.ifft(Y))  #Transformada inversa de Fourier\n",
        "yt = y[:nx+nh-1]\n",
        "yc = np.convolve(x,h)  #convolução direta apenas para comparar os resultados"
      ],
      "execution_count": 14,
      "outputs": []
    },
    {
      "cell_type": "code",
      "metadata": {
        "colab": {
          "base_uri": "https://localhost:8080/"
        },
        "id": "cK0PEyWH9Wr2",
        "outputId": "afd5c9cc-b8b9-4046-976b-b45aa7926386"
      },
      "source": [
        "print(yt)\n",
        "print(yc)"
      ],
      "execution_count": 15,
      "outputs": [
        {
          "output_type": "stream",
          "name": "stdout",
          "text": [
            "[1. 3. 6. 9. 7. 4.]\n",
            "[1 3 6 9 7 4]\n"
          ]
        }
      ]
    },
    {
      "cell_type": "markdown",
      "metadata": {
        "id": "EYn78rvt_Si0"
      },
      "source": [
        "Um exemplo de implementação da convolução por FFT é em aplicações de filtros FIR de áudio digital. Ele é caracterizado por uma resposta ao impulso que após determinado tempo torna-se nula. Em sua implementação para audio digital, é utilizado  uma largura de banda crítica de audicão que define o termo \"tempo de integralização\", quando o filtro FIR é menor do que este \"tempo de integração\" o sinal é pesepctivamente instântaneo.\n",
        "\n",
        " O exemplo a seguir exemplifica esta explicação."
      ]
    }
  ]
}